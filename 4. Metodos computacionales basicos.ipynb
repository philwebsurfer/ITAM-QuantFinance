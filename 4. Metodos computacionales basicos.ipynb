{
 "cells": [
  {
   "cell_type": "markdown",
   "metadata": {},
   "source": [
    "# 4. Metodos computacionales basicos\n",
    "\n",
    "### Finanzas Cuantitativas y Ciencia de Datos\n",
    "#### Rodrigo Lugo Frias y León Berdichevsky Acosta\n",
    "#### ITAM Primavera 2019\n",
    "\n",
    "_INSTRUCCIONES:_\n",
    "* Todas las celdas se corren haciendo __Shift + Enter__ o __Ctrl + Enter__\n",
    "\n",
    "_NOTAS:_\n",
    "* _Notebook adaptado de distintas fuentes y proyectos personales_\n",
    "___\n",
    "\n",
    "## Contenido\n",
    "\n",
    "1. __Series de Precios__\n",
    "2. __Modelo de Regresion__\n",
    "3. __Frontera Eficiente__\n",
    "\n",
    "___"
   ]
  },
  {
   "cell_type": "code",
   "execution_count": null,
   "metadata": {
    "collapsed": true
   },
   "outputs": [],
   "source": [
    "# import utils.frontera_eficiente\n",
    "\n",
    "# Import libraries\n",
    "import pandas as pd\n",
    "import numpy as np\n",
    "import matplotlib.pyplot as plt\n",
    "import seaborn as sns\n",
    "sns.set(font_scale=1.5)\n",
    "import datetime as dt\n",
    "# Inline command for matplotlib\n",
    "%matplotlib inline\n",
    "\n",
    "#Silence all warnings\n",
    "import warnings\n",
    "warnings.filterwarnings('ignore')"
   ]
  },
  {
   "cell_type": "markdown",
   "metadata": {},
   "source": [
    "## Analisis y exploracion del set de datos"
   ]
  },
  {
   "cell_type": "code",
   "execution_count": null,
   "metadata": {},
   "outputs": [],
   "source": [
    "# Serie de precios del Futuro del EURO\n",
    "df = pd.read_csv(\"data/euro_future.csv\",index_col=0)\n",
    "df.index = pd.to_datetime(df.index, format = '%Y%m%d')\n",
    "df = df[['DOpen','DHigh','DLow','DClose']]\n",
    "df = df.tail(252)\n",
    "df.tail()"
   ]
  },
  {
   "cell_type": "markdown",
   "metadata": {},
   "source": [
    "### Serie de precios"
   ]
  },
  {
   "cell_type": "code",
   "execution_count": null,
   "metadata": {},
   "outputs": [],
   "source": [
    "fig, ax = plt.subplots()\n",
    "df.plot(ax=ax, figsize=(10,7))\n",
    "ax.set_xlabel('Date')\n",
    "ax.set_ylabel('Price ECH8')\n",
    "plt.show()"
   ]
  },
  {
   "cell_type": "markdown",
   "metadata": {},
   "source": [
    "### Info descriptiva del set de datos"
   ]
  },
  {
   "cell_type": "code",
   "execution_count": null,
   "metadata": {},
   "outputs": [],
   "source": [
    "df.describe()"
   ]
  },
  {
   "cell_type": "markdown",
   "metadata": {},
   "source": [
    "### Histograma"
   ]
  },
  {
   "cell_type": "code",
   "execution_count": null,
   "metadata": {},
   "outputs": [],
   "source": [
    "fig, ax = plt.subplots()\n",
    "df.plot.hist(ax=ax, figsize=(10,7), bins=15)\n",
    "ax.set_xlabel('Price ECH8')\n",
    "ax.set_ylabel('???')\n",
    "ax.set_title('Histogram')\n",
    "plt.show()"
   ]
  },
  {
   "cell_type": "markdown",
   "metadata": {},
   "source": [
    "### Densidad de probabilidad"
   ]
  },
  {
   "cell_type": "code",
   "execution_count": null,
   "metadata": {},
   "outputs": [],
   "source": [
    "fig, ax = plt.subplots()\n",
    "df.plot.density(ax=ax, figsize=(10,7))\n",
    "ax.set_xlabel('Price ECH8')\n",
    "ax.set_ylabel('')\n",
    "ax.set_title('Prob. Density')\n",
    "plt.show()"
   ]
  },
  {
   "cell_type": "markdown",
   "metadata": {},
   "source": [
    "### Serie de rendimientos"
   ]
  },
  {
   "cell_type": "code",
   "execution_count": null,
   "metadata": {},
   "outputs": [],
   "source": [
    "ret = df.diff()\n",
    "ret.tail()"
   ]
  },
  {
   "cell_type": "code",
   "execution_count": null,
   "metadata": {},
   "outputs": [],
   "source": [
    "ret.describe()"
   ]
  },
  {
   "cell_type": "code",
   "execution_count": null,
   "metadata": {},
   "outputs": [],
   "source": [
    "fig, ax = plt.subplots()\n",
    "ret.plot(ax=ax, figsize=(10,7))\n",
    "ax.set_xlabel('Date')\n",
    "ax.set_ylabel('Returns ECH8')\n",
    "plt.show()"
   ]
  },
  {
   "cell_type": "markdown",
   "metadata": {},
   "source": [
    "### Densidad de probabilidad"
   ]
  },
  {
   "cell_type": "code",
   "execution_count": null,
   "metadata": {},
   "outputs": [],
   "source": [
    "fig, ax = plt.subplots()\n",
    "ret.plot.density(ax=ax, figsize=(10,7))\n",
    "ax.set_xlabel('Price ECH8')\n",
    "ax.set_ylabel(\"\")\n",
    "ax.set_title('Prob. Density')\n",
    "plt.show()"
   ]
  },
  {
   "cell_type": "markdown",
   "metadata": {
    "collapsed": true
   },
   "source": [
    "### Suma cumulativa de rendimientos"
   ]
  },
  {
   "cell_type": "code",
   "execution_count": null,
   "metadata": {},
   "outputs": [],
   "source": [
    "fig, ax = plt.subplots()\n",
    "ret['DClose'].cumsum().plot(ax=ax, figsize=(10,7), label = 'Returns')\n",
    "(df['DClose']/df.DClose.iloc[0] - 1).plot(ax=ax, figsize=(10,7), label = 'Prices')\n",
    "ax.set_ylabel('Price ECH8')\n",
    "ax.set_xlabel('Date')\n",
    "ax.set_title('Price vs Returns')\n",
    "ax.legend()\n",
    "plt.show()"
   ]
  },
  {
   "cell_type": "markdown",
   "metadata": {},
   "source": [
    "### Procesamiento de datos"
   ]
  },
  {
   "cell_type": "code",
   "execution_count": null,
   "metadata": {},
   "outputs": [],
   "source": [
    "%run utils/frontera_eficiente.py\n",
    "\n",
    "data = getData(\"data/euro_future.csv\")\n",
    "df   = data.dataframe\n",
    "df   = df.tail(252)\n",
    "df.tail()"
   ]
  },
  {
   "cell_type": "code",
   "execution_count": null,
   "metadata": {},
   "outputs": [],
   "source": [
    "fig, ax = plt.subplots()\n",
    "df[['PATR']].plot(ax=ax, figsize=(10,5))\n",
    "ax.legend([\"PATR\"])\n",
    "ax.set_xlabel('Date')\n",
    "ax.set_ylabel('Price ECH8')\n",
    "plt.show()"
   ]
  },
  {
   "cell_type": "markdown",
   "metadata": {},
   "source": [
    "## Modelo de Regresion"
   ]
  },
  {
   "cell_type": "code",
   "execution_count": null,
   "metadata": {},
   "outputs": [],
   "source": [
    "Regression(df.PATR).Results()"
   ]
  },
  {
   "cell_type": "code",
   "execution_count": null,
   "metadata": {},
   "outputs": [],
   "source": [
    "RegressionML(df.PATR).Results()"
   ]
  },
  {
   "cell_type": "code",
   "execution_count": null,
   "metadata": {},
   "outputs": [],
   "source": [
    "RegressionML(df.PATR).Plot('s')"
   ]
  },
  {
   "cell_type": "markdown",
   "metadata": {},
   "source": [
    "## Frotera Eficiente"
   ]
  },
  {
   "cell_type": "code",
   "execution_count": null,
   "metadata": {
    "collapsed": true
   },
   "outputs": [],
   "source": [
    "import quandl\n",
    "#######################################\n",
    "#-------------------------------------#\n",
    "# Get data from quandl                #\n",
    "#-------------------------------------#\n",
    "#######################################\n",
    "token = #\n",
    "strt  = \"2014-01-03\"\n",
    "endd  = \"2018-09-20\" \n",
    "stocks = [\"EOD/IBM\", \"EOD/AAPL\", \"EOD/MSFT\",\"EOD/PG\"]\n",
    "data   = quandl.get(stocks, authtoken=token, start_date=strt, end_date=endd)\n",
    "data.columns.tolist()\n",
    "adj_close = [s for s in data.columns.tolist() if \"Adj_Close\" in s]\n",
    "data = data[adj_close]"
   ]
  },
  {
   "cell_type": "code",
   "execution_count": null,
   "metadata": {},
   "outputs": [],
   "source": [
    "data.corr()"
   ]
  },
  {
   "cell_type": "code",
   "execution_count": null,
   "metadata": {},
   "outputs": [],
   "source": [
    "sim = simulation(stocks,data,0.021,30000)\n",
    "sim.plot()"
   ]
  },
  {
   "cell_type": "code",
   "execution_count": null,
   "metadata": {},
   "outputs": [],
   "source": [
    "the =  theory(stocks,data,0.021,150)\n",
    "the.plot()"
   ]
  },
  {
   "cell_type": "code",
   "execution_count": null,
   "metadata": {},
   "outputs": [],
   "source": [
    "plot_all(sim,the)"
   ]
  },
  {
   "cell_type": "code",
   "execution_count": null,
   "metadata": {
    "collapsed": true
   },
   "outputs": [],
   "source": []
  }
 ],
 "metadata": {
  "kernelspec": {
   "display_name": "Python 3",
   "language": "python",
   "name": "python3"
  },
  "language_info": {
   "codemirror_mode": {
    "name": "ipython",
    "version": 3
   },
   "file_extension": ".py",
   "mimetype": "text/x-python",
   "name": "python",
   "nbconvert_exporter": "python",
   "pygments_lexer": "ipython3",
   "version": "3.6.4"
  }
 },
 "nbformat": 4,
 "nbformat_minor": 2
}
