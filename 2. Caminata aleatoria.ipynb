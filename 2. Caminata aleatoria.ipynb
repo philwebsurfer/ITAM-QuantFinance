{
 "cells": [
  {
   "cell_type": "markdown",
   "metadata": {},
   "source": [
    "# 2. Caminatas aleatorias\n",
    "\n",
    "### Finanzas Cuantitativas y Ciencia de Datos\n",
    "#### Rodrigo Lugo Frias y León Berdichevsky Acosta\n",
    "#### ITAM Primavera 2019\n",
    "\n",
    "\n",
    "Con este notebook pueden ver de principio a fin como modelar una caminata aleatoria. La idea final es ver que desde una perspectiva de modelo es posible extraer resultados similares a los que arroja la teoria.\n",
    "\n",
    "---\n",
    "\n",
    "_INSTRUCCIONES:_\n",
    "* Todas las celdas se corren haciendo __Shift + Enter__ o __Ctrl + Enter__\n",
    "\n",
    "_NOTAS:_\n",
    "* _Notebook adaptado de distintas fuentes y proyectos_"
   ]
  },
  {
   "cell_type": "code",
   "execution_count": null,
   "metadata": {
    "collapsed": true
   },
   "outputs": [],
   "source": [
    "%matplotlib inline\n",
    "\n",
    "# Librerias importantes\n",
    "\n",
    "import pandas as pd\n",
    "import numpy as np\n",
    "import matplotlib.pyplot as plt\n",
    "import seaborn as sns\n",
    "sns.set(font_scale=1.5)\n",
    "import datetime as dt\n",
    "\n",
    "#Silence all warnings\n",
    "import warnings\n",
    "warnings.filterwarnings('ignore')"
   ]
  },
  {
   "cell_type": "markdown",
   "metadata": {},
   "source": [
    "#### Libreria para generar objetos pseudo-aleatorios\n",
    "\n",
    "Extraido de:\n",
    "    https://docs.python.org/3/library/random.html\n",
    "\n",
    "\"import random\"\n",
    "\n",
    "* This module implements pseudo-random number generators for various distributions.\n"
   ]
  },
  {
   "cell_type": "code",
   "execution_count": null,
   "metadata": {},
   "outputs": [],
   "source": [
    "np.arange(0,10,1)"
   ]
  },
  {
   "cell_type": "code",
   "execution_count": null,
   "metadata": {},
   "outputs": [],
   "source": [
    "# Generar numeros aleatorios\n",
    "import random \n",
    "\n",
    "# Random float:  0.0 <= x < 1.0\n",
    "print( \"Random float: {0}\\n\".format( random.random()) )                        \n",
    "\n",
    "# Random float:  2.5 <= x < 10.0\n",
    "print( \"Between intervals: {0}\\n\".format(random.uniform(2.5, 10.0) ) )             \n",
    "\n",
    "# Interval between arrivals averaging 5 seconds\n",
    "print( \"Av. 5 seconds: {0}\\n\".format(random.expovariate(1 / 5) ) )              \n",
    "\n",
    "# Integer from 0 to 9 inclusive\n",
    "print( \"Random integer: {0}\\n\".format(random.randrange(10) ) )                  \n",
    "\n",
    "# Even integer from 0 to 100 inclusive\n",
    "print( \"Even integer: {0}\\n\".format(random.randrange(0, 101, 2) ) )\n",
    "\n",
    "# Single random element from a sequence\n",
    "print( \"Random element in a list: {0}\\n\".format(random.choice(['win', 'lose', 'draw']) ) )\n",
    "\n",
    "# Shuffle a list\n",
    "deck = 'ace two three four'.split()\n",
    "print( \"Shuffle a list: {0}\\n\".format(random.shuffle(deck) )   )                \n",
    "\n",
    "# Four samples without replacement\n",
    "print( \"Random samples: {0}\\n\".format(random.sample([10, 20, 30, 40, 50], k=4) ) )\n"
   ]
  },
  {
   "cell_type": "code",
   "execution_count": null,
   "metadata": {},
   "outputs": [],
   "source": [
    "# Random dentro de numpy\n",
    "np.random.uniform()"
   ]
  },
  {
   "cell_type": "markdown",
   "metadata": {},
   "source": [
    "### Caminata Aleatoria 1D\n",
    "\n",
    "En esta seccion vamos a definir una caminata aleatoria en una sola dimension.\n",
    "\n",
    "Primero vamos a determinar el universo de probabilidades de moverse hacia la arriba o hacia abajo:"
   ]
  },
  {
   "cell_type": "code",
   "execution_count": null,
   "metadata": {
    "collapsed": true
   },
   "outputs": [],
   "source": [
    "# Probabilidad de moverse arriba o abajo\n",
    "probabilidad = [0.5, 0.5] # Dada p, q = 1 - p"
   ]
  },
  {
   "cell_type": "markdown",
   "metadata": {},
   "source": [
    "Definimos las condiciones iniciales:"
   ]
  },
  {
   "cell_type": "code",
   "execution_count": null,
   "metadata": {
    "collapsed": true
   },
   "outputs": [],
   "source": [
    "# Posiciones \n",
    "p_inicial  = 0  \n",
    "posiciones = [p_inicial] # En este array vamos a guardar todas las posiciones en el tiempo\n",
    "\n",
    "# Tiempo\n",
    "tiempo = np.insert(range(1,250), 0, 0.0)"
   ]
  },
  {
   "cell_type": "code",
   "execution_count": null,
   "metadata": {},
   "outputs": [],
   "source": [
    "tiempo"
   ]
  },
  {
   "cell_type": "markdown",
   "metadata": {},
   "source": [
    "Numero de veces que tiramos la moneda al aire"
   ]
  },
  {
   "cell_type": "code",
   "execution_count": null,
   "metadata": {
    "collapsed": true
   },
   "outputs": [],
   "source": [
    "# Creamos una coleccion de tiros de moneda aleatorios\n",
    "for tt in tiempo[1:]:\n",
    "    tiro_moneda = np.random.random()\n",
    "    if tiro_moneda >= probabilidad[0]:\n",
    "        '''\n",
    "        Movimiento para arriba\n",
    "        '''\n",
    "        posiciones.append(posiciones[-1] + 1)\n",
    "    else:\n",
    "        '''\n",
    "        Movimiento para abajo\n",
    "        '''\n",
    "        posiciones.append(posiciones[-1] - 1)"
   ]
  },
  {
   "cell_type": "code",
   "execution_count": null,
   "metadata": {},
   "outputs": [],
   "source": [
    "# Graficamos los resultados utilizando matplotlib\n",
    "fig, ax = plt.subplots()\n",
    "ax.set_xlabel('Tiempo')\n",
    "ax.set_ylabel('Posicion del caminante')\n",
    "ax.plot(posiciones) \n",
    "plt.show() "
   ]
  },
  {
   "cell_type": "markdown",
   "metadata": {},
   "source": [
    "### Post-procesamiento"
   ]
  },
  {
   "cell_type": "code",
   "execution_count": null,
   "metadata": {},
   "outputs": [],
   "source": [
    "data = pd.DataFrame({'Tiempo': tiempo, 'Posicion': posiciones})\n",
    "data.tail()"
   ]
  },
  {
   "cell_type": "markdown",
   "metadata": {},
   "source": [
    "#### Distribucion de probabilidad"
   ]
  },
  {
   "cell_type": "code",
   "execution_count": null,
   "metadata": {},
   "outputs": [],
   "source": [
    "fig, ax = plt.subplots()\n",
    "ax.set_xlabel('Posicion')\n",
    "ax.set_ylabel('Posicion del caminante')\n",
    "data['Posicion'].plot.density(ax=ax)\n",
    "plt.show()"
   ]
  },
  {
   "cell_type": "markdown",
   "metadata": {},
   "source": [
    "#### Forma funcional"
   ]
  },
  {
   "cell_type": "markdown",
   "metadata": {},
   "source": [
    "Para poder hacer una cascada de caminantes aleatorios definimos una funcion"
   ]
  },
  {
   "cell_type": "code",
   "execution_count": null,
   "metadata": {
    "collapsed": true
   },
   "outputs": [],
   "source": [
    "def caminata_aleatoria( probabilidad_arriba, tiempo_maximo ):\n",
    "    probabilidad = [probabilidad_arriba, 1 - probabilidad_arriba]\n",
    "    # Posiciones \n",
    "    p_inicial  = 0  \n",
    "    posiciones = [p_inicial] \n",
    "    # Tiempo\n",
    "    tiempo = np.insert(range(1,tiempo_maximo),0,0.0)\n",
    "    # Creamos una coleccion de tiros de moneda aleatorios\n",
    "    for tt in tiempo[1:]:\n",
    "        tiro_moneda = np.random.uniform()\n",
    "        if tiro_moneda <= probabilidad[0]:\n",
    "            '''\n",
    "            Movimiento para arriba\n",
    "            '''\n",
    "            posiciones.append(posiciones[-1] + 1)\n",
    "        else:\n",
    "            '''\n",
    "            Movimiento para abajo\n",
    "            '''\n",
    "            posiciones.append(posiciones[-1] - 1)\n",
    "    data = pd.DataFrame({'Tiempo': tiempo, 'Posicion': posiciones})\n",
    "    return data['Posicion']"
   ]
  },
  {
   "cell_type": "code",
   "execution_count": null,
   "metadata": {},
   "outputs": [],
   "source": [
    "arriba = 0.65\n",
    "tmax   = 500\n",
    "df1     = caminata_aleatoria(arriba, tmax)\n",
    "df2     = caminata_aleatoria(arriba + 0.05, tmax)\n",
    "\n",
    "fig, ax = plt.subplots()\n",
    "\n",
    "df1.plot(ax=ax)\n",
    "df2.plot(ax=ax)\n",
    "plt.show()"
   ]
  },
  {
   "cell_type": "code",
   "execution_count": null,
   "metadata": {},
   "outputs": [],
   "source": [
    "pd.concat([df1,df2],axis=1).tail()"
   ]
  },
  {
   "cell_type": "code",
   "execution_count": null,
   "metadata": {},
   "outputs": [],
   "source": [
    "arriba = 0.5\n",
    "tmax   = 500\n",
    "numero_experimentos = range(0,10)\n",
    "\n",
    "experimentos = []\n",
    "for ne in numero_experimentos:\n",
    "    df = caminata_aleatoria(arriba, tmax)\n",
    "    experimentos.append(df)\n",
    "\n",
    "data         = pd.concat(experimentos,axis=1)\n",
    "data.columns = ['A{0}'.format(i+1) for i in numero_experimentos]\n",
    "data.head()"
   ]
  },
  {
   "cell_type": "code",
   "execution_count": null,
   "metadata": {},
   "outputs": [],
   "source": [
    "data.mean(axis=1).plot.density()\n",
    "plt.show()"
   ]
  },
  {
   "cell_type": "code",
   "execution_count": null,
   "metadata": {},
   "outputs": [],
   "source": [
    "fig, ax = plt.subplots()\n",
    "ax.set_xlabel('Tiempo')\n",
    "ax.set_ylabel('Precio')\n",
    "data.plot(ax=ax)\n",
    "plt.show()"
   ]
  },
  {
   "cell_type": "code",
   "execution_count": null,
   "metadata": {},
   "outputs": [],
   "source": [
    "fig, ax = plt.subplots()\n",
    "ax.set_xlabel('Tiempo')\n",
    "ax.set_xlabel('Precio')\n",
    "data.diff().plot(ax=ax)\n",
    "plt.show()"
   ]
  },
  {
   "cell_type": "code",
   "execution_count": null,
   "metadata": {},
   "outputs": [],
   "source": [
    "fig, ax = plt.subplots()\n",
    "ax.set_xlabel('Precio')\n",
    "data.diff().plot.density(ax=ax)\n",
    "plt.show()"
   ]
  },
  {
   "cell_type": "code",
   "execution_count": null,
   "metadata": {
    "collapsed": true
   },
   "outputs": [],
   "source": []
  }
 ],
 "metadata": {
  "kernelspec": {
   "display_name": "Python 3",
   "language": "python",
   "name": "python3"
  },
  "language_info": {
   "codemirror_mode": {
    "name": "ipython",
    "version": 3
   },
   "file_extension": ".py",
   "mimetype": "text/x-python",
   "name": "python",
   "nbconvert_exporter": "python",
   "pygments_lexer": "ipython3",
   "version": "3.6.4"
  }
 },
 "nbformat": 4,
 "nbformat_minor": 2
}
