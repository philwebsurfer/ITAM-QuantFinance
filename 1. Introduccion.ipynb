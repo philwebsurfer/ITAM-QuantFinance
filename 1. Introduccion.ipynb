{
 "cells": [
  {
   "cell_type": "markdown",
   "metadata": {},
   "source": [
    "# 1. Introduccion\n",
    "\n",
    "### Finanzas Cuantitativas y Ciencia de Datos\n",
    "#### Rodrigo Lugo Frias y León Berdichevsky Acosta\n",
    "#### ITAM Primavera 2019\n",
    "\n",
    "\n",
    "Jugando con este notebook pueden familiarizarse un poco con python y su uso para Ciencia de Datos.\n",
    "\n",
    "---\n",
    "\n",
    "_INSTRUCCIONES:_\n",
    "* Todas las celdas se corren haciendo __Shift + Enter__ o __Ctrl + Enter__\n",
    "\n",
    "_NOTAS:_\n",
    "* _Notebook adaptado de distintas fuentes y proyectos_"
   ]
  },
  {
   "cell_type": "markdown",
   "metadata": {},
   "source": [
    "Primero importamos las librerias que vamos a utilizar "
   ]
  },
  {
   "cell_type": "code",
   "execution_count": null,
   "metadata": {
    "collapsed": true
   },
   "outputs": [],
   "source": [
    "%matplotlib inline\n",
    "\n",
    "# Librerias importantes\n",
    "\n",
    "import pandas as pd\n",
    "import numpy as np\n",
    "import matplotlib.pyplot as plt\n",
    "import seaborn as sns\n",
    "sns.set(font_scale=1.5)\n",
    "import datetime as dt\n",
    "\n",
    "#Silence all warnings\n",
    "import warnings\n",
    "warnings.filterwarnings('ignore')"
   ]
  },
  {
   "cell_type": "markdown",
   "metadata": {},
   "source": [
    "* Leemos una base de datos (archivo .csv)"
   ]
  },
  {
   "cell_type": "code",
   "execution_count": null,
   "metadata": {
    "collapsed": true
   },
   "outputs": [],
   "source": [
    "data = pd.read_csv(\"Data/GAPB MM Equity.csv\")"
   ]
  },
  {
   "cell_type": "markdown",
   "metadata": {},
   "source": [
    "* Informacion general de la base de datos"
   ]
  },
  {
   "cell_type": "code",
   "execution_count": null,
   "metadata": {},
   "outputs": [],
   "source": [
    "data.info()"
   ]
  },
  {
   "cell_type": "markdown",
   "metadata": {},
   "source": [
    "Notemos que los elementos de la columna 'Date' es de tipo int"
   ]
  },
  {
   "cell_type": "code",
   "execution_count": null,
   "metadata": {},
   "outputs": [],
   "source": [
    "type(data.Date[0])"
   ]
  },
  {
   "cell_type": "markdown",
   "metadata": {},
   "source": [
    "Cambiemos formato int a datetime"
   ]
  },
  {
   "cell_type": "code",
   "execution_count": null,
   "metadata": {},
   "outputs": [],
   "source": [
    "new_date  = pd.to_datetime(data.Date, format='%Y%m%d')\n",
    "data.Date = new_date\n",
    "type(data.Date[0])"
   ]
  },
  {
   "cell_type": "markdown",
   "metadata": {},
   "source": [
    "## Informacion estadistica de la base de datos"
   ]
  },
  {
   "cell_type": "code",
   "execution_count": null,
   "metadata": {},
   "outputs": [],
   "source": [
    "data.describe()"
   ]
  },
  {
   "cell_type": "markdown",
   "metadata": {},
   "source": [
    "* Convertimos la columna de fechas al indice"
   ]
  },
  {
   "cell_type": "code",
   "execution_count": null,
   "metadata": {},
   "outputs": [],
   "source": [
    "data.index = data.Date\n",
    "data.tail()"
   ]
  },
  {
   "cell_type": "markdown",
   "metadata": {},
   "source": [
    "* Graficamos el desempeño anual de GAP"
   ]
  },
  {
   "cell_type": "code",
   "execution_count": null,
   "metadata": {},
   "outputs": [],
   "source": [
    "fig, ax = plt.subplots()\n",
    "data[['Last','Open','High','Low']].tail(252).plot(figsize = (9,5), ax = ax)\n",
    "ax.set_xlabel('Date')\n",
    "ax.set_ylabel('Precio')\n",
    "ax.set_title('GAPB MM Equity (201801 - Present)')\n",
    "plt.show()"
   ]
  },
  {
   "cell_type": "markdown",
   "metadata": {},
   "source": [
    "* Leemos una base de datos de Quandl"
   ]
  },
  {
   "cell_type": "code",
   "execution_count": null,
   "metadata": {
    "collapsed": true
   },
   "outputs": [],
   "source": [
    "import quandl\n",
    "#######################################\n",
    "#-------------------------------------#\n",
    "# Get data from quandl                #\n",
    "#-------------------------------------#\n",
    "#######################################\n",
    "token = 'cRFQueKc_6WsrdAU8GaH'\n",
    "strt  = \"2018-01-21\"\n",
    "endd  = \"2019-01-21\" \n",
    "stocks = [\"EOD/AAPL\"]\n",
    "ql_data   = quandl.get(stocks, authtoken=token, start_date=strt, end_date=endd)\n",
    "ql_data.columns.tolist()\n",
    "adj_close = [s for s in ql_data.columns.tolist() if \"Adj_Close\" in s]"
   ]
  },
  {
   "cell_type": "code",
   "execution_count": null,
   "metadata": {},
   "outputs": [],
   "source": [
    "ql_data.columns"
   ]
  },
  {
   "cell_type": "code",
   "execution_count": null,
   "metadata": {},
   "outputs": [],
   "source": [
    "new_columns = [i.replace('EOD/AAPL - ','') for i in ql_data.columns]\n",
    "ql_data.columns = new_columns\n",
    "ql_data.columns"
   ]
  },
  {
   "cell_type": "code",
   "execution_count": null,
   "metadata": {},
   "outputs": [],
   "source": [
    "fig, ax = plt.subplots()\n",
    "ql_data['Open'].plot(figsize = (9,5), ax = ax)\n",
    "ax.set_title('AAPL Quote')\n",
    "ax.set_xlabel('Date')\n",
    "ax.set_ylabel('Price')\n",
    "plt.show()"
   ]
  },
  {
   "cell_type": "markdown",
   "metadata": {
    "collapsed": true
   },
   "source": [
    "## Precios y rendimientos"
   ]
  },
  {
   "cell_type": "code",
   "execution_count": null,
   "metadata": {},
   "outputs": [],
   "source": [
    "stocks = [\"EOD/MSFT\"]\n",
    "ql_data = quandl.get(stocks, authtoken=token, start_date=strt, end_date=endd)\n",
    "ql_data.columns.tolist()\n",
    "adj_close = [s for s in ql_data.columns.tolist() if \"Adj_Close\" in s]\n",
    "new_columns = [i.replace('EOD/MSFT - ','') for i in ql_data.columns]\n",
    "ql_data.columns = new_columns\n",
    "ql_data.columns\n",
    "fig, ax = plt.subplots()\n",
    "ql_data['Open'].plot(figsize = (9,5), ax = ax)\n",
    "ax.set_title('MSFT Quote')\n",
    "ax.set_xlabel('Date')\n",
    "ax.set_ylabel('Price')\n",
    "plt.show()"
   ]
  },
  {
   "cell_type": "code",
   "execution_count": null,
   "metadata": {},
   "outputs": [],
   "source": [
    "ql_data = ql_data[['Open', 'High', 'Low', 'Close']]\n",
    "ql_data.head()"
   ]
  },
  {
   "cell_type": "code",
   "execution_count": null,
   "metadata": {},
   "outputs": [],
   "source": [
    "fig, ax = plt.subplots()\n",
    "ql_data.plot.density(figsize = (9,5), ax = ax)\n",
    "ax.set_title('MSFT Quote')\n",
    "ax.set_xlabel('Expected return')\n",
    "ax.set_ylabel('Prob Density')\n",
    "plt.show()"
   ]
  },
  {
   "cell_type": "markdown",
   "metadata": {},
   "source": [
    "### Rendimientos"
   ]
  },
  {
   "cell_type": "code",
   "execution_count": null,
   "metadata": {},
   "outputs": [],
   "source": [
    "ret = ql_data.diff().dropna()\n",
    "ret[['Open', 'High', 'Low', 'Close']].head()"
   ]
  },
  {
   "cell_type": "code",
   "execution_count": null,
   "metadata": {},
   "outputs": [],
   "source": [
    "mean = ret.Close.describe()['mean']\n",
    "std  = ret.Close.describe()['std']\n",
    "\n",
    "ret.describe()"
   ]
  },
  {
   "cell_type": "code",
   "execution_count": null,
   "metadata": {},
   "outputs": [],
   "source": [
    "import matplotlib.mlab as mlab\n",
    "import math\n",
    "\n",
    "sigma = math.sqrt(variance)\n",
    "x = np.linspace(mean - 3*std, mean + 3*std, 100)\n",
    "fig, ax = plt.subplots()\n",
    "ax.set_title('MSFT Quote PX_Close')\n",
    "ax.set_xlabel('Expected return')\n",
    "ax.set_ylabel('Prob Density')\n",
    "plt.plot(x,mlab.normpdf(x, mean, std))\n",
    "plt.show()"
   ]
  },
  {
   "cell_type": "code",
   "execution_count": null,
   "metadata": {},
   "outputs": [],
   "source": [
    "fig, ax = plt.subplots()\n",
    "ret.plot.density(figsize = (9,5), ax = ax)\n",
    "ax.set_title('MSFT Quote')\n",
    "ax.set_xlabel('Expected return')\n",
    "ax.set_ylabel('Prob Density')\n",
    "plt.show()"
   ]
  },
  {
   "cell_type": "markdown",
   "metadata": {},
   "source": [
    "### Mas momentos de la distribucion"
   ]
  },
  {
   "cell_type": "code",
   "execution_count": null,
   "metadata": {},
   "outputs": [],
   "source": [
    "# Skewness\n",
    "ret.skew()"
   ]
  },
  {
   "cell_type": "code",
   "execution_count": null,
   "metadata": {},
   "outputs": [],
   "source": [
    "# Kurtosis\n",
    "ret.kurt()"
   ]
  },
  {
   "cell_type": "markdown",
   "metadata": {},
   "source": [
    "### Rendimientos mensuales"
   ]
  },
  {
   "cell_type": "code",
   "execution_count": null,
   "metadata": {},
   "outputs": [],
   "source": [
    "month_ret = ret['Close'].groupby(pd.Grouper(freq='M'))\n",
    "month_ret.describe()"
   ]
  },
  {
   "cell_type": "markdown",
   "metadata": {},
   "source": [
    "#### Rendimientos por trimestre"
   ]
  },
  {
   "cell_type": "code",
   "execution_count": null,
   "metadata": {},
   "outputs": [],
   "source": [
    "quart_ret = ret['Close'].groupby(pd.Grouper(freq='Q'))\n",
    "quart_ret.describe()"
   ]
  },
  {
   "cell_type": "code",
   "execution_count": null,
   "metadata": {
    "collapsed": true
   },
   "outputs": [],
   "source": []
  }
 ],
 "metadata": {
  "kernelspec": {
   "display_name": "Python 3",
   "language": "python",
   "name": "python3"
  },
  "language_info": {
   "codemirror_mode": {
    "name": "ipython",
    "version": 3
   },
   "file_extension": ".py",
   "mimetype": "text/x-python",
   "name": "python",
   "nbconvert_exporter": "python",
   "pygments_lexer": "ipython3",
   "version": "3.6.4"
  }
 },
 "nbformat": 4,
 "nbformat_minor": 2
}
