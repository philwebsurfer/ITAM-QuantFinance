{
 "cells": [
  {
   "cell_type": "markdown",
   "metadata": {},
   "source": [
    "# EDA\n",
    "\n",
    "_Francisco José Álvarez Rojo_\n",
    "\n",
    "_Jorge III Altamirano Astorga - 175904_\n",
    "\n",
    "_Paulina Gómez Mont Wiechers_"
   ]
  },
  {
   "cell_type": "code",
   "execution_count": 1,
   "metadata": {},
   "outputs": [],
   "source": [
    "from bs4 import BeautifulSoup\n",
    "import bs4 as bs4\n",
    "import requests\n",
    "import sys\n",
    "from dateutil import parser #esta lib es más útil que la de Python para interpretar fechas parciales, como las de Twitter\n",
    "import re\n",
    "import datetime\n",
    "import pandas as pd\n",
    "from string import punctuation\n",
    "import numpy as np\n",
    "import matplotlib.pyplot as plt\n",
    "from sklearn.model_selection  import train_test_split\n",
    "from sklearn.feature_extraction.text import CountVectorizer\n",
    "from sklearn.pipeline import Pipeline\n",
    "from sklearn.feature_extraction.text import TfidfTransformer, TfidfVectorizer\n",
    "from sklearn.svm import LinearSVC, SVC\n",
    "from sklearn.metrics import classification_report\n",
    "import nltk\n",
    "from nltk.corpus import stopwords\n",
    "from nltk.classify import SklearnClassifier\n",
    "from nltk.tokenize import word_tokenize\n",
    "# from nltk.sentiment import SentimentAnalyzer\n",
    "from sklearn.naive_bayes import MultinomialNB"
   ]
  },
  {
   "cell_type": "markdown",
   "metadata": {},
   "source": [
    "## BMV IPC"
   ]
  },
  {
   "cell_type": "code",
   "execution_count": 2,
   "metadata": {},
   "outputs": [
    {
     "data": {
      "text/plain": [
       "date        datetime64[ns]\n",
       "close              float64\n",
       "volume             float64\n",
       "deltaPct           float64\n",
       "dtype: object"
      ]
     },
     "execution_count": 2,
     "metadata": {},
     "output_type": "execute_result"
    }
   ],
   "source": [
    "ipc = pd.read_csv(\"bmv_ipc.csv\", sep=',')\n",
    "ipc.Date = pd.to_datetime(ipc.Date)\n",
    "#quitamos columnas menos relevantes para nuestro análisis\n",
    "ipc = ipc.drop([\"Open\", \"High\", \"Low\", \"Close\"], axis=1)\n",
    "#quito espacios\n",
    "ipc = ipc.rename({\"Adj Close\": \"close\", \"Volume\": \"volume\", \"Date\": \"date\"}, axis=\"columns\")\n",
    "#sacamos la diferencia porcentual del cierre del día anterior\n",
    "ipc[\"deltaPct\"] = 100 * (1 - ipc[\"close\"].shift(1) / ipc[\"close\"])\n",
    "ipc.dtypes"
   ]
  },
  {
   "cell_type": "code",
   "execution_count": 3,
   "metadata": {},
   "outputs": [
    {
     "data": {
      "text/html": [
       "<div>\n",
       "<style scoped>\n",
       "    .dataframe tbody tr th:only-of-type {\n",
       "        vertical-align: middle;\n",
       "    }\n",
       "\n",
       "    .dataframe tbody tr th {\n",
       "        vertical-align: top;\n",
       "    }\n",
       "\n",
       "    .dataframe thead th {\n",
       "        text-align: right;\n",
       "    }\n",
       "</style>\n",
       "<table border=\"1\" class=\"dataframe\">\n",
       "  <thead>\n",
       "    <tr style=\"text-align: right;\">\n",
       "      <th></th>\n",
       "      <th>close</th>\n",
       "      <th>volume</th>\n",
       "      <th>deltaPct</th>\n",
       "    </tr>\n",
       "  </thead>\n",
       "  <tbody>\n",
       "    <tr>\n",
       "      <th>count</th>\n",
       "      <td>1345.000000</td>\n",
       "      <td>1.345000e+03</td>\n",
       "      <td>1343.000000</td>\n",
       "    </tr>\n",
       "    <tr>\n",
       "      <th>mean</th>\n",
       "      <td>45529.083588</td>\n",
       "      <td>1.868077e+08</td>\n",
       "      <td>-0.003213</td>\n",
       "    </tr>\n",
       "    <tr>\n",
       "      <th>std</th>\n",
       "      <td>2932.748688</td>\n",
       "      <td>8.121792e+07</td>\n",
       "      <td>0.851856</td>\n",
       "    </tr>\n",
       "    <tr>\n",
       "      <th>min</th>\n",
       "      <td>37950.968750</td>\n",
       "      <td>0.000000e+00</td>\n",
       "      <td>-6.171380</td>\n",
       "    </tr>\n",
       "    <tr>\n",
       "      <th>25%</th>\n",
       "      <td>43391.781250</td>\n",
       "      <td>1.435385e+08</td>\n",
       "      <td>-0.464213</td>\n",
       "    </tr>\n",
       "    <tr>\n",
       "      <th>50%</th>\n",
       "      <td>45224.980469</td>\n",
       "      <td>1.751941e+08</td>\n",
       "      <td>0.020781</td>\n",
       "    </tr>\n",
       "    <tr>\n",
       "      <th>75%</th>\n",
       "      <td>47970.191406</td>\n",
       "      <td>2.137361e+08</td>\n",
       "      <td>0.509644</td>\n",
       "    </tr>\n",
       "    <tr>\n",
       "      <th>max</th>\n",
       "      <td>51713.378906</td>\n",
       "      <td>6.966092e+08</td>\n",
       "      <td>3.463701</td>\n",
       "    </tr>\n",
       "  </tbody>\n",
       "</table>\n",
       "</div>"
      ],
      "text/plain": [
       "              close        volume     deltaPct\n",
       "count   1345.000000  1.345000e+03  1343.000000\n",
       "mean   45529.083588  1.868077e+08    -0.003213\n",
       "std     2932.748688  8.121792e+07     0.851856\n",
       "min    37950.968750  0.000000e+00    -6.171380\n",
       "25%    43391.781250  1.435385e+08    -0.464213\n",
       "50%    45224.980469  1.751941e+08     0.020781\n",
       "75%    47970.191406  2.137361e+08     0.509644\n",
       "max    51713.378906  6.966092e+08     3.463701"
      ]
     },
     "execution_count": 3,
     "metadata": {},
     "output_type": "execute_result"
    }
   ],
   "source": [
    "ipc.describe()"
   ]
  },
  {
   "cell_type": "markdown",
   "metadata": {},
   "source": [
    "### Comportamiento del IPC"
   ]
  },
  {
   "cell_type": "code",
   "execution_count": 4,
   "metadata": {},
   "outputs": [
    {
     "name": "stderr",
     "output_type": "stream",
     "text": [
      "/home/jaa6766/.local/lib/python3.6/site-packages/pandas/plotting/_converter.py:129: FutureWarning: Using an implicitly registered datetime converter for a matplotlib plotting method. The converter was registered by pandas on import. Future versions of pandas will require you to explicitly register matplotlib converters.\n",
      "\n",
      "To register the converters:\n",
      "\t>>> from pandas.plotting import register_matplotlib_converters\n",
      "\t>>> register_matplotlib_converters()\n",
      "  warnings.warn(msg, FutureWarning)\n"
     ]
    },
    {
     "data": {
      "image/png": "[encoded data removed]",
      "text/plain": [
       "<matplotlib.figure.Figure at 0x7fc6e9f6e1d0>"
      ]
     },
     "metadata": {},
     "output_type": "display_data"
    }
   ],
   "source": [
    "%matplotlib inline\n",
    "\n",
    "# Plot everything by leveraging the very powerful matplotlib package\n",
    "fig, ax = plt.subplots(figsize=(16,9))\n",
    "\n",
    "ax.plot(ipc.date, ipc.close, label='IPC')\n",
    "# ax.plot(short_rolling_msft.index, short_rolling_msft, label='20 days rolling')\n",
    "# ax.plot(long_rolling_msft.index, long_rolling_msft, label='100 days rolling')\n",
    "\n",
    "ax.set_xlabel('date')\n",
    "ax.set_ylabel('Adjusted closing price ($)')\n",
    "ax.legend()\n",
    "plt.show()"
   ]
  },
  {
   "cell_type": "markdown",
   "metadata": {},
   "source": [
    "### Densidad\n",
    "\n",
    "Hicimos una función _lag_ con el fin de comporar el cierre de una fecha con la del día anterior, esto de manera porcentual tienen una distribución la cual se observa como sigue."
   ]
  },
  {
   "cell_type": "code",
   "execution_count": 5,
   "metadata": {},
   "outputs": [
    {
     "data": {
      "text/plain": [
       "<matplotlib.axes._subplots.AxesSubplot at 0x7fc6e9f30b38>"
      ]
     },
     "execution_count": 5,
     "metadata": {},
     "output_type": "execute_result"
    },
    {
     "data": {
      "image/png": "[encoded data removed]",
      "text/plain": [
       "<matplotlib.figure.Figure at 0x7fc72f273f28>"
      ]
     },
     "metadata": {},
     "output_type": "display_data"
    }
   ],
   "source": [
    "%matplotlib inline\n",
    "ipc[\"deltaPct\"].plot(kind=\"density\")"
   ]
  },
  {
   "cell_type": "code",
   "execution_count": 6,
   "metadata": {},
   "outputs": [
    {
     "data": {
      "text/plain": [
       "<matplotlib.axes._subplots.AxesSubplot at 0x7fc6da6a93c8>"
      ]
     },
     "execution_count": 6,
     "metadata": {},
     "output_type": "execute_result"
    },
    {
     "data": {
      "image/png": "[encoded data removed]",
      "text/plain": [
       "<matplotlib.figure.Figure at 0x7fc6da682a58>"
      ]
     },
     "metadata": {},
     "output_type": "display_data"
    }
   ],
   "source": [
    "ipc.loc[(ipc.deltaPct >= -1.0) & (ipc.deltaPct <= 1.0), \"deltaPct\"].plot(kind=\"density\")"
   ]
  },
  {
   "cell_type": "markdown",
   "metadata": {},
   "source": [
    "Para nuestro análisis de sentimiento y su aprendizaje,\n",
    "tendremos 3 sentimientos:\n",
    "    * Negativo (-1): cuando el cambio en el IPC de la BMV sea menor o igual a -0.5% respecto al cierre del día anterior\n",
    "    * Neutral (0): cuando el cambio en el IPC de la BMV sea mayor a -0.5% y menor a +0.5% respecto al cierre del día anterior\n",
    "    * Positivo (+1): cuando el cambio en el IPC de la BMV sea mayor o igual a +0.5%\n",
    "    \n",
    "Estos números lo tomamos de la distribución de los datos, en los cuales el 25% \n",
    "\n",
    "**Nota:** crearemos una columna, la cual tendrá el posible análisis de sentimiento, el cual posteriormente aplicaremos el modelo de Lenguaje Natural, para intentar extraer el sentimiento basado en el comportamiento del día anterior y los tweets que mencionen palabras clave relacionados con la BMV.\n",
    "\n",
    "Así mismo existen datos faltantes en la información obtenida de Yahoo! Finance. "
   ]
  },
  {
   "cell_type": "code",
   "execution_count": 7,
   "metadata": {},
   "outputs": [
    {
     "data": {
      "text/html": [
       "<div>\n",
       "<style scoped>\n",
       "    .dataframe tbody tr th:only-of-type {\n",
       "        vertical-align: middle;\n",
       "    }\n",
       "\n",
       "    .dataframe tbody tr th {\n",
       "        vertical-align: top;\n",
       "    }\n",
       "\n",
       "    .dataframe thead th {\n",
       "        text-align: right;\n",
       "    }\n",
       "</style>\n",
       "<table border=\"1\" class=\"dataframe\">\n",
       "  <thead>\n",
       "    <tr style=\"text-align: right;\">\n",
       "      <th></th>\n",
       "      <th>date</th>\n",
       "      <th>close</th>\n",
       "      <th>volume</th>\n",
       "      <th>deltaPct</th>\n",
       "    </tr>\n",
       "  </thead>\n",
       "  <tbody>\n",
       "    <tr>\n",
       "      <th>0</th>\n",
       "      <td>2013-12-26</td>\n",
       "      <td>42540.320313</td>\n",
       "      <td>139436700.0</td>\n",
       "      <td>NaN</td>\n",
       "    </tr>\n",
       "    <tr>\n",
       "      <th>247</th>\n",
       "      <td>2014-12-22</td>\n",
       "      <td>NaN</td>\n",
       "      <td>NaN</td>\n",
       "      <td>NaN</td>\n",
       "    </tr>\n",
       "    <tr>\n",
       "      <th>248</th>\n",
       "      <td>2014-12-23</td>\n",
       "      <td>NaN</td>\n",
       "      <td>NaN</td>\n",
       "      <td>NaN</td>\n",
       "    </tr>\n",
       "    <tr>\n",
       "      <th>249</th>\n",
       "      <td>2014-12-24</td>\n",
       "      <td>NaN</td>\n",
       "      <td>NaN</td>\n",
       "      <td>NaN</td>\n",
       "    </tr>\n",
       "    <tr>\n",
       "      <th>250</th>\n",
       "      <td>2014-12-26</td>\n",
       "      <td>NaN</td>\n",
       "      <td>NaN</td>\n",
       "      <td>NaN</td>\n",
       "    </tr>\n",
       "    <tr>\n",
       "      <th>251</th>\n",
       "      <td>2014-12-29</td>\n",
       "      <td>43187.640625</td>\n",
       "      <td>0.0</td>\n",
       "      <td>NaN</td>\n",
       "    </tr>\n",
       "  </tbody>\n",
       "</table>\n",
       "</div>"
      ],
      "text/plain": [
       "          date         close       volume  deltaPct\n",
       "0   2013-12-26  42540.320313  139436700.0       NaN\n",
       "247 2014-12-22           NaN          NaN       NaN\n",
       "248 2014-12-23           NaN          NaN       NaN\n",
       "249 2014-12-24           NaN          NaN       NaN\n",
       "250 2014-12-26           NaN          NaN       NaN\n",
       "251 2014-12-29  43187.640625          0.0       NaN"
      ]
     },
     "execution_count": 7,
     "metadata": {},
     "output_type": "execute_result"
    }
   ],
   "source": [
    "ipc.loc[ipc.deltaPct.isna()]"
   ]
  },
  {
   "cell_type": "code",
   "execution_count": 8,
   "metadata": {},
   "outputs": [
    {
     "data": {
      "text/html": [
       "<div>\n",
       "<style scoped>\n",
       "    .dataframe tbody tr th:only-of-type {\n",
       "        vertical-align: middle;\n",
       "    }\n",
       "\n",
       "    .dataframe tbody tr th {\n",
       "        vertical-align: top;\n",
       "    }\n",
       "\n",
       "    .dataframe thead th {\n",
       "        text-align: right;\n",
       "    }\n",
       "</style>\n",
       "<table border=\"1\" class=\"dataframe\">\n",
       "  <thead>\n",
       "    <tr style=\"text-align: right;\">\n",
       "      <th></th>\n",
       "      <th>date</th>\n",
       "      <th>close</th>\n",
       "      <th>volume</th>\n",
       "      <th>deltaPct</th>\n",
       "      <th>sentiment</th>\n",
       "    </tr>\n",
       "  </thead>\n",
       "  <tbody>\n",
       "    <tr>\n",
       "      <th>0</th>\n",
       "      <td>2013-12-26</td>\n",
       "      <td>42540.320313</td>\n",
       "      <td>139436700.0</td>\n",
       "      <td>0.000000</td>\n",
       "      <td>0.0</td>\n",
       "    </tr>\n",
       "    <tr>\n",
       "      <th>1</th>\n",
       "      <td>2013-12-27</td>\n",
       "      <td>42753.218750</td>\n",
       "      <td>154856000.0</td>\n",
       "      <td>0.497971</td>\n",
       "      <td>0.0</td>\n",
       "    </tr>\n",
       "    <tr>\n",
       "      <th>2</th>\n",
       "      <td>2013-12-30</td>\n",
       "      <td>42958.820313</td>\n",
       "      <td>175830000.0</td>\n",
       "      <td>0.478602</td>\n",
       "      <td>0.0</td>\n",
       "    </tr>\n",
       "    <tr>\n",
       "      <th>3</th>\n",
       "      <td>2014-01-02</td>\n",
       "      <td>42188.449219</td>\n",
       "      <td>139707400.0</td>\n",
       "      <td>-1.826024</td>\n",
       "      <td>-1.0</td>\n",
       "    </tr>\n",
       "    <tr>\n",
       "      <th>4</th>\n",
       "      <td>2014-01-03</td>\n",
       "      <td>42064.968750</td>\n",
       "      <td>141022700.0</td>\n",
       "      <td>-0.293547</td>\n",
       "      <td>0.0</td>\n",
       "    </tr>\n",
       "  </tbody>\n",
       "</table>\n",
       "</div>"
      ],
      "text/plain": [
       "        date         close       volume  deltaPct  sentiment\n",
       "0 2013-12-26  42540.320313  139436700.0  0.000000        0.0\n",
       "1 2013-12-27  42753.218750  154856000.0  0.497971        0.0\n",
       "2 2013-12-30  42958.820313  175830000.0  0.478602        0.0\n",
       "3 2014-01-02  42188.449219  139707400.0 -1.826024       -1.0\n",
       "4 2014-01-03  42064.968750  141022700.0 -0.293547        0.0"
      ]
     },
     "execution_count": 8,
     "metadata": {},
     "output_type": "execute_result"
    }
   ],
   "source": [
    "ipc.loc[ipc.deltaPct <= -0.5, \"sentiment\"] = -1\n",
    "ipc.loc[ipc.deltaPct >= +0.5, \"sentiment\"] = 1\n",
    "ipc.loc[ipc.sentiment.isna(), \"sentiment\"] = 0\n",
    "ipc.loc[ipc.deltaPct.isna(), \"deltaPct\"] = 0\n",
    "ipc.head()"
   ]
  },
  {
   "cell_type": "markdown",
   "metadata": {},
   "source": [
    "## Sentiment Analysis\n",
    "\n",
    "### Extracción y Obtención de Tweets"
   ]
  },
  {
   "cell_type": "code",
   "execution_count": 9,
   "metadata": {},
   "outputs": [],
   "source": [
    "def extract_tweets(soup, file, i, year, silent=False):\n",
    "    tweets = soup.find_all(\"table\", attrs={\"class\": \"tweet\"})\n",
    "    # soup.find_all(\"div\", attrs={\"class\": \"tweet-text\"})\n",
    "    # tweet = tweets[0]\n",
    "    for tweet in tweets:\n",
    "        tweet_text = tweet.find_all('div', attrs={'class': 'tweet-text'})\n",
    "        tweet_date = tweet.find_all(\"td\", attrs={'class': 'timestamp'})\n",
    "        for text in tweet_text:\n",
    "            if type(text) == bs4.element.Tag:\n",
    "                txt = re.sub(\"(eleconomista\\.com\\.mx|pic\\.twitter\\.com|bit\\.ly|bitly\\.com)/[^ ]*\", \" \", text.text).strip()\n",
    "                txt = re.sub(\"(\\||\\n)\", \" \", txt)\n",
    "                file.write(txt + \"|\")\n",
    "        for date in tweet_date:\n",
    "            if type(date) == bs4.element.Tag:\n",
    "                date = date.text.strip() \n",
    "                if re.match(\"[0-9]*[smh]$\", date, re.IGNORECASE) is not None: #detectar si son horas, poner fecha actual\n",
    "                    date = str(datetime.datetime.now())[0:10] + ' 00:00:00'\n",
    "                else:\n",
    "                    if len(date) > 6: #detectamos si es una fecha corta (Mar 18) y que no corte el día\n",
    "                        date = re.sub(year[-2:] + \"$\", \"\", date)\n",
    "                    date = str(parser.parse(date + \" \" + year) ) \n",
    "                file.write(date + \"|%s\"%i + \"\\n\")\n",
    "                "
   ]
  },
  {
   "cell_type": "code",
   "execution_count": 10,
   "metadata": {},
   "outputs": [],
   "source": [
    "def get_tweets(query=\"bolsa OR IPC OR BMV\", newspaper=\"elfinanciero_mx\", year=\"2018\", filename=\"file\", silent=False):\n",
    "    q = 'https://mobile.twitter.com/search?q=' + query + \\\n",
    "          '%20from%3A' + newspaper + \\\n",
    "          '%20since%3A'+year+'-01-01%20until%3A'+year+'-12-31&src=typd&lang=en'\n",
    "\n",
    "    with open(\"%s.%s.csv\"%(filename,year), \"wt\") as file:\n",
    "        i = 0\n",
    "        q = 'https://mobile.twitter.com/search?q=' + query + \\\n",
    "        '%20from%3A' + newspaper + '%20since%3A' + year + \\\n",
    "        '-01-01%20until%3A' + year +'-12-31&src=typd&lang=en'\n",
    "        file.write(\"tweet|time|page\\n\") #header\n",
    "        while(True): #loop para extraer todas las páginas \n",
    "            if silent == False:\n",
    "                print(\"  Downloading page %d...\"%(i+1))\n",
    "            try:\n",
    "                response = requests.get(q)\n",
    "            except:\n",
    "                raise Exception(\"Error al obtener página de resultados.\")\n",
    "            if response.status_code != 200:\n",
    "                raise Exception(\"Error (!= 200) al obtener página de resultados.\")\n",
    "            \n",
    "#             with open(\"%s_%d.html\"%(query,i), 'w') as html:\n",
    "#                html.write(response.text)\n",
    "            \n",
    "            soup = BeautifulSoup(response.text, 'lxml') #abre la primera página de búsqueda de twitter\n",
    "            extract_tweets(soup, file, i, year)\n",
    "\n",
    "            nx = soup.find(\"a\", text=\" Load older Tweets \")\n",
    "            if nx != None and nx.has_attr('href'):\n",
    "                q = \"https://mobile.twitter.com\" + nx.get_attribute_list('href')[0]\n",
    "            else:\n",
    "                break\n",
    "            i += 1\n",
    "    if silent == False:\n",
    "        print(\"  Done!\")"
   ]
  },
  {
   "cell_type": "code",
   "execution_count": 11,
   "metadata": {},
   "outputs": [
    {
     "name": "stdout",
     "output_type": "stream",
     "text": [
      "Downloading year 2014 from @elfinanciero_mx\n",
      "  Downloading page 1...\n",
      "  Downloading page 2...\n",
      "  Downloading page 3...\n",
      "  Downloading page 4...\n",
      "  Downloading page 5...\n",
      "  Downloading page 6...\n",
      "  Downloading page 7...\n",
      "  Downloading page 8...\n",
      "  Downloading page 9...\n",
      "  Downloading page 10...\n",
      "  Downloading page 11...\n",
      "  Downloading page 12...\n",
      "  Downloading page 13...\n",
      "  Downloading page 14...\n",
      "  Downloading page 15...\n",
      "  Downloading page 16...\n",
      "  Downloading page 17...\n",
      "  Downloading page 18...\n",
      "  Downloading page 19...\n",
      "  Downloading page 20...\n",
      "  Downloading page 21...\n",
      "  Downloading page 22...\n",
      "  Downloading page 23...\n",
      "  Done!\n",
      "Downloading year 2014 from @eleconomista\n",
      "  Downloading page 1...\n",
      "  Downloading page 2...\n",
      "  Downloading page 3...\n",
      "  Downloading page 4...\n",
      "  Done!\n",
      "Downloading year 2015 from @elfinanciero_mx\n",
      "  Downloading page 1...\n",
      "  Downloading page 2...\n",
      "  Downloading page 3...\n",
      "  Downloading page 4...\n",
      "  Downloading page 5...\n",
      "  Downloading page 6...\n",
      "  Downloading page 7...\n",
      "  Downloading page 8...\n",
      "  Downloading page 9...\n",
      "  Downloading page 10...\n",
      "  Downloading page 11...\n",
      "  Downloading page 12...\n",
      "  Downloading page 13...\n",
      "  Downloading page 14...\n",
      "  Downloading page 15...\n",
      "  Downloading page 16...\n",
      "  Downloading page 17...\n",
      "  Downloading page 18...\n",
      "  Downloading page 19...\n",
      "  Downloading page 20...\n",
      "  Downloading page 21...\n",
      "  Downloading page 22...\n",
      "  Downloading page 23...\n",
      "  Done!\n",
      "Downloading year 2015 from @eleconomista\n",
      "  Downloading page 1...\n",
      "  Downloading page 2...\n",
      "  Downloading page 3...\n",
      "  Downloading page 4...\n",
      "  Downloading page 5...\n",
      "  Downloading page 6...\n",
      "  Downloading page 7...\n",
      "  Done!\n",
      "Downloading year 2016 from @elfinanciero_mx\n",
      "  Downloading page 1...\n",
      "  Downloading page 2...\n",
      "  Downloading page 3...\n",
      "  Downloading page 4...\n",
      "  Downloading page 5...\n",
      "  Downloading page 6...\n",
      "  Downloading page 7...\n",
      "  Downloading page 8...\n",
      "  Downloading page 9...\n",
      "  Downloading page 10...\n",
      "  Downloading page 11...\n",
      "  Downloading page 12...\n",
      "  Downloading page 13...\n",
      "  Downloading page 14...\n",
      "  Downloading page 15...\n",
      "  Downloading page 16...\n",
      "  Downloading page 17...\n",
      "  Downloading page 18...\n",
      "  Downloading page 19...\n",
      "  Done!\n",
      "Downloading year 2016 from @eleconomista\n",
      "  Downloading page 1...\n",
      "  Downloading page 2...\n",
      "  Downloading page 3...\n",
      "  Downloading page 4...\n",
      "  Downloading page 5...\n",
      "  Downloading page 6...\n",
      "  Downloading page 7...\n",
      "  Downloading page 8...\n",
      "  Downloading page 9...\n",
      "  Done!\n",
      "Downloading year 2017 from @elfinanciero_mx\n",
      "  Downloading page 1...\n",
      "  Downloading page 2...\n",
      "  Downloading page 3...\n",
      "  Downloading page 4...\n",
      "  Downloading page 5...\n",
      "  Downloading page 6...\n",
      "  Downloading page 7...\n",
      "  Downloading page 8...\n",
      "  Downloading page 9...\n",
      "  Downloading page 10...\n",
      "  Downloading page 11...\n",
      "  Downloading page 12...\n",
      "  Downloading page 13...\n",
      "  Downloading page 14...\n",
      "  Downloading page 15...\n",
      "  Downloading page 16...\n",
      "  Downloading page 17...\n",
      "  Done!\n",
      "Downloading year 2017 from @eleconomista\n",
      "  Downloading page 1...\n",
      "  Downloading page 2...\n",
      "  Downloading page 3...\n",
      "  Downloading page 4...\n",
      "  Downloading page 5...\n",
      "  Downloading page 6...\n",
      "  Downloading page 7...\n",
      "  Downloading page 8...\n",
      "  Done!\n",
      "Downloading year 2018 from @elfinanciero_mx\n",
      "  Downloading page 1...\n",
      "  Downloading page 2...\n",
      "  Downloading page 3...\n",
      "  Downloading page 4...\n",
      "  Downloading page 5...\n",
      "  Downloading page 6...\n",
      "  Downloading page 7...\n",
      "  Downloading page 8...\n",
      "  Downloading page 9...\n",
      "  Downloading page 10...\n",
      "  Downloading page 11...\n",
      "  Downloading page 12...\n",
      "  Downloading page 13...\n",
      "  Done!\n",
      "Downloading year 2018 from @eleconomista\n",
      "  Downloading page 1...\n",
      "  Downloading page 2...\n",
      "  Downloading page 3...\n",
      "  Downloading page 4...\n",
      "  Downloading page 5...\n",
      "  Downloading page 6...\n",
      "  Downloading page 7...\n",
      "  Downloading page 8...\n",
      "  Downloading page 9...\n",
      "  Downloading page 10...\n",
      "  Downloading page 11...\n",
      "  Done!\n",
      "Downloading year 2019 from @elfinanciero_mx\n",
      "  Downloading page 1...\n",
      "  Downloading page 2...\n",
      "  Downloading page 3...\n",
      "  Downloading page 4...\n",
      "  Downloading page 5...\n",
      "  Downloading page 6...\n",
      "  Downloading page 7...\n",
      "  Done!\n",
      "Downloading year 2019 from @eleconomista\n",
      "  Downloading page 1...\n",
      "  Downloading page 2...\n",
      "  Downloading page 3...\n",
      "  Downloading page 4...\n",
      "  Downloading page 5...\n",
      "  Downloading page 6...\n",
      "  Done!\n",
      "CPU times: user 11.2 s, sys: 331 ms, total: 11.5 s\n",
      "Wall time: 1min 20s\n"
     ]
    }
   ],
   "source": [
    "%%time\n",
    "for yr in [\"2014\", \"2015\", \"2016\", \"2017\", \"2018\", \"2019\"]:\n",
    "    for source in [\"elfinanciero_mx\", \"eleconomista\"]:\n",
    "        print(\"Downloading year %s from @%s\"%(yr,source))\n",
    "        get_tweets(query=\"bolsa OR IPC OR BMV\", newspaper=source, year=yr, filename=\"tweets.raw/bmv.%s\"%source)"
   ]
  },
  {
   "cell_type": "markdown",
   "metadata": {},
   "source": [
    "### Limpiar columnas"
   ]
  },
  {
   "cell_type": "code",
   "execution_count": 12,
   "metadata": {},
   "outputs": [
    {
     "name": "stderr",
     "output_type": "stream",
     "text": [
      "/home/jaa6766/.local/lib/python3.6/site-packages/pandas/core/frame.py:6692: FutureWarning: Sorting because non-concatenation axis is not aligned. A future version\n",
      "of pandas will change to not sort by default.\n",
      "\n",
      "To accept the future behavior, pass 'sort=False'.\n",
      "\n",
      "To retain the current behavior and silence the warning, pass 'sort=True'.\n",
      "\n",
      "  sort=sort)\n"
     ]
    },
    {
     "data": {
      "text/plain": [
       "source            object\n",
       "time      datetime64[ns]\n",
       "tweet             object\n",
       "dtype: object"
      ]
     },
     "execution_count": 12,
     "metadata": {},
     "output_type": "execute_result"
    }
   ],
   "source": [
    "bmv = pd.read_csv(\"tweets.raw/bmv.elfinanciero_mx.2014.csv\", sep=\"|\")\n",
    "bmv = bmv.append(pd.read_csv(\"tweets.raw/bmv.elfinanciero_mx.2015.csv\", sep=\"|\"))\n",
    "bmv = bmv.append(pd.read_csv(\"tweets.raw/bmv.elfinanciero_mx.2016.csv\", sep=\"|\"))\n",
    "bmv = bmv.append(pd.read_csv(\"tweets.raw/bmv.elfinanciero_mx.2017.csv\", sep=\"|\"))\n",
    "bmv = bmv.append(pd.read_csv(\"tweets.raw/bmv.elfinanciero_mx.2018.csv\", sep=\"|\"))\n",
    "bmv = bmv.append(pd.read_csv(\"tweets.raw/bmv.elfinanciero_mx.2019.csv\", sep=\"|\"))\n",
    "bmv[\"source\"] = \"elfinanciero_mx\"\n",
    "bmv = bmv.append(pd.read_csv(\"tweets.raw/bmv.eleconomista.2014.csv\", sep=\"|\"))\n",
    "bmv = bmv.append(pd.read_csv(\"tweets.raw/bmv.eleconomista.2015.csv\", sep=\"|\"))\n",
    "bmv = bmv.append(pd.read_csv(\"tweets.raw/bmv.eleconomista.2016.csv\", sep=\"|\"))\n",
    "bmv = bmv.append(pd.read_csv(\"tweets.raw/bmv.eleconomista.2017.csv\", sep=\"|\"))\n",
    "bmv = bmv.append(pd.read_csv(\"tweets.raw/bmv.eleconomista.2018.csv\", sep=\"|\"))\n",
    "bmv = bmv.append(pd.read_csv(\"tweets.raw/bmv.eleconomista.2019.csv\", sep=\"|\"))\n",
    "bmv[\"source\"] = np.where(pd.isna(bmv[\"source\"]), \"eleconomista\", bmv.source)\n",
    "bmv.time = pd.to_datetime(bmv.time)\n",
    "bmv.tweet = bmv.tweet.astype(\"str\")\n",
    "bmv.source = bmv.source.astype(\"str\")\n",
    "bmv = bmv.drop(columns=[\"page\"])\n",
    "bmv.dtypes"
   ]
  },
  {
   "cell_type": "code",
   "execution_count": 13,
   "metadata": {},
   "outputs": [
    {
     "data": {
      "text/html": [
       "<div>\n",
       "<style scoped>\n",
       "    .dataframe tbody tr th:only-of-type {\n",
       "        vertical-align: middle;\n",
       "    }\n",
       "\n",
       "    .dataframe tbody tr th {\n",
       "        vertical-align: top;\n",
       "    }\n",
       "\n",
       "    .dataframe thead th {\n",
       "        text-align: right;\n",
       "    }\n",
       "</style>\n",
       "<table border=\"1\" class=\"dataframe\">\n",
       "  <thead>\n",
       "    <tr style=\"text-align: right;\">\n",
       "      <th></th>\n",
       "      <th>source</th>\n",
       "      <th>time</th>\n",
       "      <th>tweet</th>\n",
       "    </tr>\n",
       "  </thead>\n",
       "  <tbody>\n",
       "    <tr>\n",
       "      <th>2462</th>\n",
       "      <td>elfinanciero_mx</td>\n",
       "      <td>2019-05-23</td>\n",
       "      <td>Las principales bolsas del mundo caen por las ...</td>\n",
       "    </tr>\n",
       "    <tr>\n",
       "      <th>2463</th>\n",
       "      <td>elfinanciero_mx</td>\n",
       "      <td>2019-05-24</td>\n",
       "      <td>La Bolsa mexicana apunta a interrumpir una rac...</td>\n",
       "    </tr>\n",
       "    <tr>\n",
       "      <th>2464</th>\n",
       "      <td>elfinanciero_mx</td>\n",
       "      <td>2019-05-24</td>\n",
       "      <td>#Opinión La @BMVMercados buscará prohibir el u...</td>\n",
       "    </tr>\n",
       "    <tr>\n",
       "      <th>2465</th>\n",
       "      <td>elfinanciero_mx</td>\n",
       "      <td>2019-05-24</td>\n",
       "      <td>#ÚLTIMAHORA Comisión de Bolsa y Valores de EU ...</td>\n",
       "    </tr>\n",
       "    <tr>\n",
       "      <th>2466</th>\n",
       "      <td>elfinanciero_mx</td>\n",
       "      <td>2019-05-27</td>\n",
       "      <td>El referencial S&amp;P/BMV IPC bajaba 0.31%, a 42 ...</td>\n",
       "    </tr>\n",
       "  </tbody>\n",
       "</table>\n",
       "</div>"
      ],
      "text/plain": [
       "               source       time  \\\n",
       "2462  elfinanciero_mx 2019-05-23   \n",
       "2463  elfinanciero_mx 2019-05-24   \n",
       "2464  elfinanciero_mx 2019-05-24   \n",
       "2465  elfinanciero_mx 2019-05-24   \n",
       "2466  elfinanciero_mx 2019-05-27   \n",
       "\n",
       "                                                  tweet  \n",
       "2462  Las principales bolsas del mundo caen por las ...  \n",
       "2463  La Bolsa mexicana apunta a interrumpir una rac...  \n",
       "2464  #Opinión La @BMVMercados buscará prohibir el u...  \n",
       "2465  #ÚLTIMAHORA Comisión de Bolsa y Valores de EU ...  \n",
       "2466  El referencial S&P/BMV IPC bajaba 0.31%, a 42 ...  "
      ]
     },
     "execution_count": 13,
     "metadata": {},
     "output_type": "execute_result"
    }
   ],
   "source": [
    "#ordenar columnas \n",
    "bmv = bmv.sort_values(by=[\"time\"])\n",
    "#reindizar\n",
    "bmv.index = range(0, bmv.shape[0])\n",
    "bmv.tail(5)"
   ]
  },
  {
   "cell_type": "code",
   "execution_count": 14,
   "metadata": {},
   "outputs": [
    {
     "data": {
      "text/plain": [
       "(2467, 3)"
      ]
     },
     "execution_count": 14,
     "metadata": {},
     "output_type": "execute_result"
    }
   ],
   "source": [
    "bmv.to_csv(\"bmv.csv.xz\", compression=\"xz\", index=False)\n",
    "bmv.shape"
   ]
  },
  {
   "cell_type": "code",
   "execution_count": 15,
   "metadata": {},
   "outputs": [
    {
     "data": {
      "text/html": [
       "<div>\n",
       "<style scoped>\n",
       "    .dataframe tbody tr th:only-of-type {\n",
       "        vertical-align: middle;\n",
       "    }\n",
       "\n",
       "    .dataframe tbody tr th {\n",
       "        vertical-align: top;\n",
       "    }\n",
       "\n",
       "    .dataframe thead th {\n",
       "        text-align: right;\n",
       "    }\n",
       "</style>\n",
       "<table border=\"1\" class=\"dataframe\">\n",
       "  <thead>\n",
       "    <tr style=\"text-align: right;\">\n",
       "      <th></th>\n",
       "      <th>source</th>\n",
       "      <th>time</th>\n",
       "      <th>tweet</th>\n",
       "    </tr>\n",
       "  </thead>\n",
       "  <tbody>\n",
       "    <tr>\n",
       "      <th>0</th>\n",
       "      <td>elfinanciero_mx</td>\n",
       "      <td>2014-01-01</td>\n",
       "      <td>#BMV superaría los 46 mil puntos en 2014: Accival</td>\n",
       "    </tr>\n",
       "  </tbody>\n",
       "</table>\n",
       "</div>"
      ],
      "text/plain": [
       "            source       time  \\\n",
       "0  elfinanciero_mx 2014-01-01   \n",
       "\n",
       "                                               tweet  \n",
       "0  #BMV superaría los 46 mil puntos en 2014: Accival  "
      ]
     },
     "execution_count": 15,
     "metadata": {},
     "output_type": "execute_result"
    }
   ],
   "source": [
    "bmv = pd.read_csv(\"bmv.csv.xz\", compression=\"xz\")\n",
    "bmv[\"time\"] = pd.to_datetime(bmv.time)\n",
    "bmv.head(1)"
   ]
  },
  {
   "cell_type": "markdown",
   "metadata": {},
   "source": [
    "### NLP"
   ]
  },
  {
   "cell_type": "markdown",
   "metadata": {},
   "source": [
    "De manera experimental realizaremos un entrenamiento con el sentimiento que obtuvimos en el paso anterior (IPC), y lo asignaremos a los valores de la misma fecha del tweet."
   ]
  },
  {
   "cell_type": "code",
   "execution_count": 16,
   "metadata": {},
   "outputs": [
    {
     "data": {
      "text/html": [
       "<div>\n",
       "<style scoped>\n",
       "    .dataframe tbody tr th:only-of-type {\n",
       "        vertical-align: middle;\n",
       "    }\n",
       "\n",
       "    .dataframe tbody tr th {\n",
       "        vertical-align: top;\n",
       "    }\n",
       "\n",
       "    .dataframe thead th {\n",
       "        text-align: right;\n",
       "    }\n",
       "</style>\n",
       "<table border=\"1\" class=\"dataframe\">\n",
       "  <thead>\n",
       "    <tr style=\"text-align: right;\">\n",
       "      <th></th>\n",
       "      <th>source</th>\n",
       "      <th>time</th>\n",
       "      <th>tweet</th>\n",
       "      <th>ipc</th>\n",
       "      <th>sentiment</th>\n",
       "    </tr>\n",
       "  </thead>\n",
       "  <tbody>\n",
       "    <tr>\n",
       "      <th>0</th>\n",
       "      <td>elfinanciero_mx</td>\n",
       "      <td>2014-01-01</td>\n",
       "      <td>#BMV superaría los 46 mil puntos en 2014: Accival</td>\n",
       "      <td>NaN</td>\n",
       "      <td>NaN</td>\n",
       "    </tr>\n",
       "    <tr>\n",
       "      <th>1</th>\n",
       "      <td>elfinanciero_mx</td>\n",
       "      <td>2014-01-02</td>\n",
       "      <td>10 ganadoras y 10 perdedoras en la #BMV durant...</td>\n",
       "      <td>-2.0</td>\n",
       "      <td>-1.0</td>\n",
       "    </tr>\n",
       "    <tr>\n",
       "      <th>2</th>\n",
       "      <td>elfinanciero_mx</td>\n",
       "      <td>2014-01-02</td>\n",
       "      <td>#Mercados #BMV avanza 0.22% en primer sesión d...</td>\n",
       "      <td>-2.0</td>\n",
       "      <td>-1.0</td>\n",
       "    </tr>\n",
       "    <tr>\n",
       "      <th>3</th>\n",
       "      <td>elfinanciero_mx</td>\n",
       "      <td>2014-01-02</td>\n",
       "      <td>#Mercados #BMV cae 1.12% por toma de utilidade...</td>\n",
       "      <td>-2.0</td>\n",
       "      <td>-1.0</td>\n",
       "    </tr>\n",
       "    <tr>\n",
       "      <th>4</th>\n",
       "      <td>elfinanciero_mx</td>\n",
       "      <td>2014-01-02</td>\n",
       "      <td>GRÁFICA. ¿Quiénes ganaron y quiénes perdieron ...</td>\n",
       "      <td>-2.0</td>\n",
       "      <td>-1.0</td>\n",
       "    </tr>\n",
       "  </tbody>\n",
       "</table>\n",
       "</div>"
      ],
      "text/plain": [
       "            source       time  \\\n",
       "0  elfinanciero_mx 2014-01-01   \n",
       "1  elfinanciero_mx 2014-01-02   \n",
       "2  elfinanciero_mx 2014-01-02   \n",
       "3  elfinanciero_mx 2014-01-02   \n",
       "4  elfinanciero_mx 2014-01-02   \n",
       "\n",
       "                                               tweet  ipc  sentiment  \n",
       "0  #BMV superaría los 46 mil puntos en 2014: Accival  NaN        NaN  \n",
       "1  10 ganadoras y 10 perdedoras en la #BMV durant... -2.0       -1.0  \n",
       "2  #Mercados #BMV avanza 0.22% en primer sesión d... -2.0       -1.0  \n",
       "3  #Mercados #BMV cae 1.12% por toma de utilidade... -2.0       -1.0  \n",
       "4  GRÁFICA. ¿Quiénes ganaron y quiénes perdieron ... -2.0       -1.0  "
      ]
     },
     "execution_count": 16,
     "metadata": {},
     "output_type": "execute_result"
    }
   ],
   "source": [
    "bmv.drop(columns=[\"sentiment\"], inplace=True, errors=\"ignore\")\n",
    "#sentimiento basado en el porcentaje de cambio del ipc\n",
    "bmv[\"ipc\"] = bmv.join(ipc.set_index(\"date\"), on=\"time\", how=\"left\").deltaPct.round(0)\n",
    "#sentimiento basado en reglas\n",
    "bmv[\"sentiment\"] = bmv.join(ipc.set_index(\"date\"), on=\"time\", how=\"left\").sentiment\n",
    "bmv.head(5)"
   ]
  },
  {
   "cell_type": "markdown",
   "metadata": {},
   "source": [
    "Existen fechas en las cuales no opera la bolsa, pero sí existen tweets publicados; por lo que es conveniente aplicar dicho tweet al cierre de la jornada del siguiente día hábil para la bolsa. Se puede observar en la salida anterior, el caso de un 1 de Enero, donde la bolsa no laboró. Pero el 2 de enero sí, entonces, dicho tweet aplica para el 2 de Enero. \n",
    "\n",
    "Lo mismo aplica para tweets que son publicados en Sábado o Domingo, por lo que aplicamos el sentimiento del siguiente día hábil."
   ]
  },
  {
   "cell_type": "code",
   "execution_count": 17,
   "metadata": {},
   "outputs": [
    {
     "data": {
      "text/html": [
       "<div>\n",
       "<style scoped>\n",
       "    .dataframe tbody tr th:only-of-type {\n",
       "        vertical-align: middle;\n",
       "    }\n",
       "\n",
       "    .dataframe tbody tr th {\n",
       "        vertical-align: top;\n",
       "    }\n",
       "\n",
       "    .dataframe thead th {\n",
       "        text-align: right;\n",
       "    }\n",
       "</style>\n",
       "<table border=\"1\" class=\"dataframe\">\n",
       "  <thead>\n",
       "    <tr style=\"text-align: right;\">\n",
       "      <th></th>\n",
       "      <th>source</th>\n",
       "      <th>time</th>\n",
       "      <th>tweet</th>\n",
       "      <th>ipc</th>\n",
       "      <th>sentiment</th>\n",
       "    </tr>\n",
       "  </thead>\n",
       "  <tbody>\n",
       "    <tr>\n",
       "      <th>0</th>\n",
       "      <td>elfinanciero_mx</td>\n",
       "      <td>2014-01-01</td>\n",
       "      <td>#BMV superaría los 46 mil puntos en 2014: Accival</td>\n",
       "      <td>0.0</td>\n",
       "      <td>0.0</td>\n",
       "    </tr>\n",
       "    <tr>\n",
       "      <th>1</th>\n",
       "      <td>elfinanciero_mx</td>\n",
       "      <td>2014-01-02</td>\n",
       "      <td>10 ganadoras y 10 perdedoras en la #BMV durant...</td>\n",
       "      <td>-2.0</td>\n",
       "      <td>-1.0</td>\n",
       "    </tr>\n",
       "    <tr>\n",
       "      <th>2</th>\n",
       "      <td>elfinanciero_mx</td>\n",
       "      <td>2014-01-02</td>\n",
       "      <td>#Mercados #BMV avanza 0.22% en primer sesión d...</td>\n",
       "      <td>-2.0</td>\n",
       "      <td>-1.0</td>\n",
       "    </tr>\n",
       "  </tbody>\n",
       "</table>\n",
       "</div>"
      ],
      "text/plain": [
       "            source       time  \\\n",
       "0  elfinanciero_mx 2014-01-01   \n",
       "1  elfinanciero_mx 2014-01-02   \n",
       "2  elfinanciero_mx 2014-01-02   \n",
       "\n",
       "                                               tweet  ipc  sentiment  \n",
       "0  #BMV superaría los 46 mil puntos en 2014: Accival  0.0        0.0  \n",
       "1  10 ganadoras y 10 perdedoras en la #BMV durant... -2.0       -1.0  \n",
       "2  #Mercados #BMV avanza 0.22% en primer sesión d... -2.0       -1.0  "
      ]
     },
     "execution_count": 17,
     "metadata": {},
     "output_type": "execute_result"
    }
   ],
   "source": [
    "def tweet_adjust_df(df, columns=[\"sentiment\", \"ipc\"], ipc=ipc[[\"date\", \"sentiment\", \"deltaPct\"]]):\n",
    "    \"\"\"Ajusta el dataframe de tweets con los sentimientos y valor IPC del siguiente día hábil.\n",
    "    Ojo: el dataframe del IPC deberá conteneter (en orden):\n",
    "    * fecha: es con lo que hacemos el índice\n",
    "    * los siguientes valores que coincidan con el parámetro `columns`\n",
    "    \"\"\"\n",
    "    df = df.copy()\n",
    "    ipc = ipc.copy()\n",
    "    i = 0\n",
    "    for col in columns:\n",
    "        for (idx, row) in df.loc[df[col].isna(), :].iterrows():\n",
    "            #buscar en las siguientes fechas hábiles, 4 días máx\n",
    "            dates = [df.loc[idx, \"time\"] + datetime.timedelta(days=j) for j in range (0,6)]\n",
    "            dates = ['{0:%Y-%m-%d}'.format(datum) for datum in dates]\n",
    "            ipc_dates = ipc.loc[ipc.date.isin(dates), ipc.keys()[i+1]].head(1)\n",
    "        i += 1\n",
    "    #establecer en sentimiento neutral (0) los que aún así no pudimos determinar el sentimiento\n",
    "    df.loc[np.any(df.isna(), axis=1), np.any(df.isna(), axis=0)] = 0\n",
    "    return df\n",
    "bmv = tweet_adjust_df(bmv, [\"ipc\", \"sentiment\"]).copy()\n",
    "bmv.head(3)"
   ]
  },
  {
   "cell_type": "markdown",
   "metadata": {},
   "source": [
    "Dado que El Financiero y El Economista publican en español utilizaremos las reglas y raíces de este nuestro idioma."
   ]
  },
  {
   "cell_type": "code",
   "execution_count": 18,
   "metadata": {},
   "outputs": [],
   "source": [
    "stop_words = stopwords.words('spanish')\n",
    "stemmer = nltk.stem.SnowballStemmer('spanish')\n",
    "non_words = list(punctuation)\n",
    "non_words.extend(['¿', '¡'])\n",
    "\n",
    "def stem_tokens(tokens, stemmer):\n",
    "    stemmed = []\n",
    "    for item in tokens:\n",
    "        stemmed.append(stemmer.stem(item))\n",
    "    return stemmed\n",
    "def tokenize(text):\n",
    "    text = ''.join([c for c in text if c not in non_words])\n",
    "    tokens = word_tokenize(text)\n",
    "    # stem\n",
    "    try:\n",
    "        stems = stem_tokens(tokens, stemmer)\n",
    "    except Exception as e:\n",
    "        print(e)\n",
    "        print(text)\n",
    "        stems = ['']\n",
    "    return stems"
   ]
  },
  {
   "cell_type": "markdown",
   "metadata": {},
   "source": [
    "### Separación en conjunto de entrenamiento y pruebas\n",
    "\n",
    "Separamos nuestro data set, con semilla estática, para separa nuestro set en datos de entrenamiento y prueba de manera reproducible."
   ]
  },
  {
   "cell_type": "code",
   "execution_count": 19,
   "metadata": {},
   "outputs": [
    {
     "name": "stdout",
     "output_type": "stream",
     "text": [
      "Tamaño de conjuntos de datos:\n",
      "Entrenamiento: 1480 (59.991893%)\n",
      "Prueba: 987 (40.008107%)\n"
     ]
    }
   ],
   "source": [
    "train, test = train_test_split(bmv, test_size=0.4, random_state=175904)\n",
    "train.reset_index(drop=True,inplace=True)\n",
    "test.reset_index(drop=True,inplace=True)\n",
    "train = train.copy()\n",
    "test = test.copy()\n",
    "print(\"Tamaño de conjuntos de datos:\\nEntrenamiento: %d (%f%%)\\nPrueba: %d (%f%%)\"%(\n",
    "    train.shape[0], 100*train.shape[0]/bmv.shape[0], \n",
    "    test.shape[0], 100*test.shape[0]/bmv.shape[0]))"
   ]
  },
  {
   "cell_type": "markdown",
   "metadata": {},
   "source": [
    "#### Naïve-Bayes"
   ]
  },
  {
   "cell_type": "code",
   "execution_count": 20,
   "metadata": {},
   "outputs": [
    {
     "data": {
      "text/html": [
       "<div>\n",
       "<style scoped>\n",
       "    .dataframe tbody tr th:only-of-type {\n",
       "        vertical-align: middle;\n",
       "    }\n",
       "\n",
       "    .dataframe tbody tr th {\n",
       "        vertical-align: top;\n",
       "    }\n",
       "\n",
       "    .dataframe thead th {\n",
       "        text-align: right;\n",
       "    }\n",
       "</style>\n",
       "<table border=\"1\" class=\"dataframe\">\n",
       "  <thead>\n",
       "    <tr style=\"text-align: right;\">\n",
       "      <th></th>\n",
       "      <th>source</th>\n",
       "      <th>time</th>\n",
       "      <th>tweet</th>\n",
       "      <th>ipc</th>\n",
       "      <th>sentiment</th>\n",
       "      <th>sentiment_hat</th>\n",
       "      <th>ipc_hat</th>\n",
       "    </tr>\n",
       "  </thead>\n",
       "  <tbody>\n",
       "    <tr>\n",
       "      <th>0</th>\n",
       "      <td>elfinanciero_mx</td>\n",
       "      <td>2016-04-03</td>\n",
       "      <td>#Empresas Las 5 ganadoras y 5 perdedoras del 1...</td>\n",
       "      <td>0.0</td>\n",
       "      <td>0.0</td>\n",
       "      <td>0.0</td>\n",
       "      <td>0.0</td>\n",
       "    </tr>\n",
       "    <tr>\n",
       "      <th>1</th>\n",
       "      <td>elfinanciero_mx</td>\n",
       "      <td>2015-12-07</td>\n",
       "      <td>#EFMercados Bolsa Mexicana cae 0.8% y liga 4 d...</td>\n",
       "      <td>-1.0</td>\n",
       "      <td>-1.0</td>\n",
       "      <td>0.0</td>\n",
       "      <td>0.0</td>\n",
       "    </tr>\n",
       "    <tr>\n",
       "      <th>2</th>\n",
       "      <td>elfinanciero_mx</td>\n",
       "      <td>2016-03-21</td>\n",
       "      <td>EFMercados Acciones de EU operan con ligeras p...</td>\n",
       "      <td>0.0</td>\n",
       "      <td>0.0</td>\n",
       "      <td>0.0</td>\n",
       "      <td>0.0</td>\n",
       "    </tr>\n",
       "    <tr>\n",
       "      <th>3</th>\n",
       "      <td>elfinanciero_mx</td>\n",
       "      <td>2014-03-04</td>\n",
       "      <td>En 2013 se registraron dividendos récord en la...</td>\n",
       "      <td>1.0</td>\n",
       "      <td>1.0</td>\n",
       "      <td>0.0</td>\n",
       "      <td>0.0</td>\n",
       "    </tr>\n",
       "    <tr>\n",
       "      <th>4</th>\n",
       "      <td>eleconomista</td>\n",
       "      <td>2017-11-27</td>\n",
       "      <td>La salida de José Antonio Meade de la SHCP fre...</td>\n",
       "      <td>-1.0</td>\n",
       "      <td>-1.0</td>\n",
       "      <td>0.0</td>\n",
       "      <td>0.0</td>\n",
       "    </tr>\n",
       "  </tbody>\n",
       "</table>\n",
       "</div>"
      ],
      "text/plain": [
       "            source       time  \\\n",
       "0  elfinanciero_mx 2016-04-03   \n",
       "1  elfinanciero_mx 2015-12-07   \n",
       "2  elfinanciero_mx 2016-03-21   \n",
       "3  elfinanciero_mx 2014-03-04   \n",
       "4     eleconomista 2017-11-27   \n",
       "\n",
       "                                               tweet  ipc  sentiment  \\\n",
       "0  #Empresas Las 5 ganadoras y 5 perdedoras del 1...  0.0        0.0   \n",
       "1  #EFMercados Bolsa Mexicana cae 0.8% y liga 4 d... -1.0       -1.0   \n",
       "2  EFMercados Acciones de EU operan con ligeras p...  0.0        0.0   \n",
       "3  En 2013 se registraron dividendos récord en la...  1.0        1.0   \n",
       "4  La salida de José Antonio Meade de la SHCP fre... -1.0       -1.0   \n",
       "\n",
       "   sentiment_hat  ipc_hat  \n",
       "0            0.0      0.0  \n",
       "1            0.0      0.0  \n",
       "2            0.0      0.0  \n",
       "3            0.0      0.0  \n",
       "4            0.0      0.0  "
      ]
     },
     "execution_count": 20,
     "metadata": {},
     "output_type": "execute_result"
    }
   ],
   "source": [
    "pipe0 = Pipeline([\n",
    "    (\"token\", CountVectorizer(tokenizer=tokenize, stop_words=stop_words)),\n",
    "    (\"tfid\", TfidfTransformer()),\n",
    "    (\"clf\", MultinomialNB(alpha=1.0))\n",
    "])\n",
    "pipe0m0 = pipe0.fit(train.tweet, train.sentiment)\n",
    "pipe0m1 = pipe0.fit(train.tweet, train.ipc)\n",
    "train[\"sentiment_hat\"] = pipe0m0.predict(train.tweet)\n",
    "train[\"ipc_hat\"] = pipe0m1.predict(train.tweet)\n",
    "train.head()"
   ]
  },
  {
   "cell_type": "markdown",
   "metadata": {},
   "source": [
    "#### SVM"
   ]
  },
  {
   "cell_type": "code",
   "execution_count": 21,
   "metadata": {},
   "outputs": [
    {
     "data": {
      "text/html": [
       "<div>\n",
       "<style scoped>\n",
       "    .dataframe tbody tr th:only-of-type {\n",
       "        vertical-align: middle;\n",
       "    }\n",
       "\n",
       "    .dataframe tbody tr th {\n",
       "        vertical-align: top;\n",
       "    }\n",
       "\n",
       "    .dataframe thead th {\n",
       "        text-align: right;\n",
       "    }\n",
       "</style>\n",
       "<table border=\"1\" class=\"dataframe\">\n",
       "  <thead>\n",
       "    <tr style=\"text-align: right;\">\n",
       "      <th></th>\n",
       "      <th>source</th>\n",
       "      <th>time</th>\n",
       "      <th>tweet</th>\n",
       "      <th>ipc</th>\n",
       "      <th>sentiment</th>\n",
       "      <th>sentiment_hat</th>\n",
       "      <th>ipc_hat</th>\n",
       "    </tr>\n",
       "  </thead>\n",
       "  <tbody>\n",
       "    <tr>\n",
       "      <th>0</th>\n",
       "      <td>elfinanciero_mx</td>\n",
       "      <td>2016-04-03</td>\n",
       "      <td>#Empresas Las 5 ganadoras y 5 perdedoras del 1...</td>\n",
       "      <td>0.0</td>\n",
       "      <td>0.0</td>\n",
       "      <td>0.0</td>\n",
       "      <td>0.0</td>\n",
       "    </tr>\n",
       "    <tr>\n",
       "      <th>1</th>\n",
       "      <td>elfinanciero_mx</td>\n",
       "      <td>2015-12-07</td>\n",
       "      <td>#EFMercados Bolsa Mexicana cae 0.8% y liga 4 d...</td>\n",
       "      <td>-1.0</td>\n",
       "      <td>-1.0</td>\n",
       "      <td>-1.0</td>\n",
       "      <td>-1.0</td>\n",
       "    </tr>\n",
       "    <tr>\n",
       "      <th>2</th>\n",
       "      <td>elfinanciero_mx</td>\n",
       "      <td>2016-03-21</td>\n",
       "      <td>EFMercados Acciones de EU operan con ligeras p...</td>\n",
       "      <td>0.0</td>\n",
       "      <td>0.0</td>\n",
       "      <td>0.0</td>\n",
       "      <td>0.0</td>\n",
       "    </tr>\n",
       "    <tr>\n",
       "      <th>3</th>\n",
       "      <td>elfinanciero_mx</td>\n",
       "      <td>2014-03-04</td>\n",
       "      <td>En 2013 se registraron dividendos récord en la...</td>\n",
       "      <td>1.0</td>\n",
       "      <td>1.0</td>\n",
       "      <td>1.0</td>\n",
       "      <td>1.0</td>\n",
       "    </tr>\n",
       "    <tr>\n",
       "      <th>4</th>\n",
       "      <td>eleconomista</td>\n",
       "      <td>2017-11-27</td>\n",
       "      <td>La salida de José Antonio Meade de la SHCP fre...</td>\n",
       "      <td>-1.0</td>\n",
       "      <td>-1.0</td>\n",
       "      <td>-1.0</td>\n",
       "      <td>-1.0</td>\n",
       "    </tr>\n",
       "  </tbody>\n",
       "</table>\n",
       "</div>"
      ],
      "text/plain": [
       "            source       time  \\\n",
       "0  elfinanciero_mx 2016-04-03   \n",
       "1  elfinanciero_mx 2015-12-07   \n",
       "2  elfinanciero_mx 2016-03-21   \n",
       "3  elfinanciero_mx 2014-03-04   \n",
       "4     eleconomista 2017-11-27   \n",
       "\n",
       "                                               tweet  ipc  sentiment  \\\n",
       "0  #Empresas Las 5 ganadoras y 5 perdedoras del 1...  0.0        0.0   \n",
       "1  #EFMercados Bolsa Mexicana cae 0.8% y liga 4 d... -1.0       -1.0   \n",
       "2  EFMercados Acciones de EU operan con ligeras p...  0.0        0.0   \n",
       "3  En 2013 se registraron dividendos récord en la...  1.0        1.0   \n",
       "4  La salida de José Antonio Meade de la SHCP fre... -1.0       -1.0   \n",
       "\n",
       "   sentiment_hat  ipc_hat  \n",
       "0            0.0      0.0  \n",
       "1           -1.0     -1.0  \n",
       "2            0.0      0.0  \n",
       "3            1.0      1.0  \n",
       "4           -1.0     -1.0  "
      ]
     },
     "execution_count": 21,
     "metadata": {},
     "output_type": "execute_result"
    }
   ],
   "source": [
    "pipe0b = Pipeline([\n",
    "    (\"token\", CountVectorizer(tokenizer=tokenize, stop_words=stop_words)),\n",
    "    (\"tfid\", TfidfTransformer()),\n",
    "    (\"clf\", LinearSVC())\n",
    "])\n",
    "pipe0bm0 = pipe0b.fit(train.tweet, train.sentiment)\n",
    "pipe0bm1 = pipe0b.fit(train.tweet, train.ipc)\n",
    "train[\"sentiment_hat\"] = pipe0bm0.predict(train.tweet)\n",
    "train[\"ipc_hat\"] = pipe0bm1.predict(train.tweet)\n",
    "train.head()"
   ]
  },
  {
   "cell_type": "markdown",
   "metadata": {},
   "source": [
    "### Métricas para Modelo basado en Sentimiento\n",
    "\n",
    "Basamos nuestro modelo en 2 sentimientos: que sube (+1), neutro (0) y que baja (-1)"
   ]
  },
  {
   "cell_type": "markdown",
   "metadata": {},
   "source": [
    "#### Naïve-Bayes"
   ]
  },
  {
   "cell_type": "code",
   "execution_count": 22,
   "metadata": {},
   "outputs": [
    {
     "name": "stdout",
     "output_type": "stream",
     "text": [
      "             precision    recall  f1-score   support\n",
      "\n",
      "       -1.0       0.33      0.00      0.01       219\n",
      "        0.0       0.54      0.99      0.70       527\n",
      "        1.0       0.31      0.02      0.03       241\n",
      "\n",
      "avg / total       0.44      0.53      0.38       987\n",
      "\n"
     ]
    }
   ],
   "source": [
    "test[\"sentiment_hat\"] = pipe0m0.predict(test.tweet)\n",
    "print(classification_report(test.sentiment, test.sentiment_hat))"
   ]
  },
  {
   "cell_type": "markdown",
   "metadata": {},
   "source": [
    "#### SVM"
   ]
  },
  {
   "cell_type": "code",
   "execution_count": 23,
   "metadata": {},
   "outputs": [
    {
     "name": "stdout",
     "output_type": "stream",
     "text": [
      "             precision    recall  f1-score   support\n",
      "\n",
      "       -4.0       0.00      0.00      0.00         0\n",
      "       -2.0       0.00      0.00      0.00         0\n",
      "       -1.0       0.34      0.25      0.29       219\n",
      "        0.0       0.57      0.65      0.61       527\n",
      "        1.0       0.37      0.32      0.34       241\n",
      "        2.0       0.00      0.00      0.00         0\n",
      "        3.0       0.00      0.00      0.00         0\n",
      "\n",
      "avg / total       0.47      0.48      0.47       987\n",
      "\n"
     ]
    },
    {
     "name": "stderr",
     "output_type": "stream",
     "text": [
      "/opt/intel/intelpython3/lib/python3.6/site-packages/sklearn/metrics/classification.py:1137: UndefinedMetricWarning: Recall and F-score are ill-defined and being set to 0.0 in labels with no true samples.\n",
      "  'recall', 'true', average, warn_for)\n"
     ]
    }
   ],
   "source": [
    "test[\"sentiment_hat\"] = pipe0bm0.predict(test.tweet)\n",
    "print(classification_report(test.sentiment, test.sentiment_hat))"
   ]
  },
  {
   "cell_type": "markdown",
   "metadata": {},
   "source": [
    "### Métricas para Modelo Basado en el IPC\n",
    "\n",
    "Basamos nuestro modelo en el porcentaje de cambio, sin decimales. En más de 4 años ha habido movimiento entre el -6% y el 3%."
   ]
  },
  {
   "cell_type": "code",
   "execution_count": 24,
   "metadata": {},
   "outputs": [
    {
     "data": {
      "text/plain": [
       "count    1349.000000\n",
       "mean       -0.003199\n",
       "std         0.849959\n",
       "min        -6.171380\n",
       "25%        -0.461375\n",
       "50%         0.014004\n",
       "75%         0.508979\n",
       "max         3.463701\n",
       "Name: deltaPct, dtype: float64"
      ]
     },
     "execution_count": 24,
     "metadata": {},
     "output_type": "execute_result"
    }
   ],
   "source": [
    "ipc.deltaPct.describe()"
   ]
  },
  {
   "cell_type": "code",
   "execution_count": 25,
   "metadata": {},
   "outputs": [
    {
     "data": {
      "text/plain": [
       "<matplotlib.axes._subplots.AxesSubplot at 0x7fc6da77ca58>"
      ]
     },
     "execution_count": 25,
     "metadata": {},
     "output_type": "execute_result"
    },
    {
     "data": {
      "image/png": "[encoded data removed]",
      "text/plain": [
       "<matplotlib.figure.Figure at 0x7fc6da775588>"
      ]
     },
     "metadata": {},
     "output_type": "display_data"
    }
   ],
   "source": [
    "bmv.ipc.plot(kind=\"density\")"
   ]
  },
  {
   "cell_type": "markdown",
   "metadata": {},
   "source": [
    "#### Naïve-Bayes"
   ]
  },
  {
   "cell_type": "code",
   "execution_count": 26,
   "metadata": {},
   "outputs": [
    {
     "name": "stdout",
     "output_type": "stream",
     "text": [
      "             precision    recall  f1-score   support\n",
      "\n",
      "       -6.0       0.00      0.00      0.00         3\n",
      "       -5.0       0.00      0.00      0.00         1\n",
      "       -4.0       0.00      0.00      0.00         4\n",
      "       -3.0       0.00      0.00      0.00         3\n",
      "       -2.0       0.00      0.00      0.00        42\n",
      "       -1.0       0.00      0.00      0.00       166\n",
      "        0.0       0.54      0.99      0.70       527\n",
      "        1.0       0.31      0.02      0.03       219\n",
      "        2.0       0.00      0.00      0.00        17\n",
      "        3.0       0.00      0.00      0.00         5\n",
      "\n",
      "avg / total       0.35      0.53      0.38       987\n",
      "\n"
     ]
    },
    {
     "name": "stderr",
     "output_type": "stream",
     "text": [
      "/opt/intel/intelpython3/lib/python3.6/site-packages/sklearn/metrics/classification.py:1135: UndefinedMetricWarning: Precision and F-score are ill-defined and being set to 0.0 in labels with no predicted samples.\n",
      "  'precision', 'predicted', average, warn_for)\n"
     ]
    }
   ],
   "source": [
    "test[\"ipc_hat\"] = pipe0m1.predict(test.tweet)\n",
    "print(classification_report(test.ipc, test.ipc_hat))"
   ]
  },
  {
   "cell_type": "markdown",
   "metadata": {},
   "source": [
    "#### SVM"
   ]
  },
  {
   "cell_type": "code",
   "execution_count": 27,
   "metadata": {},
   "outputs": [
    {
     "name": "stdout",
     "output_type": "stream",
     "text": [
      "             precision    recall  f1-score   support\n",
      "\n",
      "       -6.0       0.00      0.00      0.00         3\n",
      "       -5.0       0.00      0.00      0.00         1\n",
      "       -4.0       1.00      0.25      0.40         4\n",
      "       -3.0       0.00      0.00      0.00         3\n",
      "       -2.0       0.29      0.05      0.08        42\n",
      "       -1.0       0.25      0.24      0.24       166\n",
      "        0.0       0.57      0.65      0.61       527\n",
      "        1.0       0.34      0.33      0.33       219\n",
      "        2.0       0.25      0.06      0.10        17\n",
      "        3.0       0.00      0.00      0.00         5\n",
      "\n",
      "avg / total       0.44      0.47      0.45       987\n",
      "\n"
     ]
    },
    {
     "name": "stderr",
     "output_type": "stream",
     "text": [
      "/opt/intel/intelpython3/lib/python3.6/site-packages/sklearn/metrics/classification.py:1135: UndefinedMetricWarning: Precision and F-score are ill-defined and being set to 0.0 in labels with no predicted samples.\n",
      "  'precision', 'predicted', average, warn_for)\n"
     ]
    }
   ],
   "source": [
    "test[\"ipc_hat\"] = pipe0bm1.predict(test.tweet)\n",
    "print(classification_report(test.ipc, test.ipc_hat))"
   ]
  },
  {
   "cell_type": "markdown",
   "metadata": {},
   "source": [
    "## Tweets de Tasas de Interés\n",
    "\n",
    "Dado que aún nuestro mejor resultado en nuestro modelo pasado, vamos a intentar utilizar otros términos de búsqueda: Tasas de Interés, Bonos y Cetes"
   ]
  },
  {
   "cell_type": "code",
   "execution_count": 28,
   "metadata": {},
   "outputs": [
    {
     "name": "stdout",
     "output_type": "stream",
     "text": [
      "Downloading year 2014 from @elfinanciero_mx\n",
      "  Downloading page 1...\n",
      "  Downloading page 2...\n",
      "  Downloading page 3...\n",
      "  Downloading page 4...\n",
      "  Downloading page 5...\n",
      "  Done!\n",
      "Downloading year 2014 from @eleconomista\n",
      "  Downloading page 1...\n",
      "  Downloading page 2...\n",
      "  Downloading page 3...\n",
      "  Downloading page 4...\n",
      "  Done!\n",
      "Downloading year 2015 from @elfinanciero_mx\n",
      "  Downloading page 1...\n",
      "  Downloading page 2...\n",
      "  Downloading page 3...\n",
      "  Downloading page 4...\n",
      "  Downloading page 5...\n",
      "  Downloading page 6...\n",
      "  Downloading page 7...\n",
      "  Downloading page 8...\n",
      "  Done!\n",
      "Downloading year 2015 from @eleconomista\n",
      "  Downloading page 1...\n",
      "  Downloading page 2...\n",
      "  Downloading page 3...\n",
      "  Downloading page 4...\n",
      "  Downloading page 5...\n",
      "  Downloading page 6...\n",
      "  Done!\n",
      "Downloading year 2016 from @elfinanciero_mx\n",
      "  Downloading page 1...\n",
      "  Downloading page 2...\n",
      "  Downloading page 3...\n",
      "  Downloading page 4...\n",
      "  Downloading page 5...\n",
      "  Done!\n",
      "Downloading year 2016 from @eleconomista\n",
      "  Downloading page 1...\n",
      "  Downloading page 2...\n",
      "  Downloading page 3...\n",
      "  Downloading page 4...\n",
      "  Downloading page 5...\n",
      "  Done!\n",
      "Downloading year 2017 from @elfinanciero_mx\n",
      "  Downloading page 1...\n",
      "  Downloading page 2...\n",
      "  Downloading page 3...\n",
      "  Downloading page 4...\n",
      "  Downloading page 5...\n",
      "  Done!\n",
      "Downloading year 2017 from @eleconomista\n",
      "  Downloading page 1...\n",
      "  Downloading page 2...\n",
      "  Downloading page 3...\n",
      "  Downloading page 4...\n",
      "  Done!\n",
      "Downloading year 2018 from @elfinanciero_mx\n",
      "  Downloading page 1...\n",
      "  Downloading page 2...\n",
      "  Downloading page 3...\n",
      "  Downloading page 4...\n",
      "  Downloading page 5...\n",
      "  Downloading page 6...\n",
      "  Done!\n",
      "Downloading year 2018 from @eleconomista\n",
      "  Downloading page 1...\n",
      "  Downloading page 2...\n",
      "  Downloading page 3...\n",
      "  Downloading page 4...\n",
      "  Downloading page 5...\n",
      "  Done!\n",
      "Downloading year 2019 from @elfinanciero_mx\n",
      "  Downloading page 1...\n",
      "  Downloading page 2...\n",
      "  Downloading page 3...\n",
      "  Downloading page 4...\n",
      "  Done!\n",
      "Downloading year 2019 from @eleconomista\n",
      "  Downloading page 1...\n",
      "  Downloading page 2...\n",
      "  Downloading page 3...\n",
      "  Downloading page 4...\n",
      "  Done!\n",
      "CPU times: user 3.91 s, sys: 109 ms, total: 4.02 s\n",
      "Wall time: 31.7 s\n"
     ]
    }
   ],
   "source": [
    "%%time\n",
    "for yr in [\"2014\", \"2015\", \"2016\", \"2017\", \"2018\", \"2019\"]:\n",
    "    for source in [\"elfinanciero_mx\", \"eleconomista\"]:\n",
    "        print(\"Downloading year %s from @%s\"%(yr,source))\n",
    "        get_tweets(query='\"tasas de interés\" OR cetes OR bonos', newspaper=source, year=yr, filename=\"tweets.raw/cetes.%s\"%source, silent=False)"
   ]
  },
  {
   "cell_type": "code",
   "execution_count": 29,
   "metadata": {},
   "outputs": [
    {
     "name": "stderr",
     "output_type": "stream",
     "text": [
      "/home/jaa6766/.local/lib/python3.6/site-packages/pandas/core/frame.py:6692: FutureWarning: Sorting because non-concatenation axis is not aligned. A future version\n",
      "of pandas will change to not sort by default.\n",
      "\n",
      "To accept the future behavior, pass 'sort=False'.\n",
      "\n",
      "To retain the current behavior and silence the warning, pass 'sort=True'.\n",
      "\n",
      "  sort=sort)\n"
     ]
    },
    {
     "data": {
      "text/plain": [
       "source            object\n",
       "time      datetime64[ns]\n",
       "tweet             object\n",
       "dtype: object"
      ]
     },
     "execution_count": 29,
     "metadata": {},
     "output_type": "execute_result"
    }
   ],
   "source": [
    "cetes = pd.read_csv(\"tweets.raw/cetes.elfinanciero_mx.2014.csv\", sep=\"|\")\n",
    "cetes = cetes.append(pd.read_csv(\"tweets.raw/cetes.elfinanciero_mx.2015.csv\", sep=\"|\"))\n",
    "cetes = cetes.append(pd.read_csv(\"tweets.raw/cetes.elfinanciero_mx.2016.csv\", sep=\"|\"))\n",
    "cetes = cetes.append(pd.read_csv(\"tweets.raw/cetes.elfinanciero_mx.2017.csv\", sep=\"|\"))\n",
    "cetes = cetes.append(pd.read_csv(\"tweets.raw/cetes.elfinanciero_mx.2018.csv\", sep=\"|\"))\n",
    "cetes = cetes.append(pd.read_csv(\"tweets.raw/cetes.elfinanciero_mx.2019.csv\", sep=\"|\"))\n",
    "cetes[\"source\"] = \"elfinanciero_mx\"\n",
    "cetes = cetes.append(pd.read_csv(\"tweets.raw/cetes.eleconomista.2014.csv\", sep=\"|\"))\n",
    "cetes = cetes.append(pd.read_csv(\"tweets.raw/cetes.eleconomista.2015.csv\", sep=\"|\"))\n",
    "cetes = cetes.append(pd.read_csv(\"tweets.raw/cetes.eleconomista.2016.csv\", sep=\"|\"))\n",
    "cetes = cetes.append(pd.read_csv(\"tweets.raw/cetes.eleconomista.2017.csv\", sep=\"|\"))\n",
    "cetes = cetes.append(pd.read_csv(\"tweets.raw/cetes.eleconomista.2018.csv\", sep=\"|\"))\n",
    "cetes = cetes.append(pd.read_csv(\"tweets.raw/cetes.eleconomista.2019.csv\", sep=\"|\"))\n",
    "cetes[\"source\"] = np.where(pd.isna(cetes[\"source\"]), \"eleconomista\", cetes.source)\n",
    "cetes.time = pd.to_datetime(cetes.time)\n",
    "cetes.tweet = cetes.tweet.astype(\"str\")\n",
    "cetes.source = cetes.source.astype(\"str\")\n",
    "cetes = cetes.drop(columns=[\"page\"])\n",
    "cetes.dtypes"
   ]
  },
  {
   "cell_type": "code",
   "execution_count": 30,
   "metadata": {},
   "outputs": [
    {
     "data": {
      "text/html": [
       "<div>\n",
       "<style scoped>\n",
       "    .dataframe tbody tr th:only-of-type {\n",
       "        vertical-align: middle;\n",
       "    }\n",
       "\n",
       "    .dataframe tbody tr th {\n",
       "        vertical-align: top;\n",
       "    }\n",
       "\n",
       "    .dataframe thead th {\n",
       "        text-align: right;\n",
       "    }\n",
       "</style>\n",
       "<table border=\"1\" class=\"dataframe\">\n",
       "  <thead>\n",
       "    <tr style=\"text-align: right;\">\n",
       "      <th></th>\n",
       "      <th>source</th>\n",
       "      <th>time</th>\n",
       "      <th>tweet</th>\n",
       "    </tr>\n",
       "  </thead>\n",
       "  <tbody>\n",
       "    <tr>\n",
       "      <th>828</th>\n",
       "      <td>elfinanciero_mx</td>\n",
       "      <td>2019-05-21</td>\n",
       "      <td>La empresa destacó que la colocación fue a un ...</td>\n",
       "    </tr>\n",
       "    <tr>\n",
       "      <th>829</th>\n",
       "      <td>elfinanciero_mx</td>\n",
       "      <td>2019-05-21</td>\n",
       "      <td>#Opinión En la actualidad las economías siguen...</td>\n",
       "    </tr>\n",
       "    <tr>\n",
       "      <th>830</th>\n",
       "      <td>elfinanciero_mx</td>\n",
       "      <td>2019-05-23</td>\n",
       "      <td>#Opinión México enfrenta tasas de interés muy ...</td>\n",
       "    </tr>\n",
       "    <tr>\n",
       "      <th>831</th>\n",
       "      <td>eleconomista</td>\n",
       "      <td>2019-05-24</td>\n",
       "      <td>¿Qué factores podrían cambiar la situación del...</td>\n",
       "    </tr>\n",
       "    <tr>\n",
       "      <th>832</th>\n",
       "      <td>eleconomista</td>\n",
       "      <td>2019-05-27</td>\n",
       "      <td>A 10 meses de iniciar operaciones, la Biva sup...</td>\n",
       "    </tr>\n",
       "  </tbody>\n",
       "</table>\n",
       "</div>"
      ],
      "text/plain": [
       "              source       time  \\\n",
       "828  elfinanciero_mx 2019-05-21   \n",
       "829  elfinanciero_mx 2019-05-21   \n",
       "830  elfinanciero_mx 2019-05-23   \n",
       "831     eleconomista 2019-05-24   \n",
       "832     eleconomista 2019-05-27   \n",
       "\n",
       "                                                 tweet  \n",
       "828  La empresa destacó que la colocación fue a un ...  \n",
       "829  #Opinión En la actualidad las economías siguen...  \n",
       "830  #Opinión México enfrenta tasas de interés muy ...  \n",
       "831  ¿Qué factores podrían cambiar la situación del...  \n",
       "832  A 10 meses de iniciar operaciones, la Biva sup...  "
      ]
     },
     "execution_count": 30,
     "metadata": {},
     "output_type": "execute_result"
    }
   ],
   "source": [
    "#ordenar columnas \n",
    "cetes = cetes.sort_values(by=[\"time\"])\n",
    "#reindizar\n",
    "cetes.index = range(0, cetes.shape[0])\n",
    "cetes.tail(5)"
   ]
  },
  {
   "cell_type": "code",
   "execution_count": 31,
   "metadata": {},
   "outputs": [
    {
     "data": {
      "text/plain": [
       "(833, 3)"
      ]
     },
     "execution_count": 31,
     "metadata": {},
     "output_type": "execute_result"
    }
   ],
   "source": [
    "cetes.to_csv(\"cetes.csv.xz\", compression=\"xz\", index=False)\n",
    "cetes.shape"
   ]
  },
  {
   "cell_type": "code",
   "execution_count": 32,
   "metadata": {},
   "outputs": [
    {
     "data": {
      "text/html": [
       "<div>\n",
       "<style scoped>\n",
       "    .dataframe tbody tr th:only-of-type {\n",
       "        vertical-align: middle;\n",
       "    }\n",
       "\n",
       "    .dataframe tbody tr th {\n",
       "        vertical-align: top;\n",
       "    }\n",
       "\n",
       "    .dataframe thead th {\n",
       "        text-align: right;\n",
       "    }\n",
       "</style>\n",
       "<table border=\"1\" class=\"dataframe\">\n",
       "  <thead>\n",
       "    <tr style=\"text-align: right;\">\n",
       "      <th></th>\n",
       "      <th>source</th>\n",
       "      <th>time</th>\n",
       "      <th>tweet</th>\n",
       "    </tr>\n",
       "  </thead>\n",
       "  <tbody>\n",
       "    <tr>\n",
       "      <th>0</th>\n",
       "      <td>eleconomista</td>\n",
       "      <td>2014-01-01</td>\n",
       "      <td>#Podcast   Qué es y cómo funciona el programa ...</td>\n",
       "    </tr>\n",
       "  </tbody>\n",
       "</table>\n",
       "</div>"
      ],
      "text/plain": [
       "         source       time                                              tweet\n",
       "0  eleconomista 2014-01-01  #Podcast   Qué es y cómo funciona el programa ..."
      ]
     },
     "execution_count": 32,
     "metadata": {},
     "output_type": "execute_result"
    }
   ],
   "source": [
    "cetes = pd.read_csv(\"cetes.csv.xz\", compression=\"xz\")\n",
    "cetes[\"time\"] = pd.to_datetime(cetes.time)\n",
    "cetes.head(1)"
   ]
  },
  {
   "cell_type": "code",
   "execution_count": 33,
   "metadata": {},
   "outputs": [
    {
     "data": {
      "text/html": [
       "<div>\n",
       "<style scoped>\n",
       "    .dataframe tbody tr th:only-of-type {\n",
       "        vertical-align: middle;\n",
       "    }\n",
       "\n",
       "    .dataframe tbody tr th {\n",
       "        vertical-align: top;\n",
       "    }\n",
       "\n",
       "    .dataframe thead th {\n",
       "        text-align: right;\n",
       "    }\n",
       "</style>\n",
       "<table border=\"1\" class=\"dataframe\">\n",
       "  <thead>\n",
       "    <tr style=\"text-align: right;\">\n",
       "      <th></th>\n",
       "      <th>source</th>\n",
       "      <th>time</th>\n",
       "      <th>tweet</th>\n",
       "      <th>ipc</th>\n",
       "      <th>sentiment</th>\n",
       "    </tr>\n",
       "  </thead>\n",
       "  <tbody>\n",
       "    <tr>\n",
       "      <th>0</th>\n",
       "      <td>eleconomista</td>\n",
       "      <td>2014-01-01</td>\n",
       "      <td>#Podcast   Qué es y cómo funciona el programa ...</td>\n",
       "      <td>NaN</td>\n",
       "      <td>NaN</td>\n",
       "    </tr>\n",
       "    <tr>\n",
       "      <th>1</th>\n",
       "      <td>eleconomista</td>\n",
       "      <td>2014-01-07</td>\n",
       "      <td>Tasa líder de #Cetes sube a 3.17% ow.ly/smiWM</td>\n",
       "      <td>1.0</td>\n",
       "      <td>1.0</td>\n",
       "    </tr>\n",
       "    <tr>\n",
       "      <th>2</th>\n",
       "      <td>elfinanciero_mx</td>\n",
       "      <td>2014-01-07</td>\n",
       "      <td>Tasas de interés mixtas en subasta primaria de...</td>\n",
       "      <td>1.0</td>\n",
       "      <td>1.0</td>\n",
       "    </tr>\n",
       "    <tr>\n",
       "      <th>3</th>\n",
       "      <td>eleconomista</td>\n",
       "      <td>2014-01-09</td>\n",
       "      <td>#Bonos M con presiones al alza en corto plazo:...</td>\n",
       "      <td>0.0</td>\n",
       "      <td>0.0</td>\n",
       "    </tr>\n",
       "    <tr>\n",
       "      <th>4</th>\n",
       "      <td>elfinanciero_mx</td>\n",
       "      <td>2014-01-13</td>\n",
       "      <td>@FEMSA colocó una reapertura de sus bonos a 10...</td>\n",
       "      <td>-1.0</td>\n",
       "      <td>-1.0</td>\n",
       "    </tr>\n",
       "  </tbody>\n",
       "</table>\n",
       "</div>"
      ],
      "text/plain": [
       "            source       time  \\\n",
       "0     eleconomista 2014-01-01   \n",
       "1     eleconomista 2014-01-07   \n",
       "2  elfinanciero_mx 2014-01-07   \n",
       "3     eleconomista 2014-01-09   \n",
       "4  elfinanciero_mx 2014-01-13   \n",
       "\n",
       "                                               tweet  ipc  sentiment  \n",
       "0  #Podcast   Qué es y cómo funciona el programa ...  NaN        NaN  \n",
       "1      Tasa líder de #Cetes sube a 3.17% ow.ly/smiWM  1.0        1.0  \n",
       "2  Tasas de interés mixtas en subasta primaria de...  1.0        1.0  \n",
       "3  #Bonos M con presiones al alza en corto plazo:...  0.0        0.0  \n",
       "4  @FEMSA colocó una reapertura de sus bonos a 10... -1.0       -1.0  "
      ]
     },
     "execution_count": 33,
     "metadata": {},
     "output_type": "execute_result"
    }
   ],
   "source": [
    "cetes.drop(columns=[\"sentiment\"], inplace=True, errors=\"ignore\")\n",
    "#sentimiento basado en el porcentaje de cambio del ipc\n",
    "cetes[\"ipc\"] = cetes.join(ipc.set_index(\"date\"), on=\"time\", how=\"left\").deltaPct.round(0)\n",
    "#sentimiento basado en reglas\n",
    "cetes[\"sentiment\"] = cetes.join(ipc.set_index(\"date\"), on=\"time\", how=\"left\").sentiment\n",
    "cetes.head(5)"
   ]
  },
  {
   "cell_type": "markdown",
   "metadata": {},
   "source": [
    "Como en el caso anterior, existen fechas en las cuales no opera la bolsa, pero sí existen tweets publicados; por lo que es conveniente aplicar dicho tweet al cierre de la jornada del siguiente día hábil para la bolsa. Se puede observar en la salida anterior, el caso de un 1 de Enero, donde la bolsa no laboró. Pero el 2 de enero sí, entonces, dicho tweet aplica para el 2 de Enero. \n",
    "\n",
    "Lo mismo aplica para tweets que son publicados en Sábado o Domingo, por lo que aplicamos el sentimiento del siguiente día hábil."
   ]
  },
  {
   "cell_type": "code",
   "execution_count": 34,
   "metadata": {},
   "outputs": [
    {
     "data": {
      "text/html": [
       "<div>\n",
       "<style scoped>\n",
       "    .dataframe tbody tr th:only-of-type {\n",
       "        vertical-align: middle;\n",
       "    }\n",
       "\n",
       "    .dataframe tbody tr th {\n",
       "        vertical-align: top;\n",
       "    }\n",
       "\n",
       "    .dataframe thead th {\n",
       "        text-align: right;\n",
       "    }\n",
       "</style>\n",
       "<table border=\"1\" class=\"dataframe\">\n",
       "  <thead>\n",
       "    <tr style=\"text-align: right;\">\n",
       "      <th></th>\n",
       "      <th>source</th>\n",
       "      <th>time</th>\n",
       "      <th>tweet</th>\n",
       "      <th>ipc</th>\n",
       "      <th>sentiment</th>\n",
       "    </tr>\n",
       "  </thead>\n",
       "  <tbody>\n",
       "    <tr>\n",
       "      <th>828</th>\n",
       "      <td>elfinanciero_mx</td>\n",
       "      <td>2019-05-21</td>\n",
       "      <td>La empresa destacó que la colocación fue a un ...</td>\n",
       "      <td>0.0</td>\n",
       "      <td>0.0</td>\n",
       "    </tr>\n",
       "    <tr>\n",
       "      <th>829</th>\n",
       "      <td>elfinanciero_mx</td>\n",
       "      <td>2019-05-21</td>\n",
       "      <td>#Opinión En la actualidad las economías siguen...</td>\n",
       "      <td>0.0</td>\n",
       "      <td>0.0</td>\n",
       "    </tr>\n",
       "    <tr>\n",
       "      <th>830</th>\n",
       "      <td>elfinanciero_mx</td>\n",
       "      <td>2019-05-23</td>\n",
       "      <td>#Opinión México enfrenta tasas de interés muy ...</td>\n",
       "      <td>0.0</td>\n",
       "      <td>0.0</td>\n",
       "    </tr>\n",
       "    <tr>\n",
       "      <th>831</th>\n",
       "      <td>eleconomista</td>\n",
       "      <td>2019-05-24</td>\n",
       "      <td>¿Qué factores podrían cambiar la situación del...</td>\n",
       "      <td>0.0</td>\n",
       "      <td>0.0</td>\n",
       "    </tr>\n",
       "    <tr>\n",
       "      <th>832</th>\n",
       "      <td>eleconomista</td>\n",
       "      <td>2019-05-27</td>\n",
       "      <td>A 10 meses de iniciar operaciones, la Biva sup...</td>\n",
       "      <td>0.0</td>\n",
       "      <td>0.0</td>\n",
       "    </tr>\n",
       "  </tbody>\n",
       "</table>\n",
       "</div>"
      ],
      "text/plain": [
       "              source       time  \\\n",
       "828  elfinanciero_mx 2019-05-21   \n",
       "829  elfinanciero_mx 2019-05-21   \n",
       "830  elfinanciero_mx 2019-05-23   \n",
       "831     eleconomista 2019-05-24   \n",
       "832     eleconomista 2019-05-27   \n",
       "\n",
       "                                                 tweet  ipc  sentiment  \n",
       "828  La empresa destacó que la colocación fue a un ...  0.0        0.0  \n",
       "829  #Opinión En la actualidad las economías siguen...  0.0        0.0  \n",
       "830  #Opinión México enfrenta tasas de interés muy ...  0.0        0.0  \n",
       "831  ¿Qué factores podrían cambiar la situación del...  0.0        0.0  \n",
       "832  A 10 meses de iniciar operaciones, la Biva sup...  0.0        0.0  "
      ]
     },
     "execution_count": 34,
     "metadata": {},
     "output_type": "execute_result"
    }
   ],
   "source": [
    "cetes = tweet_adjust_df(cetes, [\"ipc\", \"sentiment\"], ipc[[\"date\", \"deltaPct\", \"sentiment\"]]).copy()\n",
    "cetes.tail()"
   ]
  },
  {
   "cell_type": "markdown",
   "metadata": {},
   "source": [
    "### Separación en conjunto de entrenamiento y pruebas\n",
    "\n",
    "Separamos nuestro data set, con semilla estática, para separa nuestro set en datos de entrenamiento y prueba de manera reproducible."
   ]
  },
  {
   "cell_type": "code",
   "execution_count": 35,
   "metadata": {},
   "outputs": [
    {
     "name": "stdout",
     "output_type": "stream",
     "text": [
      "Tamaño de conjuntos de datos:\n",
      "Entrenamiento: 499 (59.903962%)\n",
      "Prueba: 334 (40.096038%)\n"
     ]
    }
   ],
   "source": [
    "train2, test2 = train_test_split(cetes, test_size=0.4, random_state=175904)\n",
    "train2.reset_index(drop=True,inplace=True)\n",
    "test2.reset_index(drop=True,inplace=True)\n",
    "train2 = train2.copy()\n",
    "test2 = test2.copy()\n",
    "print(\"Tamaño de conjuntos de datos:\\nEntrenamiento: %d (%f%%)\\nPrueba: %d (%f%%)\"%(\n",
    "    train2.shape[0], 100*train2.shape[0]/cetes.shape[0], \n",
    "    test2.shape[0], 100*test2.shape[0]/cetes.shape[0]))"
   ]
  },
  {
   "cell_type": "markdown",
   "metadata": {},
   "source": [
    "#### Naïve-Bayes"
   ]
  },
  {
   "cell_type": "code",
   "execution_count": 36,
   "metadata": {},
   "outputs": [
    {
     "data": {
      "text/html": [
       "<div>\n",
       "<style scoped>\n",
       "    .dataframe tbody tr th:only-of-type {\n",
       "        vertical-align: middle;\n",
       "    }\n",
       "\n",
       "    .dataframe tbody tr th {\n",
       "        vertical-align: top;\n",
       "    }\n",
       "\n",
       "    .dataframe thead th {\n",
       "        text-align: right;\n",
       "    }\n",
       "</style>\n",
       "<table border=\"1\" class=\"dataframe\">\n",
       "  <thead>\n",
       "    <tr style=\"text-align: right;\">\n",
       "      <th></th>\n",
       "      <th>source</th>\n",
       "      <th>time</th>\n",
       "      <th>tweet</th>\n",
       "      <th>ipc</th>\n",
       "      <th>sentiment</th>\n",
       "      <th>sentiment_hat</th>\n",
       "      <th>ipc_hat</th>\n",
       "    </tr>\n",
       "  </thead>\n",
       "  <tbody>\n",
       "    <tr>\n",
       "      <th>0</th>\n",
       "      <td>eleconomista</td>\n",
       "      <td>2018-08-06</td>\n",
       "      <td>#Entérate: HSBC, Credit Suisse, Barclays y Deu...</td>\n",
       "      <td>0.0</td>\n",
       "      <td>0.0</td>\n",
       "      <td>0.0</td>\n",
       "      <td>0.0</td>\n",
       "    </tr>\n",
       "    <tr>\n",
       "      <th>1</th>\n",
       "      <td>elfinanciero_mx</td>\n",
       "      <td>2019-01-19</td>\n",
       "      <td>#BWMX Si @lopezobrador_ logra convencer a los ...</td>\n",
       "      <td>0.0</td>\n",
       "      <td>0.0</td>\n",
       "      <td>0.0</td>\n",
       "      <td>0.0</td>\n",
       "    </tr>\n",
       "    <tr>\n",
       "      <th>2</th>\n",
       "      <td>eleconomista</td>\n",
       "      <td>2015-04-23</td>\n",
       "      <td>Analizan emitir bonos para que los mexicanos i...</td>\n",
       "      <td>0.0</td>\n",
       "      <td>0.0</td>\n",
       "      <td>0.0</td>\n",
       "      <td>0.0</td>\n",
       "    </tr>\n",
       "    <tr>\n",
       "      <th>3</th>\n",
       "      <td>eleconomista</td>\n",
       "      <td>2016-09-30</td>\n",
       "      <td>¡Buen viernes! #EnPortada: Banxico subió sus t...</td>\n",
       "      <td>-1.0</td>\n",
       "      <td>-1.0</td>\n",
       "      <td>0.0</td>\n",
       "      <td>0.0</td>\n",
       "    </tr>\n",
       "    <tr>\n",
       "      <th>4</th>\n",
       "      <td>elfinanciero_mx</td>\n",
       "      <td>2015-12-11</td>\n",
       "      <td>#Opinión ¿Cuánto subirán las tasas de interés ...</td>\n",
       "      <td>-1.0</td>\n",
       "      <td>-1.0</td>\n",
       "      <td>0.0</td>\n",
       "      <td>0.0</td>\n",
       "    </tr>\n",
       "  </tbody>\n",
       "</table>\n",
       "</div>"
      ],
      "text/plain": [
       "            source       time  \\\n",
       "0     eleconomista 2018-08-06   \n",
       "1  elfinanciero_mx 2019-01-19   \n",
       "2     eleconomista 2015-04-23   \n",
       "3     eleconomista 2016-09-30   \n",
       "4  elfinanciero_mx 2015-12-11   \n",
       "\n",
       "                                               tweet  ipc  sentiment  \\\n",
       "0  #Entérate: HSBC, Credit Suisse, Barclays y Deu...  0.0        0.0   \n",
       "1  #BWMX Si @lopezobrador_ logra convencer a los ...  0.0        0.0   \n",
       "2  Analizan emitir bonos para que los mexicanos i...  0.0        0.0   \n",
       "3  ¡Buen viernes! #EnPortada: Banxico subió sus t... -1.0       -1.0   \n",
       "4  #Opinión ¿Cuánto subirán las tasas de interés ... -1.0       -1.0   \n",
       "\n",
       "   sentiment_hat  ipc_hat  \n",
       "0            0.0      0.0  \n",
       "1            0.0      0.0  \n",
       "2            0.0      0.0  \n",
       "3            0.0      0.0  \n",
       "4            0.0      0.0  "
      ]
     },
     "execution_count": 36,
     "metadata": {},
     "output_type": "execute_result"
    }
   ],
   "source": [
    "pipe1 = Pipeline([\n",
    "    (\"token\", CountVectorizer(tokenizer=tokenize, stop_words=stop_words)),\n",
    "    (\"tfid\", TfidfTransformer()),\n",
    "    (\"clf\", MultinomialNB(alpha=1.0))\n",
    "])\n",
    "pipe1m0 = pipe1.fit(train2.tweet, train2.sentiment)\n",
    "pipe1m1 = pipe1.fit(train2.tweet, train2.ipc)\n",
    "train2[\"sentiment_hat\"] = pipe1m0.predict(train2.tweet)\n",
    "train2[\"ipc_hat\"] = pipe1m1.predict(train2.tweet)\n",
    "train2.head()"
   ]
  },
  {
   "cell_type": "markdown",
   "metadata": {},
   "source": [
    "#### SVM"
   ]
  },
  {
   "cell_type": "code",
   "execution_count": 37,
   "metadata": {},
   "outputs": [
    {
     "data": {
      "text/html": [
       "<div>\n",
       "<style scoped>\n",
       "    .dataframe tbody tr th:only-of-type {\n",
       "        vertical-align: middle;\n",
       "    }\n",
       "\n",
       "    .dataframe tbody tr th {\n",
       "        vertical-align: top;\n",
       "    }\n",
       "\n",
       "    .dataframe thead th {\n",
       "        text-align: right;\n",
       "    }\n",
       "</style>\n",
       "<table border=\"1\" class=\"dataframe\">\n",
       "  <thead>\n",
       "    <tr style=\"text-align: right;\">\n",
       "      <th></th>\n",
       "      <th>source</th>\n",
       "      <th>time</th>\n",
       "      <th>tweet</th>\n",
       "      <th>ipc</th>\n",
       "      <th>sentiment</th>\n",
       "      <th>sentiment_hat</th>\n",
       "      <th>ipc_hat</th>\n",
       "    </tr>\n",
       "  </thead>\n",
       "  <tbody>\n",
       "    <tr>\n",
       "      <th>0</th>\n",
       "      <td>eleconomista</td>\n",
       "      <td>2018-08-06</td>\n",
       "      <td>#Entérate: HSBC, Credit Suisse, Barclays y Deu...</td>\n",
       "      <td>0.0</td>\n",
       "      <td>0.0</td>\n",
       "      <td>0.0</td>\n",
       "      <td>0.0</td>\n",
       "    </tr>\n",
       "    <tr>\n",
       "      <th>1</th>\n",
       "      <td>elfinanciero_mx</td>\n",
       "      <td>2019-01-19</td>\n",
       "      <td>#BWMX Si @lopezobrador_ logra convencer a los ...</td>\n",
       "      <td>0.0</td>\n",
       "      <td>0.0</td>\n",
       "      <td>0.0</td>\n",
       "      <td>0.0</td>\n",
       "    </tr>\n",
       "    <tr>\n",
       "      <th>2</th>\n",
       "      <td>eleconomista</td>\n",
       "      <td>2015-04-23</td>\n",
       "      <td>Analizan emitir bonos para que los mexicanos i...</td>\n",
       "      <td>0.0</td>\n",
       "      <td>0.0</td>\n",
       "      <td>0.0</td>\n",
       "      <td>0.0</td>\n",
       "    </tr>\n",
       "    <tr>\n",
       "      <th>3</th>\n",
       "      <td>eleconomista</td>\n",
       "      <td>2016-09-30</td>\n",
       "      <td>¡Buen viernes! #EnPortada: Banxico subió sus t...</td>\n",
       "      <td>-1.0</td>\n",
       "      <td>-1.0</td>\n",
       "      <td>0.0</td>\n",
       "      <td>0.0</td>\n",
       "    </tr>\n",
       "    <tr>\n",
       "      <th>4</th>\n",
       "      <td>elfinanciero_mx</td>\n",
       "      <td>2015-12-11</td>\n",
       "      <td>#Opinión ¿Cuánto subirán las tasas de interés ...</td>\n",
       "      <td>-1.0</td>\n",
       "      <td>-1.0</td>\n",
       "      <td>0.0</td>\n",
       "      <td>0.0</td>\n",
       "    </tr>\n",
       "  </tbody>\n",
       "</table>\n",
       "</div>"
      ],
      "text/plain": [
       "            source       time  \\\n",
       "0     eleconomista 2018-08-06   \n",
       "1  elfinanciero_mx 2019-01-19   \n",
       "2     eleconomista 2015-04-23   \n",
       "3     eleconomista 2016-09-30   \n",
       "4  elfinanciero_mx 2015-12-11   \n",
       "\n",
       "                                               tweet  ipc  sentiment  \\\n",
       "0  #Entérate: HSBC, Credit Suisse, Barclays y Deu...  0.0        0.0   \n",
       "1  #BWMX Si @lopezobrador_ logra convencer a los ...  0.0        0.0   \n",
       "2  Analizan emitir bonos para que los mexicanos i...  0.0        0.0   \n",
       "3  ¡Buen viernes! #EnPortada: Banxico subió sus t... -1.0       -1.0   \n",
       "4  #Opinión ¿Cuánto subirán las tasas de interés ... -1.0       -1.0   \n",
       "\n",
       "   sentiment_hat  ipc_hat  \n",
       "0            0.0      0.0  \n",
       "1            0.0      0.0  \n",
       "2            0.0      0.0  \n",
       "3            0.0      0.0  \n",
       "4            0.0      0.0  "
      ]
     },
     "execution_count": 37,
     "metadata": {},
     "output_type": "execute_result"
    }
   ],
   "source": [
    "pipe1b = Pipeline([\n",
    "    (\"token\", CountVectorizer(tokenizer=tokenize, stop_words=stop_words)),\n",
    "    (\"tfid\", TfidfTransformer()),\n",
    "    (\"clf\", LinearSVC())\n",
    "])\n",
    "pipe1bm0 = pipe1.fit(train2.tweet, train2.sentiment)\n",
    "pipe1bm1 = pipe1.fit(train2.tweet, train2.ipc)\n",
    "train2[\"sentiment_hat\"] = pipe1bm0.predict(train2.tweet)\n",
    "train2[\"ipc_hat\"] = pipe1bm1.predict(train2.tweet)\n",
    "train2.head()"
   ]
  },
  {
   "cell_type": "markdown",
   "metadata": {},
   "source": [
    "### Métricas para Modelo basado en Sentimiento\n",
    "\n",
    "Basamos nuestro modelo en 2 sentimientos: que sube (+1), neutro (0) y que baja (-1)"
   ]
  },
  {
   "cell_type": "markdown",
   "metadata": {},
   "source": [
    "#### Naïve-Bayes"
   ]
  },
  {
   "cell_type": "code",
   "execution_count": 38,
   "metadata": {},
   "outputs": [
    {
     "name": "stdout",
     "output_type": "stream",
     "text": [
      "             precision    recall  f1-score   support\n",
      "\n",
      "       -1.0       1.00      0.03      0.05        79\n",
      "        0.0       0.50      0.99      0.67       167\n",
      "        1.0       0.50      0.01      0.02        88\n",
      "\n",
      "avg / total       0.62      0.51      0.35       334\n",
      "\n"
     ]
    }
   ],
   "source": [
    "test2[\"sentiment_hat\"] = pipe1m0.predict(test2.tweet)\n",
    "print(classification_report(test2.sentiment, test2.sentiment_hat))"
   ]
  },
  {
   "cell_type": "markdown",
   "metadata": {},
   "source": [
    "#### SVM"
   ]
  },
  {
   "cell_type": "code",
   "execution_count": 39,
   "metadata": {},
   "outputs": [
    {
     "name": "stdout",
     "output_type": "stream",
     "text": [
      "             precision    recall  f1-score   support\n",
      "\n",
      "       -1.0       1.00      0.03      0.05        79\n",
      "        0.0       0.50      0.99      0.67       167\n",
      "        1.0       0.50      0.01      0.02        88\n",
      "\n",
      "avg / total       0.62      0.51      0.35       334\n",
      "\n"
     ]
    }
   ],
   "source": [
    "test2[\"sentiment_hat\"] = pipe1bm0.predict(test2.tweet)\n",
    "print(classification_report(test2.sentiment, test2.sentiment_hat))"
   ]
  },
  {
   "cell_type": "markdown",
   "metadata": {},
   "source": [
    "### Métricas para Modelo Basado en el IPC"
   ]
  },
  {
   "cell_type": "markdown",
   "metadata": {},
   "source": [
    "#### Naïve-Bayes"
   ]
  },
  {
   "cell_type": "code",
   "execution_count": 40,
   "metadata": {},
   "outputs": [
    {
     "name": "stdout",
     "output_type": "stream",
     "text": [
      "             precision    recall  f1-score   support\n",
      "\n",
      "       -4.0       0.00      0.00      0.00         1\n",
      "       -3.0       0.00      0.00      0.00         1\n",
      "       -2.0       0.00      0.00      0.00        10\n",
      "       -1.0       1.00      0.03      0.06        67\n",
      "       -0.0       0.50      0.99      0.67       167\n",
      "        1.0       0.50      0.01      0.02        81\n",
      "        2.0       0.00      0.00      0.00         7\n",
      "\n",
      "avg / total       0.57      0.51      0.35       334\n",
      "\n"
     ]
    },
    {
     "name": "stderr",
     "output_type": "stream",
     "text": [
      "/opt/intel/intelpython3/lib/python3.6/site-packages/sklearn/metrics/classification.py:1135: UndefinedMetricWarning: Precision and F-score are ill-defined and being set to 0.0 in labels with no predicted samples.\n",
      "  'precision', 'predicted', average, warn_for)\n"
     ]
    }
   ],
   "source": [
    "test2[\"ipc_hat\"] = pipe1m1.predict(test2.tweet)\n",
    "print(classification_report(test2.ipc, test2.ipc_hat))"
   ]
  },
  {
   "cell_type": "markdown",
   "metadata": {},
   "source": [
    "#### SVM"
   ]
  },
  {
   "cell_type": "code",
   "execution_count": 41,
   "metadata": {},
   "outputs": [
    {
     "name": "stdout",
     "output_type": "stream",
     "text": [
      "             precision    recall  f1-score   support\n",
      "\n",
      "       -4.0       0.00      0.00      0.00         1\n",
      "       -3.0       0.00      0.00      0.00         1\n",
      "       -2.0       0.00      0.00      0.00        10\n",
      "       -1.0       1.00      0.03      0.06        67\n",
      "       -0.0       0.50      0.99      0.67       167\n",
      "        1.0       0.50      0.01      0.02        81\n",
      "        2.0       0.00      0.00      0.00         7\n",
      "\n",
      "avg / total       0.57      0.51      0.35       334\n",
      "\n"
     ]
    },
    {
     "name": "stderr",
     "output_type": "stream",
     "text": [
      "/opt/intel/intelpython3/lib/python3.6/site-packages/sklearn/metrics/classification.py:1135: UndefinedMetricWarning: Precision and F-score are ill-defined and being set to 0.0 in labels with no predicted samples.\n",
      "  'precision', 'predicted', average, warn_for)\n"
     ]
    }
   ],
   "source": [
    "test2[\"ipc_hat\"] = pipe1bm1.predict(test2.tweet)\n",
    "print(classification_report(test2.ipc, test2.ipc_hat))"
   ]
  },
  {
   "cell_type": "markdown",
   "metadata": {},
   "source": [
    "## Tweets de Divisas\n",
    "\n",
    "Dado que aún nuestro mejor resultado en nuestro modelo pasado, vamos a intentar utilizar otros términos de búsqueda: peso, divisa, Dólar, Euro, Libra."
   ]
  },
  {
   "cell_type": "code",
   "execution_count": null,
   "metadata": {},
   "outputs": [],
   "source": [
    "%%time\n",
    "for yr in [\"2014\", \"2015\", \"2016\", \"2017\", \"2018\", \"2019\"]:\n",
    "    for source in [\"elfinanciero_mx\", \"eleconomista\"]:\n",
    "        print(\"Downloading year %s from @%s\"%(yr,source))\n",
    "        get_tweets(query='peso OR divisa OR dollar OR dolar OR usd OR euro OR libra',\n",
    "                   newspaper=source, year=yr, filename=\"tweets.raw/forex.%s\"%source, silent=False)"
   ]
  },
  {
   "cell_type": "code",
   "execution_count": 43,
   "metadata": {},
   "outputs": [
    {
     "name": "stderr",
     "output_type": "stream",
     "text": [
      "/home/jaa6766/.local/lib/python3.6/site-packages/pandas/core/frame.py:6692: FutureWarning: Sorting because non-concatenation axis is not aligned. A future version\n",
      "of pandas will change to not sort by default.\n",
      "\n",
      "To accept the future behavior, pass 'sort=False'.\n",
      "\n",
      "To retain the current behavior and silence the warning, pass 'sort=True'.\n",
      "\n",
      "  sort=sort)\n"
     ]
    },
    {
     "data": {
      "text/plain": [
       "source            object\n",
       "time      datetime64[ns]\n",
       "tweet             object\n",
       "dtype: object"
      ]
     },
     "execution_count": 43,
     "metadata": {},
     "output_type": "execute_result"
    }
   ],
   "source": [
    "forex = pd.read_csv(\"tweets.raw/forex.elfinanciero_mx.2014.csv\", sep=\"|\")\n",
    "forex = forex.append(pd.read_csv(\"tweets.raw/forex.elfinanciero_mx.2015.csv\", sep=\"|\"))\n",
    "forex = forex.append(pd.read_csv(\"tweets.raw/forex.elfinanciero_mx.2016.csv\", sep=\"|\"))\n",
    "forex = forex.append(pd.read_csv(\"tweets.raw/forex.elfinanciero_mx.2017.csv\", sep=\"|\"))\n",
    "forex = forex.append(pd.read_csv(\"tweets.raw/forex.elfinanciero_mx.2018.csv\", sep=\"|\"))\n",
    "forex = forex.append(pd.read_csv(\"tweets.raw/forex.elfinanciero_mx.2019.csv\", sep=\"|\"))\n",
    "forex[\"source\"] = \"elfinanciero_mx\"\n",
    "forex = forex.append(pd.read_csv(\"tweets.raw/forex.eleconomista.2014.csv\", sep=\"|\"))\n",
    "forex = forex.append(pd.read_csv(\"tweets.raw/forex.eleconomista.2015.csv\", sep=\"|\"))\n",
    "forex = forex.append(pd.read_csv(\"tweets.raw/forex.eleconomista.2016.csv\", sep=\"|\"))\n",
    "forex = forex.append(pd.read_csv(\"tweets.raw/forex.eleconomista.2017.csv\", sep=\"|\"))\n",
    "forex = forex.append(pd.read_csv(\"tweets.raw/forex.eleconomista.2018.csv\", sep=\"|\"))\n",
    "forex = forex.append(pd.read_csv(\"tweets.raw/forex.eleconomista.2019.csv\", sep=\"|\"))\n",
    "forex[\"source\"] = np.where(pd.isna(forex[\"source\"]), \"eleconomista\", forex.source)\n",
    "forex.time = pd.to_datetime(forex.time)\n",
    "forex.tweet = forex.tweet.astype(\"str\")\n",
    "forex.source = forex.source.astype(\"str\")\n",
    "forex = forex.drop(columns=[\"page\"])\n",
    "forex.dtypes"
   ]
  },
  {
   "cell_type": "code",
   "execution_count": 44,
   "metadata": {},
   "outputs": [
    {
     "data": {
      "text/html": [
       "<div>\n",
       "<style scoped>\n",
       "    .dataframe tbody tr th:only-of-type {\n",
       "        vertical-align: middle;\n",
       "    }\n",
       "\n",
       "    .dataframe tbody tr th {\n",
       "        vertical-align: top;\n",
       "    }\n",
       "\n",
       "    .dataframe thead th {\n",
       "        text-align: right;\n",
       "    }\n",
       "</style>\n",
       "<table border=\"1\" class=\"dataframe\">\n",
       "  <thead>\n",
       "    <tr style=\"text-align: right;\">\n",
       "      <th></th>\n",
       "      <th>source</th>\n",
       "      <th>time</th>\n",
       "      <th>tweet</th>\n",
       "    </tr>\n",
       "  </thead>\n",
       "  <tbody>\n",
       "    <tr>\n",
       "      <th>3332</th>\n",
       "      <td>eleconomista</td>\n",
       "      <td>2019-03-22</td>\n",
       "      <td>¿Qué le ha favorecido al peso este año? #ElEco...</td>\n",
       "    </tr>\n",
       "    <tr>\n",
       "      <th>3333</th>\n",
       "      <td>eleconomista</td>\n",
       "      <td>2019-03-22</td>\n",
       "      <td>El avance del dólar contra el #peso se present...</td>\n",
       "    </tr>\n",
       "    <tr>\n",
       "      <th>3334</th>\n",
       "      <td>elfinanciero_mx</td>\n",
       "      <td>2019-03-22</td>\n",
       "      <td>El dólar se dispara a 19.40 pesos en bancos.</td>\n",
       "    </tr>\n",
       "    <tr>\n",
       "      <th>3335</th>\n",
       "      <td>elfinanciero_mx</td>\n",
       "      <td>2019-03-22</td>\n",
       "      <td>Plazas europeas caen 'golpeados' por malos dat...</td>\n",
       "    </tr>\n",
       "    <tr>\n",
       "      <th>3336</th>\n",
       "      <td>eleconomista</td>\n",
       "      <td>2019-03-24</td>\n",
       "      <td>La moneda mexicana se mantiene como un activo ...</td>\n",
       "    </tr>\n",
       "  </tbody>\n",
       "</table>\n",
       "</div>"
      ],
      "text/plain": [
       "               source       time  \\\n",
       "3332     eleconomista 2019-03-22   \n",
       "3333     eleconomista 2019-03-22   \n",
       "3334  elfinanciero_mx 2019-03-22   \n",
       "3335  elfinanciero_mx 2019-03-22   \n",
       "3336     eleconomista 2019-03-24   \n",
       "\n",
       "                                                  tweet  \n",
       "3332  ¿Qué le ha favorecido al peso este año? #ElEco...  \n",
       "3333  El avance del dólar contra el #peso se present...  \n",
       "3334       El dólar se dispara a 19.40 pesos en bancos.  \n",
       "3335  Plazas europeas caen 'golpeados' por malos dat...  \n",
       "3336  La moneda mexicana se mantiene como un activo ...  "
      ]
     },
     "execution_count": 44,
     "metadata": {},
     "output_type": "execute_result"
    }
   ],
   "source": [
    "#ordenar columnas \n",
    "forex = forex.sort_values(by=[\"time\"])\n",
    "#reindizar\n",
    "forex.index = range(0, forex.shape[0])\n",
    "\n",
    "forex.tail(5)"
   ]
  },
  {
   "cell_type": "code",
   "execution_count": 45,
   "metadata": {},
   "outputs": [
    {
     "data": {
      "text/plain": [
       "(3337, 3)"
      ]
     },
     "execution_count": 45,
     "metadata": {},
     "output_type": "execute_result"
    }
   ],
   "source": [
    "forex.to_csv(\"forex.csv.xz\", compression=\"xz\", index=False)\n",
    "forex.shape"
   ]
  },
  {
   "cell_type": "code",
   "execution_count": 46,
   "metadata": {},
   "outputs": [
    {
     "data": {
      "text/html": [
       "<div>\n",
       "<style scoped>\n",
       "    .dataframe tbody tr th:only-of-type {\n",
       "        vertical-align: middle;\n",
       "    }\n",
       "\n",
       "    .dataframe tbody tr th {\n",
       "        vertical-align: top;\n",
       "    }\n",
       "\n",
       "    .dataframe thead th {\n",
       "        text-align: right;\n",
       "    }\n",
       "</style>\n",
       "<table border=\"1\" class=\"dataframe\">\n",
       "  <thead>\n",
       "    <tr style=\"text-align: right;\">\n",
       "      <th></th>\n",
       "      <th>source</th>\n",
       "      <th>time</th>\n",
       "      <th>tweet</th>\n",
       "    </tr>\n",
       "  </thead>\n",
       "  <tbody>\n",
       "    <tr>\n",
       "      <th>0</th>\n",
       "      <td>elfinanciero_mx</td>\n",
       "      <td>2014-01-01</td>\n",
       "      <td>#Letonia adopta el euro, se convierte en el pa...</td>\n",
       "    </tr>\n",
       "  </tbody>\n",
       "</table>\n",
       "</div>"
      ],
      "text/plain": [
       "            source       time  \\\n",
       "0  elfinanciero_mx 2014-01-01   \n",
       "\n",
       "                                               tweet  \n",
       "0  #Letonia adopta el euro, se convierte en el pa...  "
      ]
     },
     "execution_count": 46,
     "metadata": {},
     "output_type": "execute_result"
    }
   ],
   "source": [
    "forex = pd.read_csv(\"forex.csv.xz\", compression=\"xz\")\n",
    "forex[\"time\"] = pd.to_datetime(forex.time)\n",
    "forex.head(1)"
   ]
  },
  {
   "cell_type": "code",
   "execution_count": 47,
   "metadata": {},
   "outputs": [
    {
     "data": {
      "text/html": [
       "<div>\n",
       "<style scoped>\n",
       "    .dataframe tbody tr th:only-of-type {\n",
       "        vertical-align: middle;\n",
       "    }\n",
       "\n",
       "    .dataframe tbody tr th {\n",
       "        vertical-align: top;\n",
       "    }\n",
       "\n",
       "    .dataframe thead th {\n",
       "        text-align: right;\n",
       "    }\n",
       "</style>\n",
       "<table border=\"1\" class=\"dataframe\">\n",
       "  <thead>\n",
       "    <tr style=\"text-align: right;\">\n",
       "      <th></th>\n",
       "      <th>source</th>\n",
       "      <th>time</th>\n",
       "      <th>tweet</th>\n",
       "      <th>ipc</th>\n",
       "      <th>sentiment</th>\n",
       "    </tr>\n",
       "  </thead>\n",
       "  <tbody>\n",
       "    <tr>\n",
       "      <th>0</th>\n",
       "      <td>elfinanciero_mx</td>\n",
       "      <td>2014-01-01</td>\n",
       "      <td>#Letonia adopta el euro, se convierte en el pa...</td>\n",
       "      <td>NaN</td>\n",
       "      <td>NaN</td>\n",
       "    </tr>\n",
       "    <tr>\n",
       "      <th>1</th>\n",
       "      <td>elfinanciero_mx</td>\n",
       "      <td>2014-01-01</td>\n",
       "      <td>#Sitelopediste Peso con mejor desempeño en Lat...</td>\n",
       "      <td>NaN</td>\n",
       "      <td>NaN</td>\n",
       "    </tr>\n",
       "    <tr>\n",
       "      <th>2</th>\n",
       "      <td>elfinanciero_mx</td>\n",
       "      <td>2014-01-01</td>\n",
       "      <td>#Dólar se vende dólar a 13.25 pesos en promedi...</td>\n",
       "      <td>NaN</td>\n",
       "      <td>NaN</td>\n",
       "    </tr>\n",
       "    <tr>\n",
       "      <th>3</th>\n",
       "      <td>elfinanciero_mx</td>\n",
       "      <td>2014-01-02</td>\n",
       "      <td>#Opinión: @adriantrejo platica cómo el goberna...</td>\n",
       "      <td>-2.0</td>\n",
       "      <td>-1.0</td>\n",
       "    </tr>\n",
       "    <tr>\n",
       "      <th>4</th>\n",
       "      <td>elfinanciero_mx</td>\n",
       "      <td>2014-01-03</td>\n",
       "      <td>#Opinión En LA DIVISA DEL PODER, @adriantrejo ...</td>\n",
       "      <td>-0.0</td>\n",
       "      <td>0.0</td>\n",
       "    </tr>\n",
       "  </tbody>\n",
       "</table>\n",
       "</div>"
      ],
      "text/plain": [
       "            source       time  \\\n",
       "0  elfinanciero_mx 2014-01-01   \n",
       "1  elfinanciero_mx 2014-01-01   \n",
       "2  elfinanciero_mx 2014-01-01   \n",
       "3  elfinanciero_mx 2014-01-02   \n",
       "4  elfinanciero_mx 2014-01-03   \n",
       "\n",
       "                                               tweet  ipc  sentiment  \n",
       "0  #Letonia adopta el euro, se convierte en el pa...  NaN        NaN  \n",
       "1  #Sitelopediste Peso con mejor desempeño en Lat...  NaN        NaN  \n",
       "2  #Dólar se vende dólar a 13.25 pesos en promedi...  NaN        NaN  \n",
       "3  #Opinión: @adriantrejo platica cómo el goberna... -2.0       -1.0  \n",
       "4  #Opinión En LA DIVISA DEL PODER, @adriantrejo ... -0.0        0.0  "
      ]
     },
     "execution_count": 47,
     "metadata": {},
     "output_type": "execute_result"
    }
   ],
   "source": [
    "forex.drop(columns=[\"sentiment\"], inplace=True, errors=\"ignore\")\n",
    "#sentimiento basado en el porcentaje de cambio del ipc\n",
    "forex[\"ipc\"] = forex.join(ipc.set_index(\"date\"), on=\"time\", how=\"left\").deltaPct.round(0)\n",
    "#sentimiento basado en reglas\n",
    "forex[\"sentiment\"] = forex.join(ipc.set_index(\"date\"), on=\"time\", how=\"left\").sentiment\n",
    "forex.head(5)"
   ]
  },
  {
   "cell_type": "markdown",
   "metadata": {},
   "source": [
    "Como en el caso anterior, existen fechas en las cuales no opera la bolsa, pero sí existen tweets publicados; por lo que es conveniente aplicar dicho tweet al cierre de la jornada del siguiente día hábil para la bolsa. Se puede observar en la salida anterior, el caso de un 1 de Enero, donde la bolsa no laboró. Pero el 2 de enero sí, entonces, dicho tweet aplica para el 2 de Enero. \n",
    "\n",
    "Lo mismo aplica para tweets que son publicados en Sábado o Domingo, por lo que aplicamos el sentimiento del siguiente día hábil."
   ]
  },
  {
   "cell_type": "code",
   "execution_count": 48,
   "metadata": {},
   "outputs": [
    {
     "data": {
      "text/html": [
       "<div>\n",
       "<style scoped>\n",
       "    .dataframe tbody tr th:only-of-type {\n",
       "        vertical-align: middle;\n",
       "    }\n",
       "\n",
       "    .dataframe tbody tr th {\n",
       "        vertical-align: top;\n",
       "    }\n",
       "\n",
       "    .dataframe thead th {\n",
       "        text-align: right;\n",
       "    }\n",
       "</style>\n",
       "<table border=\"1\" class=\"dataframe\">\n",
       "  <thead>\n",
       "    <tr style=\"text-align: right;\">\n",
       "      <th></th>\n",
       "      <th>source</th>\n",
       "      <th>time</th>\n",
       "      <th>tweet</th>\n",
       "      <th>ipc</th>\n",
       "      <th>sentiment</th>\n",
       "    </tr>\n",
       "  </thead>\n",
       "  <tbody>\n",
       "    <tr>\n",
       "      <th>3334</th>\n",
       "      <td>elfinanciero_mx</td>\n",
       "      <td>2019-03-22</td>\n",
       "      <td>El dólar se dispara a 19.40 pesos en bancos.</td>\n",
       "      <td>-2.0</td>\n",
       "      <td>-1.0</td>\n",
       "    </tr>\n",
       "    <tr>\n",
       "      <th>3335</th>\n",
       "      <td>elfinanciero_mx</td>\n",
       "      <td>2019-03-22</td>\n",
       "      <td>Plazas europeas caen 'golpeados' por malos dat...</td>\n",
       "      <td>-2.0</td>\n",
       "      <td>-1.0</td>\n",
       "    </tr>\n",
       "    <tr>\n",
       "      <th>3336</th>\n",
       "      <td>eleconomista</td>\n",
       "      <td>2019-03-24</td>\n",
       "      <td>La moneda mexicana se mantiene como un activo ...</td>\n",
       "      <td>0.0</td>\n",
       "      <td>0.0</td>\n",
       "    </tr>\n",
       "  </tbody>\n",
       "</table>\n",
       "</div>"
      ],
      "text/plain": [
       "               source       time  \\\n",
       "3334  elfinanciero_mx 2019-03-22   \n",
       "3335  elfinanciero_mx 2019-03-22   \n",
       "3336     eleconomista 2019-03-24   \n",
       "\n",
       "                                                  tweet  ipc  sentiment  \n",
       "3334       El dólar se dispara a 19.40 pesos en bancos. -2.0       -1.0  \n",
       "3335  Plazas europeas caen 'golpeados' por malos dat... -2.0       -1.0  \n",
       "3336  La moneda mexicana se mantiene como un activo ...  0.0        0.0  "
      ]
     },
     "execution_count": 48,
     "metadata": {},
     "output_type": "execute_result"
    }
   ],
   "source": [
    "forex = tweet_adjust_df(forex, [\"ipc\", \"sentiment\"], ipc=ipc[[\"date\", \"deltaPct\", \"sentiment\"]]).copy()\n",
    "forex.tail(3)"
   ]
  },
  {
   "cell_type": "markdown",
   "metadata": {},
   "source": [
    "### Separación en conjunto de entrenamiento y pruebas\n",
    "\n",
    "Separamos nuestro data set, con semilla estática, para separa nuestro set en datos de entrenamiento y prueba de manera reproducible."
   ]
  },
  {
   "cell_type": "code",
   "execution_count": 49,
   "metadata": {},
   "outputs": [
    {
     "name": "stdout",
     "output_type": "stream",
     "text": [
      "Tamaño de conjuntos de datos:\n",
      "Entrenamiento: 2002 (59.994007%)\n",
      "Prueba: 1335 (40.005993%)\n"
     ]
    }
   ],
   "source": [
    "train3, test3 = train_test_split(forex, test_size=0.4, random_state=175904)\n",
    "train3.reset_index(drop=True,inplace=True)\n",
    "test3.reset_index(drop=True,inplace=True)\n",
    "train3 = train3.copy()\n",
    "test3 = test3.copy()\n",
    "print(\"Tamaño de conjuntos de datos:\\nEntrenamiento: %d (%f%%)\\nPrueba: %d (%f%%)\"%(\n",
    "    train3.shape[0], 100*train3.shape[0]/forex.shape[0], \n",
    "    test3.shape[0], 100*test3.shape[0]/forex.shape[0]))"
   ]
  },
  {
   "cell_type": "markdown",
   "metadata": {},
   "source": [
    "#### Naïve-Bayes"
   ]
  },
  {
   "cell_type": "code",
   "execution_count": 50,
   "metadata": {},
   "outputs": [
    {
     "data": {
      "text/html": [
       "<div>\n",
       "<style scoped>\n",
       "    .dataframe tbody tr th:only-of-type {\n",
       "        vertical-align: middle;\n",
       "    }\n",
       "\n",
       "    .dataframe tbody tr th {\n",
       "        vertical-align: top;\n",
       "    }\n",
       "\n",
       "    .dataframe thead th {\n",
       "        text-align: right;\n",
       "    }\n",
       "</style>\n",
       "<table border=\"1\" class=\"dataframe\">\n",
       "  <thead>\n",
       "    <tr style=\"text-align: right;\">\n",
       "      <th></th>\n",
       "      <th>source</th>\n",
       "      <th>time</th>\n",
       "      <th>tweet</th>\n",
       "      <th>ipc</th>\n",
       "      <th>sentiment</th>\n",
       "      <th>sentiment_hat</th>\n",
       "      <th>ipc_hat</th>\n",
       "    </tr>\n",
       "  </thead>\n",
       "  <tbody>\n",
       "    <tr>\n",
       "      <th>0</th>\n",
       "      <td>elfinanciero_mx</td>\n",
       "      <td>2014-05-12</td>\n",
       "      <td>#LoMásLeído: ¿Por qué el dólar se ha debilitad...</td>\n",
       "      <td>1.0</td>\n",
       "      <td>1.0</td>\n",
       "      <td>0.0</td>\n",
       "      <td>0.0</td>\n",
       "    </tr>\n",
       "    <tr>\n",
       "      <th>1</th>\n",
       "      <td>elfinanciero_mx</td>\n",
       "      <td>2016-11-03</td>\n",
       "      <td>Un nuevo análisis prevé que el dólar llegue a ...</td>\n",
       "      <td>-1.0</td>\n",
       "      <td>-1.0</td>\n",
       "      <td>0.0</td>\n",
       "      <td>0.0</td>\n",
       "    </tr>\n",
       "    <tr>\n",
       "      <th>2</th>\n",
       "      <td>elfinanciero_mx</td>\n",
       "      <td>2017-06-29</td>\n",
       "      <td>Al peso le 'llueve' y es la peor moneda del mu...</td>\n",
       "      <td>-0.0</td>\n",
       "      <td>0.0</td>\n",
       "      <td>0.0</td>\n",
       "      <td>0.0</td>\n",
       "    </tr>\n",
       "    <tr>\n",
       "      <th>3</th>\n",
       "      <td>elfinanciero_mx</td>\n",
       "      <td>2016-02-25</td>\n",
       "      <td>Peso avanza impulsado por datos económicos en EU</td>\n",
       "      <td>2.0</td>\n",
       "      <td>1.0</td>\n",
       "      <td>0.0</td>\n",
       "      <td>0.0</td>\n",
       "    </tr>\n",
       "    <tr>\n",
       "      <th>4</th>\n",
       "      <td>eleconomista</td>\n",
       "      <td>2016-07-21</td>\n",
       "      <td>Peso pierde por tercer jornada; dólar subió a ...</td>\n",
       "      <td>-0.0</td>\n",
       "      <td>0.0</td>\n",
       "      <td>0.0</td>\n",
       "      <td>0.0</td>\n",
       "    </tr>\n",
       "  </tbody>\n",
       "</table>\n",
       "</div>"
      ],
      "text/plain": [
       "            source       time  \\\n",
       "0  elfinanciero_mx 2014-05-12   \n",
       "1  elfinanciero_mx 2016-11-03   \n",
       "2  elfinanciero_mx 2017-06-29   \n",
       "3  elfinanciero_mx 2016-02-25   \n",
       "4     eleconomista 2016-07-21   \n",
       "\n",
       "                                               tweet  ipc  sentiment  \\\n",
       "0  #LoMásLeído: ¿Por qué el dólar se ha debilitad...  1.0        1.0   \n",
       "1  Un nuevo análisis prevé que el dólar llegue a ... -1.0       -1.0   \n",
       "2  Al peso le 'llueve' y es la peor moneda del mu... -0.0        0.0   \n",
       "3   Peso avanza impulsado por datos económicos en EU  2.0        1.0   \n",
       "4  Peso pierde por tercer jornada; dólar subió a ... -0.0        0.0   \n",
       "\n",
       "   sentiment_hat  ipc_hat  \n",
       "0            0.0      0.0  \n",
       "1            0.0      0.0  \n",
       "2            0.0      0.0  \n",
       "3            0.0      0.0  \n",
       "4            0.0      0.0  "
      ]
     },
     "execution_count": 50,
     "metadata": {},
     "output_type": "execute_result"
    }
   ],
   "source": [
    "pipe2 = Pipeline([\n",
    "    (\"token\", CountVectorizer(tokenizer=tokenize, stop_words=stop_words)),\n",
    "    (\"tfid\", TfidfTransformer()),\n",
    "    (\"clf\", MultinomialNB(alpha=1.0))\n",
    "])\n",
    "pipe2m0 = pipe2.fit(train3.tweet, train3.sentiment)\n",
    "pipe2m1 = pipe2.fit(train3.tweet, train3.ipc)\n",
    "train3[\"sentiment_hat\"] = pipe2m0.predict(train3.tweet)\n",
    "train3[\"ipc_hat\"] = pipe2m1.predict(train3.tweet)\n",
    "train3.head()"
   ]
  },
  {
   "cell_type": "markdown",
   "metadata": {},
   "source": [
    "#### SVM"
   ]
  },
  {
   "cell_type": "code",
   "execution_count": 51,
   "metadata": {},
   "outputs": [
    {
     "data": {
      "text/html": [
       "<div>\n",
       "<style scoped>\n",
       "    .dataframe tbody tr th:only-of-type {\n",
       "        vertical-align: middle;\n",
       "    }\n",
       "\n",
       "    .dataframe tbody tr th {\n",
       "        vertical-align: top;\n",
       "    }\n",
       "\n",
       "    .dataframe thead th {\n",
       "        text-align: right;\n",
       "    }\n",
       "</style>\n",
       "<table border=\"1\" class=\"dataframe\">\n",
       "  <thead>\n",
       "    <tr style=\"text-align: right;\">\n",
       "      <th></th>\n",
       "      <th>source</th>\n",
       "      <th>time</th>\n",
       "      <th>tweet</th>\n",
       "      <th>ipc</th>\n",
       "      <th>sentiment</th>\n",
       "      <th>sentiment_hat</th>\n",
       "      <th>ipc_hat</th>\n",
       "    </tr>\n",
       "  </thead>\n",
       "  <tbody>\n",
       "    <tr>\n",
       "      <th>0</th>\n",
       "      <td>elfinanciero_mx</td>\n",
       "      <td>2014-05-12</td>\n",
       "      <td>#LoMásLeído: ¿Por qué el dólar se ha debilitad...</td>\n",
       "      <td>1.0</td>\n",
       "      <td>1.0</td>\n",
       "      <td>0.0</td>\n",
       "      <td>0.0</td>\n",
       "    </tr>\n",
       "    <tr>\n",
       "      <th>1</th>\n",
       "      <td>elfinanciero_mx</td>\n",
       "      <td>2016-11-03</td>\n",
       "      <td>Un nuevo análisis prevé que el dólar llegue a ...</td>\n",
       "      <td>-1.0</td>\n",
       "      <td>-1.0</td>\n",
       "      <td>-1.0</td>\n",
       "      <td>-1.0</td>\n",
       "    </tr>\n",
       "    <tr>\n",
       "      <th>2</th>\n",
       "      <td>elfinanciero_mx</td>\n",
       "      <td>2017-06-29</td>\n",
       "      <td>Al peso le 'llueve' y es la peor moneda del mu...</td>\n",
       "      <td>-0.0</td>\n",
       "      <td>0.0</td>\n",
       "      <td>0.0</td>\n",
       "      <td>0.0</td>\n",
       "    </tr>\n",
       "    <tr>\n",
       "      <th>3</th>\n",
       "      <td>elfinanciero_mx</td>\n",
       "      <td>2016-02-25</td>\n",
       "      <td>Peso avanza impulsado por datos económicos en EU</td>\n",
       "      <td>2.0</td>\n",
       "      <td>1.0</td>\n",
       "      <td>0.0</td>\n",
       "      <td>0.0</td>\n",
       "    </tr>\n",
       "    <tr>\n",
       "      <th>4</th>\n",
       "      <td>eleconomista</td>\n",
       "      <td>2016-07-21</td>\n",
       "      <td>Peso pierde por tercer jornada; dólar subió a ...</td>\n",
       "      <td>-0.0</td>\n",
       "      <td>0.0</td>\n",
       "      <td>0.0</td>\n",
       "      <td>0.0</td>\n",
       "    </tr>\n",
       "  </tbody>\n",
       "</table>\n",
       "</div>"
      ],
      "text/plain": [
       "            source       time  \\\n",
       "0  elfinanciero_mx 2014-05-12   \n",
       "1  elfinanciero_mx 2016-11-03   \n",
       "2  elfinanciero_mx 2017-06-29   \n",
       "3  elfinanciero_mx 2016-02-25   \n",
       "4     eleconomista 2016-07-21   \n",
       "\n",
       "                                               tweet  ipc  sentiment  \\\n",
       "0  #LoMásLeído: ¿Por qué el dólar se ha debilitad...  1.0        1.0   \n",
       "1  Un nuevo análisis prevé que el dólar llegue a ... -1.0       -1.0   \n",
       "2  Al peso le 'llueve' y es la peor moneda del mu... -0.0        0.0   \n",
       "3   Peso avanza impulsado por datos económicos en EU  2.0        1.0   \n",
       "4  Peso pierde por tercer jornada; dólar subió a ... -0.0        0.0   \n",
       "\n",
       "   sentiment_hat  ipc_hat  \n",
       "0            0.0      0.0  \n",
       "1           -1.0     -1.0  \n",
       "2            0.0      0.0  \n",
       "3            0.0      0.0  \n",
       "4            0.0      0.0  "
      ]
     },
     "execution_count": 51,
     "metadata": {},
     "output_type": "execute_result"
    }
   ],
   "source": [
    "pipe2b = Pipeline([\n",
    "    (\"token\", CountVectorizer(tokenizer=tokenize, stop_words=stop_words)),\n",
    "    (\"tfid\", TfidfTransformer()),\n",
    "    (\"clf\", LinearSVC())\n",
    "])\n",
    "pipe2bm0 = pipe2b.fit(train3.tweet, train3.sentiment)\n",
    "pipe2bm1 = pipe2b.fit(train3.tweet, train3.ipc)\n",
    "train3[\"sentiment_hat\"] = pipe2bm0.predict(train3.tweet)\n",
    "train3[\"ipc_hat\"] = pipe2bm1.predict(train3.tweet)\n",
    "train3.head()"
   ]
  },
  {
   "cell_type": "markdown",
   "metadata": {},
   "source": [
    "### Métricas para Modelo basado en Sentimiento\n",
    "\n",
    "Basamos nuestro modelo en 2 sentimientos: que sube (+1), neutro (0) y que baja (-1)"
   ]
  },
  {
   "cell_type": "markdown",
   "metadata": {},
   "source": [
    "#### Naïve-Bayes"
   ]
  },
  {
   "cell_type": "code",
   "execution_count": 52,
   "metadata": {},
   "outputs": [
    {
     "name": "stdout",
     "output_type": "stream",
     "text": [
      "             precision    recall  f1-score   support\n",
      "\n",
      "       -1.0       1.00      0.00      0.01       326\n",
      "        0.0       0.50      0.99      0.67       673\n",
      "        1.0       0.44      0.01      0.02       336\n",
      "\n",
      "avg / total       0.61      0.50      0.34      1335\n",
      "\n"
     ]
    }
   ],
   "source": [
    "test3[\"sentiment_hat\"] = pipe2m0.predict(test3.tweet)\n",
    "print(classification_report(test3.sentiment, test3.sentiment_hat))"
   ]
  },
  {
   "cell_type": "markdown",
   "metadata": {},
   "source": [
    "#### SVM"
   ]
  },
  {
   "cell_type": "code",
   "execution_count": 53,
   "metadata": {},
   "outputs": [
    {
     "name": "stdout",
     "output_type": "stream",
     "text": [
      "             precision    recall  f1-score   support\n",
      "\n",
      "       -5.0       0.00      0.00      0.00         0\n",
      "       -3.0       0.00      0.00      0.00         0\n",
      "       -2.0       0.00      0.00      0.00         0\n",
      "       -1.0       0.29      0.14      0.19       326\n",
      "        0.0       0.51      0.68      0.58       673\n",
      "        1.0       0.26      0.22      0.24       336\n",
      "\n",
      "avg / total       0.40      0.43      0.40      1335\n",
      "\n"
     ]
    },
    {
     "name": "stderr",
     "output_type": "stream",
     "text": [
      "/opt/intel/intelpython3/lib/python3.6/site-packages/sklearn/metrics/classification.py:1137: UndefinedMetricWarning: Recall and F-score are ill-defined and being set to 0.0 in labels with no true samples.\n",
      "  'recall', 'true', average, warn_for)\n"
     ]
    }
   ],
   "source": [
    "test3[\"sentiment_hat\"] = pipe2bm0.predict(test3.tweet)\n",
    "print(classification_report(test3.sentiment, test3.sentiment_hat))"
   ]
  },
  {
   "cell_type": "markdown",
   "metadata": {},
   "source": [
    "# Bibliografía\n",
    "\n",
    "* Sasaki, Y. (2007). [\"The truth of the F-measure\"](http://www.toyota-ti.ac.jp/Lab/Denshi/COIN/people/yutaka.sasaki/F-measure-YS-26Oct07.pdf)\n",
    "* Smetanin, Sergey (2018). [\"Sentiment Analysis of Tweets using Multinomial Naive Bayes\"](https://towardsdatascience.com/sentiment-analysis-of-tweets-using-multinomial-naive-bayes-1009ed24276b)\n",
    "* Bird, Steven; Tan,  Liling; et al. [Sentiment Analysis](http://www.nltk.org/howto/sentiment.html)\n",
    "* Paul, Sayak (2018). [Simplifying Sentiment Analysis in Python](https://www.datacamp.com/community/tutorials/simplifying-sentiment-analysis-python)\n",
    "* Nagy, Peter (2017). [Python NLTK sentiment analysis](https://www.kaggle.com/ngyptr/python-nltk-sentiment-analysis)\n",
    "* Garrido, Manuel (2015). [Como hacer Análisis de Sentimiento en español](https://www.pybonacci.org/2015/11/24/como-hacer-analisis-de-sentimiento-en-espanol-2/)\n",
    "* Bedi, Gunjit (2018). [A guide to Text Classification(NLP) using SVM and Naive Bayes with Python](https://medium.com/@bedigunjit/simple-guide-to-text-classification-nlp-using-svm-and-naive-bayes-with-python-421db3a72d34)"
   ]
  }
 ],
 "metadata": {
  "kernelspec": {
   "display_name": "Python 3",
   "language": "python",
   "name": "python3"
  },
  "language_info": {
   "codemirror_mode": {
    "name": "ipython",
    "version": 3
   },
   "file_extension": ".py",
   "mimetype": "text/x-python",
   "name": "python",
   "nbconvert_exporter": "python",
   "pygments_lexer": "ipython3",
   "version": "3.6.3"
  }
 },
 "nbformat": 4,
 "nbformat_minor": 2
}
