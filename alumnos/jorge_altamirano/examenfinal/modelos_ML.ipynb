{
 "cells": [
  {
   "cell_type": "markdown",
   "metadata": {},
   "source": [
    "# Modelos de AM"
   ]
  },
  {
   "cell_type": "code",
   "execution_count": 101,
   "metadata": {},
   "outputs": [],
   "source": [
    "import numpy as np\n",
    "import pandas as pd\n",
    "from sklearn import linear_model\n",
    "from sklearn.linear_model import Ridge\n",
    "from sklearn.linear_model import Lasso\n",
    "from sklearn.ensemble import RandomForestRegressor,  BaggingRegressor, GradientBoostingRegressor, AdaBoostRegressor\n",
    "from sklearn.neighbors import KNeighborsRegressor\n",
    "from sklearn.neural_network import MLPRegressor\n",
    "from xgboost import XGBRegressor\n",
    "import matplotlib.pyplot as plt"
   ]
  },
  {
   "cell_type": "code",
   "execution_count": 2,
   "metadata": {},
   "outputs": [],
   "source": [
    "datos=pd.read_csv(\"./datos/train_with_cierre/ap1_por_tema.csv\")"
   ]
  },
  {
   "cell_type": "code",
   "execution_count": 3,
   "metadata": {},
   "outputs": [
    {
     "data": {
      "text/html": [
       "<div>\n",
       "<style scoped>\n",
       "    .dataframe tbody tr th:only-of-type {\n",
       "        vertical-align: middle;\n",
       "    }\n",
       "\n",
       "    .dataframe tbody tr th {\n",
       "        vertical-align: top;\n",
       "    }\n",
       "\n",
       "    .dataframe thead th {\n",
       "        text-align: right;\n",
       "    }\n",
       "</style>\n",
       "<table border=\"1\" class=\"dataframe\">\n",
       "  <thead>\n",
       "    <tr style=\"text-align: right;\">\n",
       "      <th></th>\n",
       "      <th>Dates</th>\n",
       "      <th>america movil_positivos</th>\n",
       "      <th>america movil_negativos</th>\n",
       "      <th>america movil_neutros</th>\n",
       "      <th>banco de mexico_positivos</th>\n",
       "      <th>banco de mexico_negativos</th>\n",
       "      <th>banco de mexico_neutros</th>\n",
       "      <th>mexico_positivos</th>\n",
       "      <th>mexico_negativos</th>\n",
       "      <th>mexico_neutros</th>\n",
       "      <th>...</th>\n",
       "      <th>presidente de mexico_negativos</th>\n",
       "      <th>presidente de mexico_neutros</th>\n",
       "      <th>cetes_positivos</th>\n",
       "      <th>cetes_negativos</th>\n",
       "      <th>cetes_neutros</th>\n",
       "      <th>var_rel_apertura</th>\n",
       "      <th>var_rel_cierre</th>\n",
       "      <th>rate_ap_cierre</th>\n",
       "      <th>volume</th>\n",
       "      <th>cierre_next_day</th>\n",
       "    </tr>\n",
       "  </thead>\n",
       "  <tbody>\n",
       "    <tr>\n",
       "      <th>0</th>\n",
       "      <td>2016-01-04</td>\n",
       "      <td>0.0</td>\n",
       "      <td>0.0</td>\n",
       "      <td>0.019608</td>\n",
       "      <td>0.0</td>\n",
       "      <td>0.000000</td>\n",
       "      <td>0.019608</td>\n",
       "      <td>0.000000</td>\n",
       "      <td>0.019608</td>\n",
       "      <td>0.098039</td>\n",
       "      <td>...</td>\n",
       "      <td>0.000000</td>\n",
       "      <td>0.019608</td>\n",
       "      <td>0.0</td>\n",
       "      <td>0.0</td>\n",
       "      <td>0.019608</td>\n",
       "      <td>5.479779</td>\n",
       "      <td>5.590406</td>\n",
       "      <td>1.020188</td>\n",
       "      <td>122098600.0</td>\n",
       "      <td>-0.001710</td>\n",
       "    </tr>\n",
       "    <tr>\n",
       "      <th>1</th>\n",
       "      <td>2016-01-05</td>\n",
       "      <td>0.0</td>\n",
       "      <td>0.0</td>\n",
       "      <td>0.019608</td>\n",
       "      <td>0.0</td>\n",
       "      <td>0.000000</td>\n",
       "      <td>0.019608</td>\n",
       "      <td>0.000000</td>\n",
       "      <td>0.019608</td>\n",
       "      <td>0.098039</td>\n",
       "      <td>...</td>\n",
       "      <td>0.000000</td>\n",
       "      <td>0.019608</td>\n",
       "      <td>0.0</td>\n",
       "      <td>0.0</td>\n",
       "      <td>0.019608</td>\n",
       "      <td>0.724083</td>\n",
       "      <td>0.725407</td>\n",
       "      <td>1.001830</td>\n",
       "      <td>186120200.0</td>\n",
       "      <td>-0.008337</td>\n",
       "    </tr>\n",
       "    <tr>\n",
       "      <th>2</th>\n",
       "      <td>2016-01-06</td>\n",
       "      <td>0.0</td>\n",
       "      <td>0.0</td>\n",
       "      <td>0.019608</td>\n",
       "      <td>0.0</td>\n",
       "      <td>0.006536</td>\n",
       "      <td>0.013072</td>\n",
       "      <td>0.000000</td>\n",
       "      <td>0.028322</td>\n",
       "      <td>0.089325</td>\n",
       "      <td>...</td>\n",
       "      <td>0.000000</td>\n",
       "      <td>0.019608</td>\n",
       "      <td>0.0</td>\n",
       "      <td>0.0</td>\n",
       "      <td>0.019608</td>\n",
       "      <td>0.868997</td>\n",
       "      <td>0.876251</td>\n",
       "      <td>1.008348</td>\n",
       "      <td>185518000.0</td>\n",
       "      <td>-0.024696</td>\n",
       "    </tr>\n",
       "    <tr>\n",
       "      <th>3</th>\n",
       "      <td>2016-01-07</td>\n",
       "      <td>0.0</td>\n",
       "      <td>0.0</td>\n",
       "      <td>0.019608</td>\n",
       "      <td>0.0</td>\n",
       "      <td>0.002179</td>\n",
       "      <td>0.017429</td>\n",
       "      <td>0.000000</td>\n",
       "      <td>0.021786</td>\n",
       "      <td>0.095861</td>\n",
       "      <td>...</td>\n",
       "      <td>0.000000</td>\n",
       "      <td>0.019608</td>\n",
       "      <td>0.0</td>\n",
       "      <td>0.0</td>\n",
       "      <td>0.019608</td>\n",
       "      <td>6.648252</td>\n",
       "      <td>6.816198</td>\n",
       "      <td>1.025262</td>\n",
       "      <td>263904200.0</td>\n",
       "      <td>-0.009744</td>\n",
       "    </tr>\n",
       "    <tr>\n",
       "      <th>4</th>\n",
       "      <td>2016-01-08</td>\n",
       "      <td>0.0</td>\n",
       "      <td>0.0</td>\n",
       "      <td>0.019608</td>\n",
       "      <td>0.0</td>\n",
       "      <td>0.000726</td>\n",
       "      <td>0.018882</td>\n",
       "      <td>0.001452</td>\n",
       "      <td>0.021786</td>\n",
       "      <td>0.094408</td>\n",
       "      <td>...</td>\n",
       "      <td>0.000726</td>\n",
       "      <td>0.018882</td>\n",
       "      <td>0.0</td>\n",
       "      <td>0.0</td>\n",
       "      <td>0.019608</td>\n",
       "      <td>4.459573</td>\n",
       "      <td>4.503480</td>\n",
       "      <td>1.009846</td>\n",
       "      <td>373461300.0</td>\n",
       "      <td>0.010965</td>\n",
       "    </tr>\n",
       "  </tbody>\n",
       "</table>\n",
       "<p>5 rows × 129 columns</p>\n",
       "</div>"
      ],
      "text/plain": [
       "        Dates  america movil_positivos  america movil_negativos  \\\n",
       "0  2016-01-04                      0.0                      0.0   \n",
       "1  2016-01-05                      0.0                      0.0   \n",
       "2  2016-01-06                      0.0                      0.0   \n",
       "3  2016-01-07                      0.0                      0.0   \n",
       "4  2016-01-08                      0.0                      0.0   \n",
       "\n",
       "   america movil_neutros  banco de mexico_positivos  \\\n",
       "0               0.019608                        0.0   \n",
       "1               0.019608                        0.0   \n",
       "2               0.019608                        0.0   \n",
       "3               0.019608                        0.0   \n",
       "4               0.019608                        0.0   \n",
       "\n",
       "   banco de mexico_negativos  banco de mexico_neutros  mexico_positivos  \\\n",
       "0                   0.000000                 0.019608          0.000000   \n",
       "1                   0.000000                 0.019608          0.000000   \n",
       "2                   0.006536                 0.013072          0.000000   \n",
       "3                   0.002179                 0.017429          0.000000   \n",
       "4                   0.000726                 0.018882          0.001452   \n",
       "\n",
       "   mexico_negativos  mexico_neutros       ...         \\\n",
       "0          0.019608        0.098039       ...          \n",
       "1          0.019608        0.098039       ...          \n",
       "2          0.028322        0.089325       ...          \n",
       "3          0.021786        0.095861       ...          \n",
       "4          0.021786        0.094408       ...          \n",
       "\n",
       "   presidente de mexico_negativos  presidente de mexico_neutros  \\\n",
       "0                        0.000000                      0.019608   \n",
       "1                        0.000000                      0.019608   \n",
       "2                        0.000000                      0.019608   \n",
       "3                        0.000000                      0.019608   \n",
       "4                        0.000726                      0.018882   \n",
       "\n",
       "   cetes_positivos  cetes_negativos  cetes_neutros  var_rel_apertura  \\\n",
       "0              0.0              0.0       0.019608          5.479779   \n",
       "1              0.0              0.0       0.019608          0.724083   \n",
       "2              0.0              0.0       0.019608          0.868997   \n",
       "3              0.0              0.0       0.019608          6.648252   \n",
       "4              0.0              0.0       0.019608          4.459573   \n",
       "\n",
       "   var_rel_cierre  rate_ap_cierre       volume  cierre_next_day  \n",
       "0        5.590406        1.020188  122098600.0        -0.001710  \n",
       "1        0.725407        1.001830  186120200.0        -0.008337  \n",
       "2        0.876251        1.008348  185518000.0        -0.024696  \n",
       "3        6.816198        1.025262  263904200.0        -0.009744  \n",
       "4        4.503480        1.009846  373461300.0         0.010965  \n",
       "\n",
       "[5 rows x 129 columns]"
      ]
     },
     "execution_count": 3,
     "metadata": {},
     "output_type": "execute_result"
    }
   ],
   "source": [
    "datos.head()"
   ]
  },
  {
   "cell_type": "code",
   "execution_count": 4,
   "metadata": {},
   "outputs": [
    {
     "data": {
      "text/plain": [
       "0   -0.001710\n",
       "1   -0.008337\n",
       "2   -0.024696\n",
       "3   -0.009744\n",
       "4    0.010965\n",
       "Name: cierre_next_day, dtype: float64"
      ]
     },
     "execution_count": 4,
     "metadata": {},
     "output_type": "execute_result"
    }
   ],
   "source": [
    "Y=datos[\"cierre_next_day\"]\n",
    "Y_train=Y.iloc[0:607]\n",
    "Y_test=Y.iloc[608:]\n",
    "Y_train.head()"
   ]
  },
  {
   "cell_type": "code",
   "execution_count": 154,
   "metadata": {},
   "outputs": [
    {
     "ename": "SyntaxError",
     "evalue": "invalid syntax (<ipython-input-154-b0350304af2a>, line 1)",
     "output_type": "error",
     "traceback": [
      "\u001b[0;36m  File \u001b[0;32m\"<ipython-input-154-b0350304af2a>\"\u001b[0;36m, line \u001b[0;32m1\u001b[0m\n\u001b[0;31m    X=datos.iloc[:,[1:123,125]]\u001b[0m\n\u001b[0m                     ^\u001b[0m\n\u001b[0;31mSyntaxError\u001b[0m\u001b[0;31m:\u001b[0m invalid syntax\n"
     ]
    }
   ],
   "source": [
    "\n"
   ]
  },
  {
   "cell_type": "code",
   "execution_count": 156,
   "metadata": {},
   "outputs": [
    {
     "data": {
      "text/html": [
       "<div>\n",
       "<style scoped>\n",
       "    .dataframe tbody tr th:only-of-type {\n",
       "        vertical-align: middle;\n",
       "    }\n",
       "\n",
       "    .dataframe tbody tr th {\n",
       "        vertical-align: top;\n",
       "    }\n",
       "\n",
       "    .dataframe thead th {\n",
       "        text-align: right;\n",
       "    }\n",
       "</style>\n",
       "<table border=\"1\" class=\"dataframe\">\n",
       "  <thead>\n",
       "    <tr style=\"text-align: right;\">\n",
       "      <th></th>\n",
       "      <th>america movil_positivos</th>\n",
       "      <th>america movil_negativos</th>\n",
       "      <th>america movil_neutros</th>\n",
       "      <th>banco de mexico_positivos</th>\n",
       "      <th>banco de mexico_negativos</th>\n",
       "      <th>banco de mexico_neutros</th>\n",
       "      <th>mexico_positivos</th>\n",
       "      <th>mexico_negativos</th>\n",
       "      <th>mexico_neutros</th>\n",
       "      <th>bmv_positivos</th>\n",
       "      <th>...</th>\n",
       "      <th>pinfra_negativos</th>\n",
       "      <th>pinfra_neutros</th>\n",
       "      <th>santander mexico_positivos</th>\n",
       "      <th>santander mexico_negativos</th>\n",
       "      <th>santander mexico_neutros</th>\n",
       "      <th>presidente de mexico_positivos</th>\n",
       "      <th>presidente de mexico_negativos</th>\n",
       "      <th>presidente de mexico_neutros</th>\n",
       "      <th>cetes_positivos</th>\n",
       "      <th>cetes_negativos</th>\n",
       "    </tr>\n",
       "  </thead>\n",
       "  <tbody>\n",
       "    <tr>\n",
       "      <th>0</th>\n",
       "      <td>0.0</td>\n",
       "      <td>0.0</td>\n",
       "      <td>0.019608</td>\n",
       "      <td>0.0</td>\n",
       "      <td>0.000000</td>\n",
       "      <td>0.019608</td>\n",
       "      <td>0.000000</td>\n",
       "      <td>0.019608</td>\n",
       "      <td>0.098039</td>\n",
       "      <td>0.0</td>\n",
       "      <td>...</td>\n",
       "      <td>0.000000</td>\n",
       "      <td>0.019608</td>\n",
       "      <td>0.000000</td>\n",
       "      <td>0.000000</td>\n",
       "      <td>0.019608</td>\n",
       "      <td>0.0</td>\n",
       "      <td>0.000000</td>\n",
       "      <td>0.019608</td>\n",
       "      <td>0.0</td>\n",
       "      <td>0.0</td>\n",
       "    </tr>\n",
       "    <tr>\n",
       "      <th>1</th>\n",
       "      <td>0.0</td>\n",
       "      <td>0.0</td>\n",
       "      <td>0.019608</td>\n",
       "      <td>0.0</td>\n",
       "      <td>0.000000</td>\n",
       "      <td>0.019608</td>\n",
       "      <td>0.000000</td>\n",
       "      <td>0.019608</td>\n",
       "      <td>0.098039</td>\n",
       "      <td>0.0</td>\n",
       "      <td>...</td>\n",
       "      <td>0.004357</td>\n",
       "      <td>0.015251</td>\n",
       "      <td>0.000000</td>\n",
       "      <td>0.000000</td>\n",
       "      <td>0.019608</td>\n",
       "      <td>0.0</td>\n",
       "      <td>0.000000</td>\n",
       "      <td>0.019608</td>\n",
       "      <td>0.0</td>\n",
       "      <td>0.0</td>\n",
       "    </tr>\n",
       "    <tr>\n",
       "      <th>2</th>\n",
       "      <td>0.0</td>\n",
       "      <td>0.0</td>\n",
       "      <td>0.019608</td>\n",
       "      <td>0.0</td>\n",
       "      <td>0.006536</td>\n",
       "      <td>0.013072</td>\n",
       "      <td>0.000000</td>\n",
       "      <td>0.028322</td>\n",
       "      <td>0.089325</td>\n",
       "      <td>0.0</td>\n",
       "      <td>...</td>\n",
       "      <td>0.000000</td>\n",
       "      <td>0.019608</td>\n",
       "      <td>0.000000</td>\n",
       "      <td>0.002179</td>\n",
       "      <td>0.017429</td>\n",
       "      <td>0.0</td>\n",
       "      <td>0.000000</td>\n",
       "      <td>0.019608</td>\n",
       "      <td>0.0</td>\n",
       "      <td>0.0</td>\n",
       "    </tr>\n",
       "    <tr>\n",
       "      <th>3</th>\n",
       "      <td>0.0</td>\n",
       "      <td>0.0</td>\n",
       "      <td>0.019608</td>\n",
       "      <td>0.0</td>\n",
       "      <td>0.002179</td>\n",
       "      <td>0.017429</td>\n",
       "      <td>0.000000</td>\n",
       "      <td>0.021786</td>\n",
       "      <td>0.095861</td>\n",
       "      <td>0.0</td>\n",
       "      <td>...</td>\n",
       "      <td>0.000000</td>\n",
       "      <td>0.019608</td>\n",
       "      <td>0.000000</td>\n",
       "      <td>0.000000</td>\n",
       "      <td>0.019608</td>\n",
       "      <td>0.0</td>\n",
       "      <td>0.000000</td>\n",
       "      <td>0.019608</td>\n",
       "      <td>0.0</td>\n",
       "      <td>0.0</td>\n",
       "    </tr>\n",
       "    <tr>\n",
       "      <th>4</th>\n",
       "      <td>0.0</td>\n",
       "      <td>0.0</td>\n",
       "      <td>0.019608</td>\n",
       "      <td>0.0</td>\n",
       "      <td>0.000726</td>\n",
       "      <td>0.018882</td>\n",
       "      <td>0.001452</td>\n",
       "      <td>0.021786</td>\n",
       "      <td>0.094408</td>\n",
       "      <td>0.0</td>\n",
       "      <td>...</td>\n",
       "      <td>0.000000</td>\n",
       "      <td>0.019608</td>\n",
       "      <td>0.000726</td>\n",
       "      <td>0.000000</td>\n",
       "      <td>0.018882</td>\n",
       "      <td>0.0</td>\n",
       "      <td>0.000726</td>\n",
       "      <td>0.018882</td>\n",
       "      <td>0.0</td>\n",
       "      <td>0.0</td>\n",
       "    </tr>\n",
       "  </tbody>\n",
       "</table>\n",
       "<p>5 rows × 122 columns</p>\n",
       "</div>"
      ],
      "text/plain": [
       "   america movil_positivos  america movil_negativos  america movil_neutros  \\\n",
       "0                      0.0                      0.0               0.019608   \n",
       "1                      0.0                      0.0               0.019608   \n",
       "2                      0.0                      0.0               0.019608   \n",
       "3                      0.0                      0.0               0.019608   \n",
       "4                      0.0                      0.0               0.019608   \n",
       "\n",
       "   banco de mexico_positivos  banco de mexico_negativos  \\\n",
       "0                        0.0                   0.000000   \n",
       "1                        0.0                   0.000000   \n",
       "2                        0.0                   0.006536   \n",
       "3                        0.0                   0.002179   \n",
       "4                        0.0                   0.000726   \n",
       "\n",
       "   banco de mexico_neutros  mexico_positivos  mexico_negativos  \\\n",
       "0                 0.019608          0.000000          0.019608   \n",
       "1                 0.019608          0.000000          0.019608   \n",
       "2                 0.013072          0.000000          0.028322   \n",
       "3                 0.017429          0.000000          0.021786   \n",
       "4                 0.018882          0.001452          0.021786   \n",
       "\n",
       "   mexico_neutros  bmv_positivos       ...         pinfra_negativos  \\\n",
       "0        0.098039            0.0       ...                 0.000000   \n",
       "1        0.098039            0.0       ...                 0.004357   \n",
       "2        0.089325            0.0       ...                 0.000000   \n",
       "3        0.095861            0.0       ...                 0.000000   \n",
       "4        0.094408            0.0       ...                 0.000000   \n",
       "\n",
       "   pinfra_neutros  santander mexico_positivos  santander mexico_negativos  \\\n",
       "0        0.019608                    0.000000                    0.000000   \n",
       "1        0.015251                    0.000000                    0.000000   \n",
       "2        0.019608                    0.000000                    0.002179   \n",
       "3        0.019608                    0.000000                    0.000000   \n",
       "4        0.019608                    0.000726                    0.000000   \n",
       "\n",
       "   santander mexico_neutros  presidente de mexico_positivos  \\\n",
       "0                  0.019608                             0.0   \n",
       "1                  0.019608                             0.0   \n",
       "2                  0.017429                             0.0   \n",
       "3                  0.019608                             0.0   \n",
       "4                  0.018882                             0.0   \n",
       "\n",
       "   presidente de mexico_negativos  presidente de mexico_neutros  \\\n",
       "0                        0.000000                      0.019608   \n",
       "1                        0.000000                      0.019608   \n",
       "2                        0.000000                      0.019608   \n",
       "3                        0.000000                      0.019608   \n",
       "4                        0.000726                      0.018882   \n",
       "\n",
       "   cetes_positivos  cetes_negativos  \n",
       "0              0.0              0.0  \n",
       "1              0.0              0.0  \n",
       "2              0.0              0.0  \n",
       "3              0.0              0.0  \n",
       "4              0.0              0.0  \n",
       "\n",
       "[5 rows x 122 columns]"
      ]
     },
     "execution_count": 156,
     "metadata": {},
     "output_type": "execute_result"
    }
   ],
   "source": [
    "X=datos.iloc[:,1:123]\n",
    "X_train=X.iloc[0:607,:]\n",
    "X_test=X.iloc[608:,:]\n",
    "X_train.head()"
   ]
  },
  {
   "cell_type": "markdown",
   "metadata": {},
   "source": [
    "## Regresión lineal"
   ]
  },
  {
   "cell_type": "code",
   "execution_count": 6,
   "metadata": {},
   "outputs": [],
   "source": [
    "reg = linear_model.LinearRegression()\n",
    "reg.fit(X_train, Y_train)\n",
    "y_reg_pred = reg.predict(X_test)"
   ]
  },
  {
   "cell_type": "code",
   "execution_count": 7,
   "metadata": {},
   "outputs": [
    {
     "data": {
      "text/plain": [
       "145407833797.44983"
      ]
     },
     "execution_count": 7,
     "metadata": {},
     "output_type": "execute_result"
    }
   ],
   "source": [
    "sum(abs(y_reg_pred-Y_test))"
   ]
  },
  {
   "cell_type": "code",
   "execution_count": 8,
   "metadata": {},
   "outputs": [
    {
     "data": {
      "text/plain": [
       "6.160246950194172e+21"
      ]
     },
     "execution_count": 8,
     "metadata": {},
     "output_type": "execute_result"
    }
   ],
   "source": [
    "np.dot(y_reg_pred-Y_test,y_reg_pred-Y_test)\n"
   ]
  },
  {
   "cell_type": "markdown",
   "metadata": {},
   "source": [
    "## La Regresión Lineal con Regularización Ridge\n"
   ]
  },
  {
   "cell_type": "code",
   "execution_count": 25,
   "metadata": {},
   "outputs": [],
   "source": [
    "ridge = Ridge(alpha=0.1, normalize=True)\n",
    "ridge.fit(X_train, Y_train)\n",
    "ridge_pred = ridge.predict(X_test)"
   ]
  },
  {
   "cell_type": "code",
   "execution_count": 26,
   "metadata": {},
   "outputs": [
    {
     "data": {
      "text/plain": [
       "1.633777521371477"
      ]
     },
     "execution_count": 26,
     "metadata": {},
     "output_type": "execute_result"
    }
   ],
   "source": [
    "sum(abs(ridge_pred-Y_test))"
   ]
  },
  {
   "cell_type": "code",
   "execution_count": 27,
   "metadata": {},
   "outputs": [
    {
     "data": {
      "text/plain": [
       "0.026119840396523843"
      ]
     },
     "execution_count": 27,
     "metadata": {},
     "output_type": "execute_result"
    }
   ],
   "source": [
    "np.dot(ridge_pred-Y_test,ridge_pred-Y_test)"
   ]
  },
  {
   "cell_type": "code",
   "execution_count": 28,
   "metadata": {},
   "outputs": [
    {
     "data": {
      "text/plain": [
       "0.5615763546798029"
      ]
     },
     "execution_count": 28,
     "metadata": {},
     "output_type": "execute_result"
    }
   ],
   "source": [
    "pred=ridge_pred>0\n",
    "real=Y_test>0\n",
    "sum(pred==real)/real.shape[0]\n"
   ]
  },
  {
   "cell_type": "code",
   "execution_count": 51,
   "metadata": {},
   "outputs": [
    {
     "data": {
      "image/png": "[encoded data removed]",
      "text/plain": [
       "<Figure size 432x288 with 1 Axes>"
      ]
     },
     "metadata": {
      "needs_background": "light"
     },
     "output_type": "display_data"
    }
   ],
   "source": [
    "fechas=datos.iloc[608:,0]\n",
    "residuales=ridge_pred-Y_test\n",
    "plt.scatter(fechas,residuales)\n",
    "plt.axhline(y=0,color='red',linewidth=3)\n",
    "plt.axhline(y=-1.96*desv,color='red',linewidth=2,linestyle='--')\n",
    "plt.axhline(y=+1.96*desv,color='red',linewidth=2,linestyle='--')\n",
    "plt.tick_params(axis='both',which='major')\n",
    "plt.title(\"Grafica de residuales\")\n",
    "plt.show()"
   ]
  },
  {
   "cell_type": "code",
   "execution_count": 155,
   "metadata": {},
   "outputs": [
    {
     "data": {
      "image/png": "[encoded data removed]",
      "text/plain": [
       "<Figure size 432x288 with 1 Axes>"
      ]
     },
     "metadata": {
      "needs_background": "light"
     },
     "output_type": "display_data"
    }
   ],
   "source": [
    "plt.scatter(fechas,ridge_pred,color='red',linewidth=0.5)\n",
    "plt.scatter(fechas,Y_test,color='blue',marker='<')\n",
    "plt.tick_params(axis='both',which='major')\n",
    "plt.title(\"Grafica valores reales vs predicción\")\n",
    "plt.show()"
   ]
  },
  {
   "cell_type": "markdown",
   "metadata": {},
   "source": [
    "## La Regresión Lineal con Regularización Lasso"
   ]
  },
  {
   "cell_type": "code",
   "execution_count": 14,
   "metadata": {},
   "outputs": [],
   "source": [
    "lasso = Lasso(alpha=0.1, normalize=True)\n",
    "lasso.fit(X_train, Y_train)\n",
    "lasso_pred = lasso.predict(X_test)"
   ]
  },
  {
   "cell_type": "code",
   "execution_count": 15,
   "metadata": {},
   "outputs": [
    {
     "data": {
      "text/plain": [
       "1.5963707287329594"
      ]
     },
     "execution_count": 15,
     "metadata": {},
     "output_type": "execute_result"
    }
   ],
   "source": [
    "sum(abs(lasso_pred-Y_test))"
   ]
  },
  {
   "cell_type": "code",
   "execution_count": 16,
   "metadata": {},
   "outputs": [
    {
     "data": {
      "text/plain": [
       "0.02487607561109877"
      ]
     },
     "execution_count": 16,
     "metadata": {},
     "output_type": "execute_result"
    }
   ],
   "source": [
    "np.dot(lasso_pred-Y_test,lasso_pred-Y_test)"
   ]
  },
  {
   "cell_type": "code",
   "execution_count": 17,
   "metadata": {},
   "outputs": [
    {
     "data": {
      "text/plain": [
       "0.4975369458128079"
      ]
     },
     "execution_count": 17,
     "metadata": {},
     "output_type": "execute_result"
    }
   ],
   "source": [
    "pred=lasso_pred>0\n",
    "real=Y_test>0\n",
    "sum(pred==real)/real.shape[0]"
   ]
  },
  {
   "cell_type": "code",
   "execution_count": 50,
   "metadata": {},
   "outputs": [
    {
     "data": {
      "image/png": "[encoded data removed]",
      "text/plain": [
       "<Figure size 432x288 with 1 Axes>"
      ]
     },
     "metadata": {
      "needs_background": "light"
     },
     "output_type": "display_data"
    }
   ],
   "source": [
    "residuales=lasso_pred-Y_test\n",
    "desv=np.std(residuales)\n",
    "plt.scatter(fechas,residuales)\n",
    "plt.axhline(y=0,color='red',linewidth=3)\n",
    "plt.axhline(y=-1.96*desv,color='red',linewidth=2,linestyle='--')\n",
    "plt.axhline(y=+1.96*desv,color='red',linewidth=2,linestyle='--')\n",
    "plt.tick_params(axis='both',which='major')\n",
    "plt.title(\"Grafica de residuales\")\n",
    "plt.show()"
   ]
  },
  {
   "cell_type": "markdown",
   "metadata": {},
   "source": [
    "## Árboles"
   ]
  },
  {
   "cell_type": "markdown",
   "metadata": {},
   "source": [
    "### Random Forest"
   ]
  },
  {
   "cell_type": "code",
   "execution_count": 31,
   "metadata": {},
   "outputs": [],
   "source": [
    "\n",
    "ran_forest = RandomForestRegressor(n_estimators=100) \n",
    "ran_forest.fit(X_train, Y_train)\n",
    "ran_forest_pred = ran_forest.predict(X_test)\n"
   ]
  },
  {
   "cell_type": "code",
   "execution_count": 32,
   "metadata": {},
   "outputs": [
    {
     "data": {
      "text/plain": [
       "1.69278256628744"
      ]
     },
     "execution_count": 32,
     "metadata": {},
     "output_type": "execute_result"
    }
   ],
   "source": [
    "sum(abs(ran_forest_pred-Y_test))"
   ]
  },
  {
   "cell_type": "code",
   "execution_count": 33,
   "metadata": {},
   "outputs": [
    {
     "data": {
      "text/plain": [
       "0.026622104425543067"
      ]
     },
     "execution_count": 33,
     "metadata": {},
     "output_type": "execute_result"
    }
   ],
   "source": [
    "np.dot(ran_forest_pred-Y_test,ran_forest_pred-Y_test)"
   ]
  },
  {
   "cell_type": "code",
   "execution_count": 34,
   "metadata": {},
   "outputs": [
    {
     "data": {
      "text/plain": [
       "0.46798029556650245"
      ]
     },
     "execution_count": 34,
     "metadata": {},
     "output_type": "execute_result"
    }
   ],
   "source": [
    "pred=ran_forest_pred>0\n",
    "real=Y_test>0\n",
    "sum(pred==real)/real.shape[0]"
   ]
  },
  {
   "cell_type": "code",
   "execution_count": 58,
   "metadata": {},
   "outputs": [
    {
     "data": {
      "image/png": "[encoded data removed]",
      "text/plain": [
       "<Figure size 432x288 with 1 Axes>"
      ]
     },
     "metadata": {
      "needs_background": "light"
     },
     "output_type": "display_data"
    }
   ],
   "source": [
    "\n",
    "plt.scatter(fechas,ran_forest_pred,color='red',linewidth=0.5)\n",
    "plt.scatter(fechas,Y_test,color='blue',marker='<')\n",
    "plt.tick_params(axis='both',which='major')\n",
    "plt.title(\"Grafica valores reales vs predicción\")\n",
    "plt.show()"
   ]
  },
  {
   "cell_type": "markdown",
   "metadata": {},
   "source": [
    "### Bagging"
   ]
  },
  {
   "cell_type": "code",
   "execution_count": 60,
   "metadata": {},
   "outputs": [],
   "source": [
    "\n",
    "bagg = BaggingRegressor(n_estimators=60,max_features=1) \n",
    "bagg.fit(X_train, Y_train)\n",
    "bagg_pred = bagg.predict(X_test)"
   ]
  },
  {
   "cell_type": "code",
   "execution_count": 61,
   "metadata": {},
   "outputs": [
    {
     "data": {
      "text/plain": [
       "1.596795360655436"
      ]
     },
     "execution_count": 61,
     "metadata": {},
     "output_type": "execute_result"
    }
   ],
   "source": [
    "sum(abs(bagg_pred-Y_test))"
   ]
  },
  {
   "cell_type": "code",
   "execution_count": 62,
   "metadata": {},
   "outputs": [
    {
     "data": {
      "text/plain": [
       "0.02491762840989683"
      ]
     },
     "execution_count": 62,
     "metadata": {},
     "output_type": "execute_result"
    }
   ],
   "source": [
    "np.dot(bagg_pred-Y_test,bagg_pred-Y_test)"
   ]
  },
  {
   "cell_type": "code",
   "execution_count": 63,
   "metadata": {},
   "outputs": [
    {
     "data": {
      "text/plain": [
       "0.5073891625615764"
      ]
     },
     "execution_count": 63,
     "metadata": {},
     "output_type": "execute_result"
    }
   ],
   "source": [
    "pred=bagg_pred>0\n",
    "real=Y_test>0\n",
    "sum(pred==real)/real.shape[0]"
   ]
  },
  {
   "cell_type": "code",
   "execution_count": 64,
   "metadata": {},
   "outputs": [
    {
     "data": {
      "image/png": "[encoded data removed]",
      "text/plain": [
       "<Figure size 432x288 with 1 Axes>"
      ]
     },
     "metadata": {
      "needs_background": "light"
     },
     "output_type": "display_data"
    }
   ],
   "source": [
    "plt.scatter(fechas,bagg_pred,color='red',linewidth=0.5)\n",
    "plt.scatter(fechas,Y_test,color='blue',marker='<')\n",
    "plt.tick_params(axis='both',which='major')\n",
    "plt.title(\"Grafica valores reales vs predicción\")\n",
    "plt.show()"
   ]
  },
  {
   "cell_type": "markdown",
   "metadata": {},
   "source": [
    "### GradientBoosting"
   ]
  },
  {
   "cell_type": "code",
   "execution_count": 65,
   "metadata": {},
   "outputs": [],
   "source": [
    "grad_boost = GradientBoostingRegressor(n_estimators=50,learning_rate=0.005) \n",
    "grad_boost.fit(X_train, Y_train)\n",
    "grad_boost_pred =grad_boost.predict(X_test)"
   ]
  },
  {
   "cell_type": "code",
   "execution_count": 66,
   "metadata": {},
   "outputs": [
    {
     "data": {
      "text/plain": [
       "1.5953955774647568"
      ]
     },
     "execution_count": 66,
     "metadata": {},
     "output_type": "execute_result"
    }
   ],
   "source": [
    "sum(abs(grad_boost_pred-Y_test))"
   ]
  },
  {
   "cell_type": "code",
   "execution_count": 67,
   "metadata": {},
   "outputs": [
    {
     "data": {
      "text/plain": [
       "0.02496312243215958"
      ]
     },
     "execution_count": 67,
     "metadata": {},
     "output_type": "execute_result"
    }
   ],
   "source": [
    "np.dot(grad_boost_pred-Y_test,grad_boost_pred-Y_test)"
   ]
  },
  {
   "cell_type": "code",
   "execution_count": 68,
   "metadata": {},
   "outputs": [
    {
     "data": {
      "text/plain": [
       "0.4975369458128079"
      ]
     },
     "execution_count": 68,
     "metadata": {},
     "output_type": "execute_result"
    }
   ],
   "source": [
    "pred=grad_boost_pred>0\n",
    "real=Y_test>0\n",
    "sum(pred==real)/real.shape[0]"
   ]
  },
  {
   "cell_type": "code",
   "execution_count": 69,
   "metadata": {},
   "outputs": [
    {
     "data": {
      "image/png": "[encoded data removed]",
      "text/plain": [
       "<Figure size 432x288 with 1 Axes>"
      ]
     },
     "metadata": {
      "needs_background": "light"
     },
     "output_type": "display_data"
    }
   ],
   "source": [
    "plt.scatter(fechas,grad_boost_pred,color='red',linewidth=0.5)\n",
    "plt.scatter(fechas,Y_test,color='blue',marker='<')\n",
    "plt.tick_params(axis='both',which='major')\n",
    "plt.title(\"Grafica valores reales vs predicción\")\n",
    "plt.show()"
   ]
  },
  {
   "cell_type": "markdown",
   "metadata": {},
   "source": [
    "### AdaBoost"
   ]
  },
  {
   "cell_type": "code",
   "execution_count": 70,
   "metadata": {},
   "outputs": [],
   "source": [
    "ada = AdaBoostRegressor(n_estimators=40,learning_rate=0.05) \n",
    "ada.fit(X_train, Y_train)\n",
    "ada_pred = ada.predict(X_test)"
   ]
  },
  {
   "cell_type": "code",
   "execution_count": 71,
   "metadata": {},
   "outputs": [
    {
     "data": {
      "text/plain": [
       "1.6025039140268342"
      ]
     },
     "execution_count": 71,
     "metadata": {},
     "output_type": "execute_result"
    }
   ],
   "source": [
    "sum(abs(ada_pred-Y_test))"
   ]
  },
  {
   "cell_type": "code",
   "execution_count": 72,
   "metadata": {},
   "outputs": [
    {
     "data": {
      "text/plain": [
       "0.025102496106144272"
      ]
     },
     "execution_count": 72,
     "metadata": {},
     "output_type": "execute_result"
    }
   ],
   "source": [
    "np.dot(ada_pred-Y_test,ada_pred-Y_test)"
   ]
  },
  {
   "cell_type": "code",
   "execution_count": 73,
   "metadata": {},
   "outputs": [
    {
     "data": {
      "text/plain": [
       "0.4827586206896552"
      ]
     },
     "execution_count": 73,
     "metadata": {},
     "output_type": "execute_result"
    }
   ],
   "source": [
    "pred=ada_pred>0\n",
    "real=Y_test>0\n",
    "sum(pred==real)/real.shape[0]"
   ]
  },
  {
   "cell_type": "code",
   "execution_count": 74,
   "metadata": {},
   "outputs": [
    {
     "data": {
      "image/png": "[encoded data removed]",
      "text/plain": [
       "<Figure size 432x288 with 1 Axes>"
      ]
     },
     "metadata": {
      "needs_background": "light"
     },
     "output_type": "display_data"
    }
   ],
   "source": [
    "plt.scatter(fechas,ada_pred,color='red',linewidth=0.5)\n",
    "plt.scatter(fechas,Y_test,color='blue',marker='<')\n",
    "plt.tick_params(axis='both',which='major')\n",
    "plt.title(\"Grafica valores reales vs predicción\")\n",
    "plt.show()"
   ]
  },
  {
   "cell_type": "markdown",
   "metadata": {},
   "source": [
    "## XGBoost"
   ]
  },
  {
   "cell_type": "code",
   "execution_count": 75,
   "metadata": {},
   "outputs": [],
   "source": [
    "xgb = XGBRegressor(max_depth=1, learning_rate=0.1, n_estimators=60)\n",
    "xgb.fit(X_train, Y_train)\n",
    "xgb_pred =xgb.predict(X_test)"
   ]
  },
  {
   "cell_type": "code",
   "execution_count": 76,
   "metadata": {},
   "outputs": [
    {
     "data": {
      "text/plain": [
       "1.5954270082633037"
      ]
     },
     "execution_count": 76,
     "metadata": {},
     "output_type": "execute_result"
    }
   ],
   "source": [
    "sum(abs(xgb_pred-Y_test))"
   ]
  },
  {
   "cell_type": "code",
   "execution_count": 77,
   "metadata": {},
   "outputs": [
    {
     "data": {
      "text/plain": [
       "0.02491841381448595"
      ]
     },
     "execution_count": 77,
     "metadata": {},
     "output_type": "execute_result"
    }
   ],
   "source": [
    "np.dot(xgb_pred-Y_test,xgb_pred-Y_test)"
   ]
  },
  {
   "cell_type": "code",
   "execution_count": 78,
   "metadata": {},
   "outputs": [
    {
     "data": {
      "text/plain": [
       "0.49261083743842365"
      ]
     },
     "execution_count": 78,
     "metadata": {},
     "output_type": "execute_result"
    }
   ],
   "source": [
    "pred=xgb_pred>0\n",
    "real=Y_test>0\n",
    "sum(pred==real)/real.shape[0]"
   ]
  },
  {
   "cell_type": "code",
   "execution_count": 79,
   "metadata": {},
   "outputs": [
    {
     "data": {
      "image/png": "[encoded data removed]",
      "text/plain": [
       "<Figure size 432x288 with 1 Axes>"
      ]
     },
     "metadata": {
      "needs_background": "light"
     },
     "output_type": "display_data"
    }
   ],
   "source": [
    "plt.scatter(fechas,xgb_pred,color='red',linewidth=0.5)\n",
    "plt.scatter(fechas,Y_test,color='blue',marker='<')\n",
    "plt.tick_params(axis='both',which='major')\n",
    "plt.title(\"Grafica valores reales vs predicción\")\n",
    "plt.show()"
   ]
  },
  {
   "cell_type": "markdown",
   "metadata": {},
   "source": [
    "## K-Vecinos más cercanos"
   ]
  },
  {
   "cell_type": "code",
   "execution_count": 95,
   "metadata": {},
   "outputs": [],
   "source": [
    "k_vecinos = KNeighborsRegressor(n_neighbors=10) \n",
    "k_vecinos.fit(X_train, Y_train)\n",
    "k_vecinos_pred = k_vecinos.predict(X_test)\n",
    "\n"
   ]
  },
  {
   "cell_type": "code",
   "execution_count": 96,
   "metadata": {},
   "outputs": [
    {
     "data": {
      "text/plain": [
       "1.6332532507610995"
      ]
     },
     "execution_count": 96,
     "metadata": {},
     "output_type": "execute_result"
    }
   ],
   "source": [
    "sum(abs(k_vecinos_pred-Y_test))"
   ]
  },
  {
   "cell_type": "code",
   "execution_count": 97,
   "metadata": {},
   "outputs": [
    {
     "data": {
      "text/plain": [
       "0.02614135288924185"
      ]
     },
     "execution_count": 97,
     "metadata": {},
     "output_type": "execute_result"
    }
   ],
   "source": [
    "np.dot(k_vecinos_pred-Y_test,k_vecinos_pred-Y_test)"
   ]
  },
  {
   "cell_type": "code",
   "execution_count": 98,
   "metadata": {},
   "outputs": [
    {
     "data": {
      "text/plain": [
       "0.5123152709359606"
      ]
     },
     "execution_count": 98,
     "metadata": {},
     "output_type": "execute_result"
    }
   ],
   "source": [
    "pred=k_vecinos_pred>0\n",
    "real=Y_test>0\n",
    "sum(pred==real)/real.shape[0]"
   ]
  },
  {
   "cell_type": "code",
   "execution_count": 99,
   "metadata": {},
   "outputs": [
    {
     "data": {
      "image/png": "[encoded data removed]",
      "text/plain": [
       "<Figure size 432x288 with 1 Axes>"
      ]
     },
     "metadata": {
      "needs_background": "light"
     },
     "output_type": "display_data"
    }
   ],
   "source": [
    "plt.scatter(fechas,k_vecinos_pred,color='red',linewidth=0.5)\n",
    "plt.scatter(fechas,Y_test,color='blue',marker='<')\n",
    "plt.tick_params(axis='both',which='major')\n",
    "plt.title(\"Grafica valores reales vs predicción\")\n",
    "plt.show()"
   ]
  },
  {
   "cell_type": "markdown",
   "metadata": {},
   "source": [
    "## Redes neuronales"
   ]
  },
  {
   "cell_type": "code",
   "execution_count": 132,
   "metadata": {},
   "outputs": [],
   "source": [
    "red = MLPRegressor(activation='relu', solver='adam',learning_rate='adaptive',momentum=0.1) \n",
    "red.fit(X_train, Y_train)\n",
    "red_pred = red.predict(X_test)"
   ]
  },
  {
   "cell_type": "code",
   "execution_count": 133,
   "metadata": {},
   "outputs": [
    {
     "data": {
      "text/plain": [
       "1.6247872633311193"
      ]
     },
     "execution_count": 133,
     "metadata": {},
     "output_type": "execute_result"
    }
   ],
   "source": [
    "sum(abs(red_pred-Y_test))"
   ]
  },
  {
   "cell_type": "code",
   "execution_count": 134,
   "metadata": {},
   "outputs": [
    {
     "data": {
      "text/plain": [
       "0.02590403176236285"
      ]
     },
     "execution_count": 134,
     "metadata": {},
     "output_type": "execute_result"
    }
   ],
   "source": [
    "np.dot(red_pred-Y_test,red_pred-Y_test)"
   ]
  },
  {
   "cell_type": "code",
   "execution_count": 135,
   "metadata": {},
   "outputs": [
    {
     "data": {
      "text/plain": [
       "0.4876847290640394"
      ]
     },
     "execution_count": 135,
     "metadata": {},
     "output_type": "execute_result"
    }
   ],
   "source": [
    "pred=red_pred>0\n",
    "real=Y_test>0\n",
    "sum(pred==real)/real.shape[0]"
   ]
  },
  {
   "cell_type": "code",
   "execution_count": 131,
   "metadata": {},
   "outputs": [
    {
     "data": {
      "image/png": "[encoded data removed]",
      "text/plain": [
       "<Figure size 432x288 with 1 Axes>"
      ]
     },
     "metadata": {
      "needs_background": "light"
     },
     "output_type": "display_data"
    }
   ],
   "source": [
    "plt.scatter(fechas,red_pred,color='red',linewidth=0.5)\n",
    "plt.scatter(fechas,Y_test,color='blue',marker='<')\n",
    "plt.tick_params(axis='both',which='major')\n",
    "plt.title(\"Grafica valores reales vs predicción\")\n",
    "plt.show()"
   ]
  },
  {
   "cell_type": "code",
   "execution_count": null,
   "metadata": {},
   "outputs": [],
   "source": []
  }
 ],
 "metadata": {
  "kernelspec": {
   "display_name": "Python 3",
   "language": "python",
   "name": "python3"
  },
  "language_info": {
   "codemirror_mode": {
    "name": "ipython",
    "version": 3
   },
   "file_extension": ".py",
   "mimetype": "text/x-python",
   "name": "python",
   "nbconvert_exporter": "python",
   "pygments_lexer": "ipython3",
   "version": "3.6.8"
  }
 },
 "nbformat": 4,
 "nbformat_minor": 2
}
