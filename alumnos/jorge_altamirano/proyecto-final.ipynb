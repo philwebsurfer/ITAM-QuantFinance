{
 "cells": [
  {
   "cell_type": "markdown",
   "metadata": {},
   "source": [
    "# Proyecto Final\n",
    "\n",
    "_Jorge III Altamirano Astorga - 175904_"
   ]
  },
  {
   "cell_type": "code",
   "execution_count": 671,
   "metadata": {},
   "outputs": [],
   "source": [
    "from bs4 import BeautifulSoup\n",
    "import bs4 as bs4\n",
    "import requests\n",
    "import sys\n",
    "from dateutil import parser #esta lib es más útil que la de Python para interpretar fechas parciales, como las de Twitter\n",
    "import re\n",
    "import datetime\n",
    "import pandas as pd\n",
    "from string import punctuation\n",
    "import numpy as np\n",
    "import matplotlib.pyplot as plt\n",
    "from sklearn.model_selection  import train_test_split\n",
    "from sklearn.feature_extraction.text import CountVectorizer\n",
    "from sklearn.pipeline import Pipeline\n",
    "from sklearn.feature_extraction.text import TfidfTransformer, TfidfVectorizer\n",
    "from sklearn.svm import LinearSVC\n",
    "from sklearn.metrics import classification_report\n",
    "import nltk\n",
    "from nltk.corpus import stopwords\n",
    "from nltk.classify import SklearnClassifier\n",
    "from nltk.tokenize import word_tokenize\n",
    "from nltk.sentiment import SentimentAnalyzer\n",
    "from sklearn.naive_bayes import MultinomialNB"
   ]
  },
  {
   "cell_type": "markdown",
   "metadata": {},
   "source": [
    "## BMV IPC"
   ]
  },
  {
   "cell_type": "code",
   "execution_count": 359,
   "metadata": {},
   "outputs": [
    {
     "data": {
      "text/plain": [
       "date        datetime64[ns]\n",
       "close              float64\n",
       "volume             float64\n",
       "deltaPct           float64\n",
       "dtype: object"
      ]
     },
     "execution_count": 359,
     "metadata": {},
     "output_type": "execute_result"
    }
   ],
   "source": [
    "ipc = pd.read_csv(\"bmv_ipc.csv\", sep=',')\n",
    "ipc.Date = pd.to_datetime(ipc.Date)\n",
    "#quitamos columnas menos relevantes para nuestro análisis\n",
    "ipc = ipc.drop([\"Open\", \"High\", \"Low\", \"Close\"], axis=1)\n",
    "#quito espacios\n",
    "ipc = ipc.rename({\"Adj Close\": \"close\", \"Volume\": \"volume\", \"Date\": \"date\"}, axis=\"columns\")\n",
    "#sacamos la diferencia porcentual del cierre del día anterior\n",
    "ipc[\"deltaPct\"] = 100 * (1 - ipc[\"close\"].shift(1) / ipc[\"close\"])\n",
    "ipc.dtypes"
   ]
  },
  {
   "cell_type": "code",
   "execution_count": 360,
   "metadata": {},
   "outputs": [
    {
     "data": {
      "text/html": [
       "<div>\n",
       "<style scoped>\n",
       "    .dataframe tbody tr th:only-of-type {\n",
       "        vertical-align: middle;\n",
       "    }\n",
       "\n",
       "    .dataframe tbody tr th {\n",
       "        vertical-align: top;\n",
       "    }\n",
       "\n",
       "    .dataframe thead th {\n",
       "        text-align: right;\n",
       "    }\n",
       "</style>\n",
       "<table border=\"1\" class=\"dataframe\">\n",
       "  <thead>\n",
       "    <tr style=\"text-align: right;\">\n",
       "      <th></th>\n",
       "      <th>close</th>\n",
       "      <th>volume</th>\n",
       "      <th>deltaPct</th>\n",
       "    </tr>\n",
       "  </thead>\n",
       "  <tbody>\n",
       "    <tr>\n",
       "      <th>count</th>\n",
       "      <td>1308.000000</td>\n",
       "      <td>1.308000e+03</td>\n",
       "      <td>1306.000000</td>\n",
       "    </tr>\n",
       "    <tr>\n",
       "      <th>mean</th>\n",
       "      <td>45570.715782</td>\n",
       "      <td>1.879798e+08</td>\n",
       "      <td>-0.004675</td>\n",
       "    </tr>\n",
       "    <tr>\n",
       "      <th>std</th>\n",
       "      <td>2959.270114</td>\n",
       "      <td>8.189003e+07</td>\n",
       "      <td>0.853486</td>\n",
       "    </tr>\n",
       "    <tr>\n",
       "      <th>min</th>\n",
       "      <td>37950.968750</td>\n",
       "      <td>0.000000e+00</td>\n",
       "      <td>-6.171380</td>\n",
       "    </tr>\n",
       "    <tr>\n",
       "      <th>25%</th>\n",
       "      <td>43402.067383</td>\n",
       "      <td>1.442206e+08</td>\n",
       "      <td>-0.461086</td>\n",
       "    </tr>\n",
       "    <tr>\n",
       "      <th>50%</th>\n",
       "      <td>45300.835938</td>\n",
       "      <td>1.760186e+08</td>\n",
       "      <td>0.021904</td>\n",
       "    </tr>\n",
       "    <tr>\n",
       "      <th>75%</th>\n",
       "      <td>48050.900391</td>\n",
       "      <td>2.149562e+08</td>\n",
       "      <td>0.509949</td>\n",
       "    </tr>\n",
       "    <tr>\n",
       "      <th>max</th>\n",
       "      <td>51713.378906</td>\n",
       "      <td>6.966092e+08</td>\n",
       "      <td>3.463701</td>\n",
       "    </tr>\n",
       "  </tbody>\n",
       "</table>\n",
       "</div>"
      ],
      "text/plain": [
       "              close        volume     deltaPct\n",
       "count   1308.000000  1.308000e+03  1306.000000\n",
       "mean   45570.715782  1.879798e+08    -0.004675\n",
       "std     2959.270114  8.189003e+07     0.853486\n",
       "min    37950.968750  0.000000e+00    -6.171380\n",
       "25%    43402.067383  1.442206e+08    -0.461086\n",
       "50%    45300.835938  1.760186e+08     0.021904\n",
       "75%    48050.900391  2.149562e+08     0.509949\n",
       "max    51713.378906  6.966092e+08     3.463701"
      ]
     },
     "execution_count": 360,
     "metadata": {},
     "output_type": "execute_result"
    }
   ],
   "source": [
    "ipc.describe()"
   ]
  },
  {
   "cell_type": "markdown",
   "metadata": {},
   "source": [
    "### Comportamiento del IPC"
   ]
  },
  {
   "cell_type": "code",
   "execution_count": 361,
   "metadata": {},
   "outputs": [
    {
     "data": {
      "image/png": "[encoded data removed]",
      "text/plain": [
       "<matplotlib.figure.Figure at 0x7f83b8051908>"
      ]
     },
     "metadata": {},
     "output_type": "display_data"
    }
   ],
   "source": [
    "%matplotlib inline\n",
    "\n",
    "# Plot everything by leveraging the very powerful matplotlib package\n",
    "fig, ax = plt.subplots(figsize=(16,9))\n",
    "\n",
    "ax.plot(ipc.date, ipc.close, label='IPC')\n",
    "# ax.plot(short_rolling_msft.index, short_rolling_msft, label='20 days rolling')\n",
    "# ax.plot(long_rolling_msft.index, long_rolling_msft, label='100 days rolling')\n",
    "\n",
    "ax.set_xlabel('date')\n",
    "ax.set_ylabel('Adjusted closing price ($)')\n",
    "ax.legend()\n",
    "plt.show()"
   ]
  },
  {
   "cell_type": "markdown",
   "metadata": {},
   "source": [
    "### Densidad\n",
    "\n",
    "Hicimos una función _lag_ con el fin de comporar el cierre de una fecha con la del día anterior, esto de manera porcentual tienen una distribución la cual se observa como sigue."
   ]
  },
  {
   "cell_type": "code",
   "execution_count": 362,
   "metadata": {},
   "outputs": [
    {
     "data": {
      "text/plain": [
       "<matplotlib.axes._subplots.AxesSubplot at 0x7f83b18bc0f0>"
      ]
     },
     "execution_count": 362,
     "metadata": {},
     "output_type": "execute_result"
    },
    {
     "data": {
      "image/png": "[encoded data removed]",
      "text/plain": [
       "<matplotlib.figure.Figure at 0x7f83b19fd860>"
      ]
     },
     "metadata": {},
     "output_type": "display_data"
    }
   ],
   "source": [
    "%matplotlib inline\n",
    "ipc[\"deltaPct\"].plot(kind=\"density\")"
   ]
  },
  {
   "cell_type": "code",
   "execution_count": 363,
   "metadata": {},
   "outputs": [
    {
     "data": {
      "text/plain": [
       "<matplotlib.axes._subplots.AxesSubplot at 0x7f83b185d6d8>"
      ]
     },
     "execution_count": 363,
     "metadata": {},
     "output_type": "execute_result"
    },
    {
     "data": {
      "image/png": "[encoded data removed]",
      "text/plain": [
       "<matplotlib.figure.Figure at 0x7f83b19f2da0>"
      ]
     },
     "metadata": {},
     "output_type": "display_data"
    }
   ],
   "source": [
    "ipc.loc[(ipc.deltaPct >= -1.0) & (ipc.deltaPct <= 1.0), \"deltaPct\"].plot(kind=\"density\")"
   ]
  },
  {
   "cell_type": "markdown",
   "metadata": {},
   "source": [
    "Para nuestro análisis de sentimiento y su aprendizaje,\n",
    "tendremos 3 sentimientos:\n",
    "    * Negativo (-1): cuando el cambio en el IPC de la BMV sea menor o igual a -0.5% respecto al cierre del día anterior\n",
    "    * Neutral (0): cuando el cambio en el IPC de la BMV sea mayor a -0.5% y menor a +0.5% respecto al cierre del día anterior\n",
    "    * Positivo (+1): cuando el cambio en el IPC de la BMV sea mayor o igual a +0.5%\n",
    "    \n",
    "Estos números lo tomamos de la distribución de los datos, en los cuales el 25% \n",
    "\n",
    "**Nota:** crearemos una columna, la cual tendrá el posible análisis de sentimiento, el cual posteriormente aplicaremos el modelo de Lenguaje Natural, para intentar extraer el sentimiento basado en el comportamiento del día anterior y los tweets que mencionen palabras clave relacionados con la BMV."
   ]
  },
  {
   "cell_type": "code",
   "execution_count": 364,
   "metadata": {},
   "outputs": [
    {
     "data": {
      "text/html": [
       "<div>\n",
       "<style scoped>\n",
       "    .dataframe tbody tr th:only-of-type {\n",
       "        vertical-align: middle;\n",
       "    }\n",
       "\n",
       "    .dataframe tbody tr th {\n",
       "        vertical-align: top;\n",
       "    }\n",
       "\n",
       "    .dataframe thead th {\n",
       "        text-align: right;\n",
       "    }\n",
       "</style>\n",
       "<table border=\"1\" class=\"dataframe\">\n",
       "  <thead>\n",
       "    <tr style=\"text-align: right;\">\n",
       "      <th></th>\n",
       "      <th>date</th>\n",
       "      <th>close</th>\n",
       "      <th>volume</th>\n",
       "      <th>deltaPct</th>\n",
       "      <th>sentiment</th>\n",
       "    </tr>\n",
       "  </thead>\n",
       "  <tbody>\n",
       "    <tr>\n",
       "      <th>0</th>\n",
       "      <td>2014-01-02</td>\n",
       "      <td>42188.449219</td>\n",
       "      <td>139707400.0</td>\n",
       "      <td>NaN</td>\n",
       "      <td>0.0</td>\n",
       "    </tr>\n",
       "    <tr>\n",
       "      <th>1</th>\n",
       "      <td>2014-01-03</td>\n",
       "      <td>42064.968750</td>\n",
       "      <td>141022700.0</td>\n",
       "      <td>-0.293547</td>\n",
       "      <td>0.0</td>\n",
       "    </tr>\n",
       "    <tr>\n",
       "      <th>2</th>\n",
       "      <td>2014-01-06</td>\n",
       "      <td>41525.949219</td>\n",
       "      <td>157899200.0</td>\n",
       "      <td>-1.298031</td>\n",
       "      <td>-1.0</td>\n",
       "    </tr>\n",
       "    <tr>\n",
       "      <th>3</th>\n",
       "      <td>2014-01-07</td>\n",
       "      <td>41778.601563</td>\n",
       "      <td>174828600.0</td>\n",
       "      <td>0.604741</td>\n",
       "      <td>1.0</td>\n",
       "    </tr>\n",
       "    <tr>\n",
       "      <th>4</th>\n",
       "      <td>2014-01-08</td>\n",
       "      <td>41515.488281</td>\n",
       "      <td>208777500.0</td>\n",
       "      <td>-0.633771</td>\n",
       "      <td>-1.0</td>\n",
       "    </tr>\n",
       "  </tbody>\n",
       "</table>\n",
       "</div>"
      ],
      "text/plain": [
       "        date         close       volume  deltaPct  sentiment\n",
       "0 2014-01-02  42188.449219  139707400.0       NaN        0.0\n",
       "1 2014-01-03  42064.968750  141022700.0 -0.293547        0.0\n",
       "2 2014-01-06  41525.949219  157899200.0 -1.298031       -1.0\n",
       "3 2014-01-07  41778.601563  174828600.0  0.604741        1.0\n",
       "4 2014-01-08  41515.488281  208777500.0 -0.633771       -1.0"
      ]
     },
     "execution_count": 364,
     "metadata": {},
     "output_type": "execute_result"
    }
   ],
   "source": [
    "ipc.loc[ipc.deltaPct <= -0.5, \"sentiment\"] = -1\n",
    "ipc.loc[ipc.deltaPct >= +0.5, \"sentiment\"] = 1\n",
    "ipc.loc[ipc.sentiment.isna(), \"sentiment\"] = 0\n",
    "ipc.head()"
   ]
  },
  {
   "cell_type": "markdown",
   "metadata": {},
   "source": [
    "## Sentiment Analysis\n",
    "\n",
    "### Extracción y Obtención de Tweets"
   ]
  },
  {
   "cell_type": "code",
   "execution_count": 680,
   "metadata": {},
   "outputs": [],
   "source": [
    "def extract_tweets(soup, file, i, year, silent=False):\n",
    "    tweets = soup.find_all(\"table\", attrs={\"class\": \"tweet\"})\n",
    "    # soup.find_all(\"div\", attrs={\"class\": \"tweet-text\"})\n",
    "    # tweet = tweets[0]\n",
    "    for tweet in tweets:\n",
    "        tweet_text = tweet.find_all('div', attrs={'class': 'tweet-text'})\n",
    "        tweet_date = tweet.find_all(\"td\", attrs={'class': 'timestamp'})\n",
    "        for text in tweet_text:\n",
    "            if type(text) == bs4.element.Tag:\n",
    "                txt = re.sub(\"(eleconomista\\.com\\.mx|pic\\.twitter\\.com|bit\\.ly|bitly\\.com)/[^ ]*\", \" \", text.text).strip()\n",
    "                txt = re.sub(\"(\\||\\n)\", \" \", txt)\n",
    "                file.write(txt + \"|\")\n",
    "        for date in tweet_date:\n",
    "            if type(date) == bs4.element.Tag:\n",
    "                date = date.text.strip() \n",
    "                if re.match(\"[0-9]*[smh]$\", date, re.IGNORECASE) is not None: #detectar si son horas, poner fecha actual\n",
    "                    date = str(datetime.datetime.now())[0:10] + ' 00:00:00'\n",
    "                else:\n",
    "                    if len(date) > 6: #detectamos si es una fecha corta (Mar 18) y que no corte el día\n",
    "                        date = re.sub(year[-2:] + \"$\", \"\", date)\n",
    "                    date = str(parser.parse(date + \" \" + year) ) \n",
    "                file.write(date + \"|%s\"%i + \"\\n\")\n",
    "                "
   ]
  },
  {
   "cell_type": "code",
   "execution_count": 681,
   "metadata": {},
   "outputs": [],
   "source": [
    "def get_tweets(query=\"bolsa OR IPC OR BMV\", newspaper=\"elfinanciero_mx\", year=\"2018\", filename=\"file\", silent=False):\n",
    "    q = 'https://mobile.twitter.com/search?q=' + query + \\\n",
    "          '%20from%3A' + newspaper + \\\n",
    "          '%20since%3A'+year+'-01-01%20until%3A'+year+'-12-31&src=typd&lang=en'\n",
    "\n",
    "    with open(\"%s.%s.csv\"%(filename,year), \"wt\") as file:\n",
    "        i = 0\n",
    "        q = 'https://mobile.twitter.com/search?q=' + query + \\\n",
    "        '%20from%3A' + newspaper + '%20since%3A' + year + \\\n",
    "        '-01-01%20until%3A' + year +'-12-31&src=typd&lang=en'\n",
    "        file.write(\"tweet|time|page\\n\") #header\n",
    "        while(True): #loop para extraer todas las páginas \n",
    "            if silent == False:\n",
    "                print(\"  Downloading page %d...\"%(i+1))\n",
    "            try:\n",
    "                response = requests.get(q)\n",
    "            except:\n",
    "                raise Exception(\"Error al obtener página de resultados.\")\n",
    "            if response.status_code != 200:\n",
    "                raise Exception(\"Error (!= 200) al obtener página de resultados.\")\n",
    "            \n",
    "#             with open(\"%s_%d.html\"%(query,i), 'w') as html:\n",
    "#                html.write(response.text)\n",
    "            \n",
    "            soup = BeautifulSoup(response.text, 'lxml') #abre la primera página de búsqueda de twitter\n",
    "            extract_tweets(soup, file, i, year)\n",
    "\n",
    "            nx = soup.find(\"a\", text=\" Load older Tweets \")\n",
    "            if nx != None and nx.has_attr('href'):\n",
    "                q = \"https://mobile.twitter.com\" + nx.get_attribute_list('href')[0]\n",
    "            else:\n",
    "                break\n",
    "            i += 1\n",
    "    if silent == False:\n",
    "        print(\"  Done!\")"
   ]
  },
  {
   "cell_type": "code",
   "execution_count": 685,
   "metadata": {},
   "outputs": [
    {
     "name": "stdout",
     "output_type": "stream",
     "text": [
      "Downloading year 2014 from @elfinanciero_mx\n",
      "  Downloading page 1...\n",
      "  Downloading page 2...\n",
      "  Downloading page 3...\n",
      "  Downloading page 4...\n",
      "  Downloading page 5...\n",
      "  Downloading page 6...\n",
      "  Downloading page 7...\n",
      "  Downloading page 8...\n",
      "  Downloading page 9...\n",
      "  Downloading page 10...\n",
      "  Downloading page 11...\n",
      "  Downloading page 12...\n",
      "  Downloading page 13...\n",
      "  Downloading page 14...\n",
      "  Downloading page 15...\n",
      "  Downloading page 16...\n",
      "  Downloading page 17...\n",
      "  Downloading page 18...\n",
      "  Downloading page 19...\n",
      "  Downloading page 20...\n",
      "  Downloading page 21...\n",
      "  Downloading page 22...\n",
      "  Downloading page 23...\n",
      "  Done!\n",
      "Downloading year 2014 from @eleconomista\n",
      "  Downloading page 1...\n",
      "  Downloading page 2...\n",
      "  Downloading page 3...\n",
      "  Downloading page 4...\n",
      "  Done!\n",
      "Downloading year 2015 from @elfinanciero_mx\n",
      "  Downloading page 1...\n",
      "  Downloading page 2...\n",
      "  Downloading page 3...\n",
      "  Downloading page 4...\n",
      "  Downloading page 5...\n",
      "  Downloading page 6...\n",
      "  Downloading page 7...\n",
      "  Downloading page 8...\n",
      "  Downloading page 9...\n",
      "  Downloading page 10...\n",
      "  Downloading page 11...\n",
      "  Downloading page 12...\n",
      "  Downloading page 13...\n",
      "  Downloading page 14...\n",
      "  Downloading page 15...\n",
      "  Downloading page 16...\n",
      "  Downloading page 17...\n",
      "  Downloading page 18...\n",
      "  Downloading page 19...\n",
      "  Downloading page 20...\n",
      "  Downloading page 21...\n",
      "  Downloading page 22...\n",
      "  Downloading page 23...\n",
      "  Done!\n",
      "Downloading year 2015 from @eleconomista\n",
      "  Downloading page 1...\n",
      "  Downloading page 2...\n",
      "  Downloading page 3...\n",
      "  Downloading page 4...\n",
      "  Downloading page 5...\n",
      "  Downloading page 6...\n",
      "  Downloading page 7...\n",
      "  Done!\n",
      "Downloading year 2016 from @elfinanciero_mx\n",
      "  Downloading page 1...\n",
      "  Downloading page 2...\n",
      "  Downloading page 3...\n",
      "  Downloading page 4...\n",
      "  Downloading page 5...\n",
      "  Downloading page 6...\n",
      "  Downloading page 7...\n",
      "  Downloading page 8...\n",
      "  Downloading page 9...\n",
      "  Downloading page 10...\n",
      "  Downloading page 11...\n",
      "  Downloading page 12...\n",
      "  Downloading page 13...\n",
      "  Downloading page 14...\n",
      "  Downloading page 15...\n",
      "  Downloading page 16...\n",
      "  Downloading page 17...\n",
      "  Downloading page 18...\n",
      "  Downloading page 19...\n",
      "  Done!\n",
      "Downloading year 2016 from @eleconomista\n",
      "  Downloading page 1...\n",
      "  Downloading page 2...\n",
      "  Downloading page 3...\n",
      "  Downloading page 4...\n",
      "  Downloading page 5...\n",
      "  Downloading page 6...\n",
      "  Downloading page 7...\n",
      "  Downloading page 8...\n",
      "  Downloading page 9...\n",
      "  Done!\n",
      "Downloading year 2017 from @elfinanciero_mx\n",
      "  Downloading page 1...\n",
      "  Downloading page 2...\n",
      "  Downloading page 3...\n",
      "  Downloading page 4...\n",
      "  Downloading page 5...\n",
      "  Downloading page 6...\n",
      "  Downloading page 7...\n",
      "  Downloading page 8...\n",
      "  Downloading page 9...\n",
      "  Downloading page 10...\n",
      "  Downloading page 11...\n",
      "  Downloading page 12...\n",
      "  Downloading page 13...\n",
      "  Downloading page 14...\n",
      "  Downloading page 15...\n",
      "  Downloading page 16...\n",
      "  Downloading page 17...\n",
      "  Done!\n",
      "Downloading year 2017 from @eleconomista\n",
      "  Downloading page 1...\n",
      "  Downloading page 2...\n",
      "  Downloading page 3...\n",
      "  Downloading page 4...\n",
      "  Downloading page 5...\n",
      "  Downloading page 6...\n",
      "  Downloading page 7...\n",
      "  Downloading page 8...\n",
      "  Done!\n",
      "Downloading year 2018 from @elfinanciero_mx\n",
      "  Downloading page 1...\n",
      "  Downloading page 2...\n",
      "  Downloading page 3...\n",
      "  Downloading page 4...\n",
      "  Downloading page 5...\n",
      "  Downloading page 6...\n",
      "  Downloading page 7...\n",
      "  Downloading page 8...\n",
      "  Downloading page 9...\n",
      "  Downloading page 10...\n",
      "  Downloading page 11...\n",
      "  Downloading page 12...\n",
      "  Downloading page 13...\n",
      "  Done!\n",
      "Downloading year 2018 from @eleconomista\n",
      "  Downloading page 1...\n",
      "  Downloading page 2...\n",
      "  Downloading page 3...\n",
      "  Downloading page 4...\n",
      "  Downloading page 5...\n",
      "  Downloading page 6...\n",
      "  Downloading page 7...\n",
      "  Downloading page 8...\n",
      "  Downloading page 9...\n",
      "  Downloading page 10...\n",
      "  Downloading page 11...\n",
      "  Done!\n",
      "Downloading year 2019 from @elfinanciero_mx\n",
      "  Downloading page 1...\n",
      "  Downloading page 2...\n",
      "  Downloading page 3...\n",
      "  Downloading page 4...\n",
      "  Downloading page 5...\n",
      "  Done!\n",
      "Downloading year 2019 from @eleconomista\n",
      "  Downloading page 1...\n",
      "  Downloading page 2...\n",
      "  Downloading page 3...\n",
      "  Downloading page 4...\n",
      "  Downloading page 5...\n",
      "  Done!\n",
      "CPU times: user 10.4 s, sys: 396 ms, total: 10.8 s\n",
      "Wall time: 1min 12s\n"
     ]
    }
   ],
   "source": [
    "%%time\n",
    "for yr in [\"2014\", \"2015\", \"2016\", \"2017\", \"2018\", \"2019\"]:\n",
    "    for source in [\"elfinanciero_mx\", \"eleconomista\"]:\n",
    "        print(\"Downloading year %s from @%s\"%(yr,source))\n",
    "        get_tweets(query=\"bolsa OR IPC OR BMV\", newspaper=source, year=yr, filename=\"tweets.raw/bmv.%s\"%source)"
   ]
  },
  {
   "cell_type": "markdown",
   "metadata": {},
   "source": [
    "### Limpiar columnas"
   ]
  },
  {
   "cell_type": "code",
   "execution_count": 365,
   "metadata": {},
   "outputs": [
    {
     "data": {
      "text/plain": [
       "source            object\n",
       "time      datetime64[ns]\n",
       "tweet             object\n",
       "dtype: object"
      ]
     },
     "execution_count": 365,
     "metadata": {},
     "output_type": "execute_result"
    }
   ],
   "source": [
    "df = pd.read_csv(\"tweets.raw/bmv.elfinanciero_mx.2014.csv\", sep=\"|\")\n",
    "df = df.append(pd.read_csv(\"tweets.raw/bmv.elfinanciero_mx.2015.csv\", sep=\"|\"))\n",
    "df = df.append(pd.read_csv(\"tweets.raw/bmv.elfinanciero_mx.2016.csv\", sep=\"|\"))\n",
    "df = df.append(pd.read_csv(\"tweets.raw/bmv.elfinanciero_mx.2017.csv\", sep=\"|\"))\n",
    "df = df.append(pd.read_csv(\"tweets.raw/bmv.elfinanciero_mx.2018.csv\", sep=\"|\"))\n",
    "df = df.append(pd.read_csv(\"tweets.raw/bmv.elfinanciero_mx.2019.csv\", sep=\"|\"))\n",
    "df[\"source\"] = \"elfinanciero_mx\"\n",
    "df = df.append(pd.read_csv(\"tweets.raw/bmv.eleconomista.2014.csv\", sep=\"|\"))\n",
    "df = df.append(pd.read_csv(\"tweets.raw/bmv.eleconomista.2015.csv\", sep=\"|\"))\n",
    "df = df.append(pd.read_csv(\"tweets.raw/bmv.eleconomista.2016.csv\", sep=\"|\"))\n",
    "df = df.append(pd.read_csv(\"tweets.raw/bmv.eleconomista.2017.csv\", sep=\"|\"))\n",
    "df = df.append(pd.read_csv(\"tweets.raw/bmv.eleconomista.2018.csv\", sep=\"|\"))\n",
    "df = df.append(pd.read_csv(\"tweets.raw/bmv.eleconomista.2019.csv\", sep=\"|\"))\n",
    "df[\"source\"] = np.where(pd.isna(df[\"source\"]), \"eleconomista\", df.source)\n",
    "df.time = pd.to_datetime(df.time)\n",
    "df.tweet = df.tweet.astype(\"str\")\n",
    "df.source = df.source.astype(\"str\")\n",
    "df = df.drop(columns=[\"page\"])\n",
    "df.dtypes"
   ]
  },
  {
   "cell_type": "code",
   "execution_count": 366,
   "metadata": {},
   "outputs": [
    {
     "data": {
      "text/html": [
       "<div>\n",
       "<style scoped>\n",
       "    .dataframe tbody tr th:only-of-type {\n",
       "        vertical-align: middle;\n",
       "    }\n",
       "\n",
       "    .dataframe tbody tr th {\n",
       "        vertical-align: top;\n",
       "    }\n",
       "\n",
       "    .dataframe thead th {\n",
       "        text-align: right;\n",
       "    }\n",
       "</style>\n",
       "<table border=\"1\" class=\"dataframe\">\n",
       "  <thead>\n",
       "    <tr style=\"text-align: right;\">\n",
       "      <th></th>\n",
       "      <th>source</th>\n",
       "      <th>time</th>\n",
       "      <th>tweet</th>\n",
       "    </tr>\n",
       "  </thead>\n",
       "  <tbody>\n",
       "    <tr>\n",
       "      <th>2398</th>\n",
       "      <td>eleconomista</td>\n",
       "      <td>2019-03-22</td>\n",
       "      <td>Según la Bolsa Mexicana de Valores, la confian...</td>\n",
       "    </tr>\n",
       "    <tr>\n",
       "      <th>2399</th>\n",
       "      <td>eleconomista</td>\n",
       "      <td>2019-03-22</td>\n",
       "      <td>Pinterest 📷 prepara su entrada al New York Sto...</td>\n",
       "    </tr>\n",
       "    <tr>\n",
       "      <th>2400</th>\n",
       "      <td>elfinanciero_mx</td>\n",
       "      <td>2019-03-22</td>\n",
       "      <td>Bolsa mexicana sufre primer revés de la semana...</td>\n",
       "    </tr>\n",
       "    <tr>\n",
       "      <th>2401</th>\n",
       "      <td>elfinanciero_mx</td>\n",
       "      <td>2019-03-22</td>\n",
       "      <td>Pinterest, una de las empresas 'unicornio' que...</td>\n",
       "    </tr>\n",
       "    <tr>\n",
       "      <th>2402</th>\n",
       "      <td>eleconomista</td>\n",
       "      <td>2019-03-22</td>\n",
       "      <td>La Bolsa Mexicana de Valores acumuló una ganan...</td>\n",
       "    </tr>\n",
       "  </tbody>\n",
       "</table>\n",
       "</div>"
      ],
      "text/plain": [
       "               source       time  \\\n",
       "2398     eleconomista 2019-03-22   \n",
       "2399     eleconomista 2019-03-22   \n",
       "2400  elfinanciero_mx 2019-03-22   \n",
       "2401  elfinanciero_mx 2019-03-22   \n",
       "2402     eleconomista 2019-03-22   \n",
       "\n",
       "                                                  tweet  \n",
       "2398  Según la Bolsa Mexicana de Valores, la confian...  \n",
       "2399  Pinterest 📷 prepara su entrada al New York Sto...  \n",
       "2400  Bolsa mexicana sufre primer revés de la semana...  \n",
       "2401  Pinterest, una de las empresas 'unicornio' que...  \n",
       "2402  La Bolsa Mexicana de Valores acumuló una ganan...  "
      ]
     },
     "execution_count": 366,
     "metadata": {},
     "output_type": "execute_result"
    }
   ],
   "source": [
    "#ordenar columnas \n",
    "df = df.sort_values(by=[\"time\"])\n",
    "#reindizar\n",
    "df.index = range(0, df.shape[0])\n",
    "# print(df.head(5))\n",
    "(df.tail(5))"
   ]
  },
  {
   "cell_type": "code",
   "execution_count": 168,
   "metadata": {},
   "outputs": [
    {
     "data": {
      "text/plain": [
       "(2403, 3)"
      ]
     },
     "execution_count": 168,
     "metadata": {},
     "output_type": "execute_result"
    }
   ],
   "source": [
    "df.to_csv(\"tweets.csv.xz\", compression=\"xz\", index=False)\n",
    "df.shape"
   ]
  },
  {
   "cell_type": "code",
   "execution_count": 659,
   "metadata": {},
   "outputs": [
    {
     "data": {
      "text/html": [
       "<div>\n",
       "<style scoped>\n",
       "    .dataframe tbody tr th:only-of-type {\n",
       "        vertical-align: middle;\n",
       "    }\n",
       "\n",
       "    .dataframe tbody tr th {\n",
       "        vertical-align: top;\n",
       "    }\n",
       "\n",
       "    .dataframe thead th {\n",
       "        text-align: right;\n",
       "    }\n",
       "</style>\n",
       "<table border=\"1\" class=\"dataframe\">\n",
       "  <thead>\n",
       "    <tr style=\"text-align: right;\">\n",
       "      <th></th>\n",
       "      <th>source</th>\n",
       "      <th>time</th>\n",
       "      <th>tweet</th>\n",
       "    </tr>\n",
       "  </thead>\n",
       "  <tbody>\n",
       "    <tr>\n",
       "      <th>0</th>\n",
       "      <td>elfinanciero_mx</td>\n",
       "      <td>2014-01-01</td>\n",
       "      <td>#BMV superaría los 46 mil puntos en 2014: Accival</td>\n",
       "    </tr>\n",
       "  </tbody>\n",
       "</table>\n",
       "</div>"
      ],
      "text/plain": [
       "            source       time  \\\n",
       "0  elfinanciero_mx 2014-01-01   \n",
       "\n",
       "                                               tweet  \n",
       "0  #BMV superaría los 46 mil puntos en 2014: Accival  "
      ]
     },
     "execution_count": 659,
     "metadata": {},
     "output_type": "execute_result"
    }
   ],
   "source": [
    "df = pd.read_csv(\"tweets.csv.xz\", compression=\"xz\")\n",
    "df[\"time\"] = pd.to_datetime(df.time)\n",
    "df.head(1)"
   ]
  },
  {
   "cell_type": "markdown",
   "metadata": {},
   "source": [
    "### NLP"
   ]
  },
  {
   "cell_type": "markdown",
   "metadata": {},
   "source": [
    "De manera experimental realizaremos un entrenamiento con el sentimiento que obtuvimos en el paso anterior (IPC), y lo asignaremos a los valores de la misma fecha del tweet."
   ]
  },
  {
   "cell_type": "code",
   "execution_count": 662,
   "metadata": {},
   "outputs": [
    {
     "data": {
      "text/html": [
       "<div>\n",
       "<style scoped>\n",
       "    .dataframe tbody tr th:only-of-type {\n",
       "        vertical-align: middle;\n",
       "    }\n",
       "\n",
       "    .dataframe tbody tr th {\n",
       "        vertical-align: top;\n",
       "    }\n",
       "\n",
       "    .dataframe thead th {\n",
       "        text-align: right;\n",
       "    }\n",
       "</style>\n",
       "<table border=\"1\" class=\"dataframe\">\n",
       "  <thead>\n",
       "    <tr style=\"text-align: right;\">\n",
       "      <th></th>\n",
       "      <th>source</th>\n",
       "      <th>time</th>\n",
       "      <th>tweet</th>\n",
       "      <th>ipc</th>\n",
       "      <th>sentiment</th>\n",
       "    </tr>\n",
       "  </thead>\n",
       "  <tbody>\n",
       "    <tr>\n",
       "      <th>0</th>\n",
       "      <td>elfinanciero_mx</td>\n",
       "      <td>2014-01-01</td>\n",
       "      <td>#BMV superaría los 46 mil puntos en 2014: Accival</td>\n",
       "      <td>NaN</td>\n",
       "      <td>NaN</td>\n",
       "    </tr>\n",
       "    <tr>\n",
       "      <th>1</th>\n",
       "      <td>elfinanciero_mx</td>\n",
       "      <td>2014-01-02</td>\n",
       "      <td>GRÁFICA. ¿Quiénes ganaron y quiénes perdieron ...</td>\n",
       "      <td>NaN</td>\n",
       "      <td>0.0</td>\n",
       "    </tr>\n",
       "    <tr>\n",
       "      <th>2</th>\n",
       "      <td>elfinanciero_mx</td>\n",
       "      <td>2014-01-02</td>\n",
       "      <td>#Mercados #BMV cae 1.12% por toma de utilidade...</td>\n",
       "      <td>NaN</td>\n",
       "      <td>0.0</td>\n",
       "    </tr>\n",
       "    <tr>\n",
       "      <th>3</th>\n",
       "      <td>elfinanciero_mx</td>\n",
       "      <td>2014-01-02</td>\n",
       "      <td>#Mercados #BMV avanza 0.22% en primer sesión d...</td>\n",
       "      <td>NaN</td>\n",
       "      <td>0.0</td>\n",
       "    </tr>\n",
       "    <tr>\n",
       "      <th>4</th>\n",
       "      <td>elfinanciero_mx</td>\n",
       "      <td>2014-01-02</td>\n",
       "      <td>10 ganadoras y 10 perdedoras en la #BMV durant...</td>\n",
       "      <td>NaN</td>\n",
       "      <td>0.0</td>\n",
       "    </tr>\n",
       "  </tbody>\n",
       "</table>\n",
       "</div>"
      ],
      "text/plain": [
       "            source       time  \\\n",
       "0  elfinanciero_mx 2014-01-01   \n",
       "1  elfinanciero_mx 2014-01-02   \n",
       "2  elfinanciero_mx 2014-01-02   \n",
       "3  elfinanciero_mx 2014-01-02   \n",
       "4  elfinanciero_mx 2014-01-02   \n",
       "\n",
       "                                               tweet  ipc  sentiment  \n",
       "0  #BMV superaría los 46 mil puntos en 2014: Accival  NaN        NaN  \n",
       "1  GRÁFICA. ¿Quiénes ganaron y quiénes perdieron ...  NaN        0.0  \n",
       "2  #Mercados #BMV cae 1.12% por toma de utilidade...  NaN        0.0  \n",
       "3  #Mercados #BMV avanza 0.22% en primer sesión d...  NaN        0.0  \n",
       "4  10 ganadoras y 10 perdedoras en la #BMV durant...  NaN        0.0  "
      ]
     },
     "execution_count": 662,
     "metadata": {},
     "output_type": "execute_result"
    }
   ],
   "source": [
    "df.drop(columns=[\"sentiment\"], inplace=True, errors=\"ignore\")\n",
    "#sentimiento basado en el porcentaje de cambio del ipc\n",
    "df[\"ipc\"] = df.join(ipc.set_index(\"date\"), on=\"time\", how=\"left\").deltaPct.round(0)\n",
    "#sentimiento basado en reglas\n",
    "df[\"sentiment\"] = df.join(ipc.set_index(\"date\"), on=\"time\", how=\"left\").sentiment\n",
    "df.head(5)"
   ]
  },
  {
   "cell_type": "markdown",
   "metadata": {},
   "source": [
    "Existen fechas en las cuales no opera la bolsa, pero sí existen tweets publicados; por lo que es conveniente aplicar dicho tweet al cierre de la jornada del siguiente día hábil para la bolsa. Se puede observar en la salida anterior, el caso de un 1 de Enero, donde la bolsa no laboró. Pero el 2 de enero sí, entonces, dicho tweet aplica para el 2 de Enero. \n",
    "\n",
    "Lo mismo aplica para tweets que son publicados en Sábado o Domingo, por lo que aplicamos el sentimiento del siguiente día hábil."
   ]
  },
  {
   "cell_type": "code",
   "execution_count": 831,
   "metadata": {},
   "outputs": [
    {
     "data": {
      "text/html": [
       "<div>\n",
       "<style scoped>\n",
       "    .dataframe tbody tr th:only-of-type {\n",
       "        vertical-align: middle;\n",
       "    }\n",
       "\n",
       "    .dataframe tbody tr th {\n",
       "        vertical-align: top;\n",
       "    }\n",
       "\n",
       "    .dataframe thead th {\n",
       "        text-align: right;\n",
       "    }\n",
       "</style>\n",
       "<table border=\"1\" class=\"dataframe\">\n",
       "  <thead>\n",
       "    <tr style=\"text-align: right;\">\n",
       "      <th></th>\n",
       "      <th>source</th>\n",
       "      <th>time</th>\n",
       "      <th>tweet</th>\n",
       "      <th>ipc</th>\n",
       "      <th>sentiment</th>\n",
       "    </tr>\n",
       "  </thead>\n",
       "  <tbody>\n",
       "    <tr>\n",
       "      <th>0</th>\n",
       "      <td>elfinanciero_mx</td>\n",
       "      <td>2014-01-01</td>\n",
       "      <td>#BMV superaría los 46 mil puntos en 2014: Accival</td>\n",
       "      <td>-0.0</td>\n",
       "      <td>0.0</td>\n",
       "    </tr>\n",
       "    <tr>\n",
       "      <th>1</th>\n",
       "      <td>elfinanciero_mx</td>\n",
       "      <td>2014-01-02</td>\n",
       "      <td>GRÁFICA. ¿Quiénes ganaron y quiénes perdieron ...</td>\n",
       "      <td>-0.0</td>\n",
       "      <td>0.0</td>\n",
       "    </tr>\n",
       "    <tr>\n",
       "      <th>2</th>\n",
       "      <td>elfinanciero_mx</td>\n",
       "      <td>2014-01-02</td>\n",
       "      <td>#Mercados #BMV cae 1.12% por toma de utilidade...</td>\n",
       "      <td>-0.0</td>\n",
       "      <td>0.0</td>\n",
       "    </tr>\n",
       "  </tbody>\n",
       "</table>\n",
       "</div>"
      ],
      "text/plain": [
       "            source       time  \\\n",
       "0  elfinanciero_mx 2014-01-01   \n",
       "1  elfinanciero_mx 2014-01-02   \n",
       "2  elfinanciero_mx 2014-01-02   \n",
       "\n",
       "                                               tweet  ipc  sentiment  \n",
       "0  #BMV superaría los 46 mil puntos en 2014: Accival -0.0        0.0  \n",
       "1  GRÁFICA. ¿Quiénes ganaron y quiénes perdieron ... -0.0        0.0  \n",
       "2  #Mercados #BMV cae 1.12% por toma de utilidade... -0.0        0.0  "
      ]
     },
     "execution_count": 831,
     "metadata": {},
     "output_type": "execute_result"
    }
   ],
   "source": [
    "def tweet_adjust_df(df, columns=[\"sentiment\", \"ipc\"]):\n",
    "    for col in columns:\n",
    "        i = -1\n",
    "        while np.any(df[col].isnull()):\n",
    "            df[\"sent_lag\"] = df.shift(-1)[col]\n",
    "            df.loc[df[col].isna(), col] = df.loc[df[col].isna(), \"sent_lag\"]\n",
    "            i -= 1\n",
    "            if i < -15:\n",
    "                break\n",
    "        i = -1\n",
    "        if np.any(df.iloc[-1].isna()):\n",
    "            j = df.loc[df[col].isna()].index\n",
    "            df.drop(j, axis=0, inplace=True)\n",
    "    df.drop(columns=\"sent_lag\", inplace=True, errors=\"ignore\")\n",
    "    return df\n",
    "df = tweet_adjust_df(df, [\"ipc\", \"sentiment\"]).copy()\n",
    "df.head(3)"
   ]
  },
  {
   "cell_type": "markdown",
   "metadata": {},
   "source": [
    "Dado que El Financiero y El Economista publican en español utilizaremos las reglas y raíces de este nuestro idioma."
   ]
  },
  {
   "cell_type": "code",
   "execution_count": 673,
   "metadata": {},
   "outputs": [],
   "source": [
    "stop_words = stopwords.words('spanish')\n",
    "stemmer = nltk.stem.SnowballStemmer('spanish')\n",
    "non_words = list(punctuation)\n",
    "non_words.extend(['¿', '¡'])\n",
    "\n",
    "def stem_tokens(tokens, stemmer):\n",
    "    stemmed = []\n",
    "    for item in tokens:\n",
    "        stemmed.append(stemmer.stem(item))\n",
    "    return stemmed\n",
    "def tokenize(text):\n",
    "    text = ''.join([c for c in text if c not in non_words])\n",
    "    tokens = word_tokenize(text)\n",
    "    # stem\n",
    "    try:\n",
    "        stems = stem_tokens(tokens, stemmer)\n",
    "    except Exception as e:\n",
    "        print(e)\n",
    "        print(text)\n",
    "        stems = ['']\n",
    "    return stems"
   ]
  },
  {
   "cell_type": "markdown",
   "metadata": {},
   "source": [
    "### Separación en conjunto de entrenamiento y pruebas\n",
    "\n",
    "Separamos nuestro data set, con semilla estática, para separa nuestro set en datos de entrenamiento y prueba de manera reproducible."
   ]
  },
  {
   "cell_type": "code",
   "execution_count": 674,
   "metadata": {},
   "outputs": [
    {
     "name": "stdout",
     "output_type": "stream",
     "text": [
      "Tamaño de conjuntos de datos:\n",
      "Entrenamiento: 1441 (59.966708%)\n",
      "Prueba: 962 (40.033292%)\n"
     ]
    }
   ],
   "source": [
    "train, test = train_test_split(df, test_size=0.4, random_state=175904)\n",
    "train.reset_index(drop=True,inplace=True)\n",
    "test.reset_index(drop=True,inplace=True)\n",
    "train = train.copy()\n",
    "test = test.copy()\n",
    "print(\"Tamaño de conjuntos de datos:\\nEntrenamiento: %d (%f%%)\\nPrueba: %d (%f%%)\"%(\n",
    "    train.shape[0], 100*train.shape[0]/df.shape[0], \n",
    "    test.shape[0], 100*test.shape[0]/df.shape[0]))"
   ]
  },
  {
   "cell_type": "code",
   "execution_count": 675,
   "metadata": {},
   "outputs": [
    {
     "data": {
      "text/html": [
       "<div>\n",
       "<style scoped>\n",
       "    .dataframe tbody tr th:only-of-type {\n",
       "        vertical-align: middle;\n",
       "    }\n",
       "\n",
       "    .dataframe tbody tr th {\n",
       "        vertical-align: top;\n",
       "    }\n",
       "\n",
       "    .dataframe thead th {\n",
       "        text-align: right;\n",
       "    }\n",
       "</style>\n",
       "<table border=\"1\" class=\"dataframe\">\n",
       "  <thead>\n",
       "    <tr style=\"text-align: right;\">\n",
       "      <th></th>\n",
       "      <th>source</th>\n",
       "      <th>time</th>\n",
       "      <th>tweet</th>\n",
       "      <th>ipc</th>\n",
       "      <th>sentiment</th>\n",
       "      <th>sentiment_hat</th>\n",
       "      <th>ipc_hat</th>\n",
       "    </tr>\n",
       "  </thead>\n",
       "  <tbody>\n",
       "    <tr>\n",
       "      <th>0</th>\n",
       "      <td>elfinanciero_mx</td>\n",
       "      <td>2016-03-04</td>\n",
       "      <td>Bolsa brasileña sube con fuerza tras interroga...</td>\n",
       "      <td>0.0</td>\n",
       "      <td>0.0</td>\n",
       "      <td>-0.0</td>\n",
       "      <td>-0.0</td>\n",
       "    </tr>\n",
       "    <tr>\n",
       "      <th>1</th>\n",
       "      <td>eleconomista</td>\n",
       "      <td>2016-07-20</td>\n",
       "      <td>¿Piensas invertir en la bolsa?, aquí te damos ...</td>\n",
       "      <td>1.0</td>\n",
       "      <td>1.0</td>\n",
       "      <td>1.0</td>\n",
       "      <td>1.0</td>\n",
       "    </tr>\n",
       "    <tr>\n",
       "      <th>2</th>\n",
       "      <td>eleconomista</td>\n",
       "      <td>2015-09-14</td>\n",
       "      <td>Las principales acciones mexicanas que cotizan...</td>\n",
       "      <td>0.0</td>\n",
       "      <td>0.0</td>\n",
       "      <td>-0.0</td>\n",
       "      <td>-0.0</td>\n",
       "    </tr>\n",
       "    <tr>\n",
       "      <th>3</th>\n",
       "      <td>elfinanciero_mx</td>\n",
       "      <td>2014-02-24</td>\n",
       "      <td>#EFMercados: La BMV registró un pequeño avance...</td>\n",
       "      <td>0.0</td>\n",
       "      <td>0.0</td>\n",
       "      <td>-0.0</td>\n",
       "      <td>-0.0</td>\n",
       "    </tr>\n",
       "    <tr>\n",
       "      <th>4</th>\n",
       "      <td>elfinanciero_mx</td>\n",
       "      <td>2016-12-07</td>\n",
       "      <td>#LOÚLTIMO ICA se dispara en Bolsa tras alianza...</td>\n",
       "      <td>1.0</td>\n",
       "      <td>1.0</td>\n",
       "      <td>-0.0</td>\n",
       "      <td>-0.0</td>\n",
       "    </tr>\n",
       "  </tbody>\n",
       "</table>\n",
       "</div>"
      ],
      "text/plain": [
       "            source       time  \\\n",
       "0  elfinanciero_mx 2016-03-04   \n",
       "1     eleconomista 2016-07-20   \n",
       "2     eleconomista 2015-09-14   \n",
       "3  elfinanciero_mx 2014-02-24   \n",
       "4  elfinanciero_mx 2016-12-07   \n",
       "\n",
       "                                               tweet  ipc  sentiment  \\\n",
       "0  Bolsa brasileña sube con fuerza tras interroga...  0.0        0.0   \n",
       "1  ¿Piensas invertir en la bolsa?, aquí te damos ...  1.0        1.0   \n",
       "2  Las principales acciones mexicanas que cotizan...  0.0        0.0   \n",
       "3  #EFMercados: La BMV registró un pequeño avance...  0.0        0.0   \n",
       "4  #LOÚLTIMO ICA se dispara en Bolsa tras alianza...  1.0        1.0   \n",
       "\n",
       "   sentiment_hat  ipc_hat  \n",
       "0           -0.0     -0.0  \n",
       "1            1.0      1.0  \n",
       "2           -0.0     -0.0  \n",
       "3           -0.0     -0.0  \n",
       "4           -0.0     -0.0  "
      ]
     },
     "execution_count": 675,
     "metadata": {},
     "output_type": "execute_result"
    }
   ],
   "source": [
    "pipe0 = Pipeline([\n",
    "    (\"token\", CountVectorizer(tokenizer=tokenize, stop_words=stop_words)),\n",
    "    (\"tfid\", TfidfTransformer()),\n",
    "    (\"clf\", MultinomialNB(alpha=1.0))\n",
    "])\n",
    "pipe0m0 = pipe0.fit(train.tweet, train.sentiment)\n",
    "pipe0m1 = pipe0.fit(train.tweet, train.ipc)\n",
    "train[\"sentiment_hat\"] = pipe0m0.predict(train.tweet)\n",
    "train[\"ipc_hat\"] = pipe0m1.predict(train.tweet)\n",
    "train.head()"
   ]
  },
  {
   "cell_type": "markdown",
   "metadata": {},
   "source": [
    "### Métricas para Modelo basado en Sentimiento\n",
    "\n",
    "Basamos nuestro modelo en 2 sentimientos: que sube (+1), neutro (0) y que baja (-1)"
   ]
  },
  {
   "cell_type": "code",
   "execution_count": 676,
   "metadata": {},
   "outputs": [
    {
     "name": "stdout",
     "output_type": "stream",
     "text": [
      "             precision    recall  f1-score   support\n",
      "\n",
      "       -1.0       0.50      0.01      0.02       252\n",
      "        0.0       0.50      0.96      0.66       478\n",
      "        1.0       0.36      0.06      0.11       232\n",
      "\n",
      "avg / total       0.47      0.49      0.36       962\n",
      "\n"
     ]
    }
   ],
   "source": [
    "test[\"sentiment_hat\"] = pipe0m0.predict(test.tweet)\n",
    "print(classification_report(test.sentiment, test.sentiment_hat))"
   ]
  },
  {
   "cell_type": "markdown",
   "metadata": {},
   "source": [
    "### Métricas para Modelo Basado en el IPC\n",
    "\n",
    "Basamos nuestro modelo en el porcentaje de cambio, sin decimales. En más de 4 años ha habido movimiento entre el -6% y el 3%."
   ]
  },
  {
   "cell_type": "code",
   "execution_count": 677,
   "metadata": {},
   "outputs": [
    {
     "data": {
      "text/plain": [
       "count    1306.000000\n",
       "mean       -0.004675\n",
       "std         0.853486\n",
       "min        -6.171380\n",
       "25%        -0.461086\n",
       "50%         0.021904\n",
       "75%         0.509949\n",
       "max         3.463701\n",
       "Name: deltaPct, dtype: float64"
      ]
     },
     "execution_count": 677,
     "metadata": {},
     "output_type": "execute_result"
    }
   ],
   "source": [
    "ipc.deltaPct.describe()"
   ]
  },
  {
   "cell_type": "code",
   "execution_count": 678,
   "metadata": {},
   "outputs": [
    {
     "data": {
      "text/plain": [
       "<matplotlib.axes._subplots.AxesSubplot at 0x7f83ab1bee10>"
      ]
     },
     "execution_count": 678,
     "metadata": {},
     "output_type": "execute_result"
    },
    {
     "data": {
      "image/png": "[encoded data removed]",
      "text/plain": [
       "<matplotlib.figure.Figure at 0x7f83ab1bdd68>"
      ]
     },
     "metadata": {},
     "output_type": "display_data"
    }
   ],
   "source": [
    "df.ipc.plot(kind=\"density\")"
   ]
  },
  {
   "cell_type": "code",
   "execution_count": 679,
   "metadata": {},
   "outputs": [
    {
     "name": "stdout",
     "output_type": "stream",
     "text": [
      "             precision    recall  f1-score   support\n",
      "\n",
      "       -6.0       0.00      0.00      0.00         3\n",
      "       -5.0       0.00      0.00      0.00         3\n",
      "       -4.0       0.00      0.00      0.00         6\n",
      "       -3.0       0.00      0.00      0.00         2\n",
      "       -2.0       0.00      0.00      0.00        44\n",
      "       -1.0       0.50      0.01      0.02       194\n",
      "        0.0       0.50      0.96      0.66       478\n",
      "        1.0       0.33      0.07      0.11       209\n",
      "        2.0       0.00      0.00      0.00        15\n",
      "        3.0       0.00      0.00      0.00         8\n",
      "\n",
      "avg / total       0.42      0.49      0.35       962\n",
      "\n"
     ]
    },
    {
     "name": "stderr",
     "output_type": "stream",
     "text": [
      "/opt/intel/intelpython3/lib/python3.6/site-packages/sklearn/metrics/classification.py:1135: UndefinedMetricWarning: Precision and F-score are ill-defined and being set to 0.0 in labels with no predicted samples.\n",
      "  'precision', 'predicted', average, warn_for)\n"
     ]
    }
   ],
   "source": [
    "test[\"ipc_hat\"] = pipe0m1.predict(test.tweet)\n",
    "print(classification_report(test.ipc, test.ipc_hat))"
   ]
  },
  {
   "cell_type": "markdown",
   "metadata": {},
   "source": [
    "## Tweets de Tasas de Interés\n",
    "\n",
    "Dado que aún nuestro mejor resultado en nuestro modelo pasado, vamos a intentar utilizar otros términos de búsqueda: Tasas de Interés, Bonos y Cetes"
   ]
  },
  {
   "cell_type": "code",
   "execution_count": 686,
   "metadata": {},
   "outputs": [
    {
     "name": "stdout",
     "output_type": "stream",
     "text": [
      "Downloading year 2014 from @elfinanciero_mx\n",
      "  Downloading page 1...\n",
      "  Downloading page 2...\n",
      "  Downloading page 3...\n",
      "  Downloading page 4...\n",
      "  Downloading page 5...\n",
      "  Done!\n",
      "Downloading year 2014 from @eleconomista\n",
      "  Downloading page 1...\n",
      "  Downloading page 2...\n",
      "  Downloading page 3...\n",
      "  Downloading page 4...\n",
      "  Done!\n",
      "Downloading year 2015 from @elfinanciero_mx\n",
      "  Downloading page 1...\n",
      "  Downloading page 2...\n",
      "  Downloading page 3...\n",
      "  Downloading page 4...\n",
      "  Downloading page 5...\n",
      "  Downloading page 6...\n",
      "  Downloading page 7...\n",
      "  Downloading page 8...\n",
      "  Done!\n",
      "Downloading year 2015 from @eleconomista\n",
      "  Downloading page 1...\n",
      "  Downloading page 2...\n",
      "  Downloading page 3...\n",
      "  Downloading page 4...\n",
      "  Downloading page 5...\n",
      "  Downloading page 6...\n",
      "  Done!\n",
      "Downloading year 2016 from @elfinanciero_mx\n",
      "  Downloading page 1...\n",
      "  Downloading page 2...\n",
      "  Downloading page 3...\n",
      "  Downloading page 4...\n",
      "  Downloading page 5...\n",
      "  Done!\n",
      "Downloading year 2016 from @eleconomista\n",
      "  Downloading page 1...\n",
      "  Downloading page 2...\n",
      "  Downloading page 3...\n",
      "  Downloading page 4...\n",
      "  Downloading page 5...\n",
      "  Done!\n",
      "Downloading year 2017 from @elfinanciero_mx\n",
      "  Downloading page 1...\n",
      "  Downloading page 2...\n",
      "  Downloading page 3...\n",
      "  Downloading page 4...\n",
      "  Downloading page 5...\n",
      "  Done!\n",
      "Downloading year 2017 from @eleconomista\n",
      "  Downloading page 1...\n",
      "  Downloading page 2...\n",
      "  Downloading page 3...\n",
      "  Downloading page 4...\n",
      "  Done!\n",
      "Downloading year 2018 from @elfinanciero_mx\n",
      "  Downloading page 1...\n",
      "  Downloading page 2...\n",
      "  Downloading page 3...\n",
      "  Downloading page 4...\n",
      "  Downloading page 5...\n",
      "  Downloading page 6...\n",
      "  Done!\n",
      "Downloading year 2018 from @eleconomista\n",
      "  Downloading page 1...\n",
      "  Downloading page 2...\n",
      "  Downloading page 3...\n",
      "  Downloading page 4...\n",
      "  Downloading page 5...\n",
      "  Done!\n",
      "Downloading year 2019 from @elfinanciero_mx\n",
      "  Downloading page 1...\n",
      "  Downloading page 2...\n",
      "  Downloading page 3...\n",
      "  Done!\n",
      "Downloading year 2019 from @eleconomista\n",
      "  Downloading page 1...\n",
      "  Downloading page 2...\n",
      "  Downloading page 3...\n",
      "  Done!\n",
      "CPU times: user 3.63 s, sys: 73.2 ms, total: 3.7 s\n",
      "Wall time: 27.5 s\n"
     ]
    }
   ],
   "source": [
    "%%time\n",
    "for yr in [\"2014\", \"2015\", \"2016\", \"2017\", \"2018\", \"2019\"]:\n",
    "    for source in [\"elfinanciero_mx\", \"eleconomista\"]:\n",
    "        print(\"Downloading year %s from @%s\"%(yr,source))\n",
    "        get_tweets(query='\"tasas de interés\" OR cetes OR bonos', newspaper=source, year=yr, filename=\"tweets.raw/cetes.%s\"%source, silent=False)"
   ]
  },
  {
   "cell_type": "code",
   "execution_count": 698,
   "metadata": {},
   "outputs": [
    {
     "data": {
      "text/plain": [
       "source            object\n",
       "time      datetime64[ns]\n",
       "tweet             object\n",
       "dtype: object"
      ]
     },
     "execution_count": 698,
     "metadata": {},
     "output_type": "execute_result"
    }
   ],
   "source": [
    "cetes = pd.read_csv(\"tweets.raw/cetes.elfinanciero_mx.2014.csv\", sep=\"|\")\n",
    "cetes = cetes.append(pd.read_csv(\"tweets.raw/cetes.elfinanciero_mx.2015.csv\", sep=\"|\"))\n",
    "cetes = cetes.append(pd.read_csv(\"tweets.raw/cetes.elfinanciero_mx.2016.csv\", sep=\"|\"))\n",
    "cetes = cetes.append(pd.read_csv(\"tweets.raw/cetes.elfinanciero_mx.2017.csv\", sep=\"|\"))\n",
    "cetes = cetes.append(pd.read_csv(\"tweets.raw/cetes.elfinanciero_mx.2018.csv\", sep=\"|\"))\n",
    "cetes = cetes.append(pd.read_csv(\"tweets.raw/cetes.elfinanciero_mx.2019.csv\", sep=\"|\"))\n",
    "cetes[\"source\"] = \"elfinanciero_mx\"\n",
    "cetes = cetes.append(pd.read_csv(\"tweets.raw/cetes.eleconomista.2014.csv\", sep=\"|\"))\n",
    "cetes = cetes.append(pd.read_csv(\"tweets.raw/cetes.eleconomista.2015.csv\", sep=\"|\"))\n",
    "cetes = cetes.append(pd.read_csv(\"tweets.raw/cetes.eleconomista.2016.csv\", sep=\"|\"))\n",
    "cetes = cetes.append(pd.read_csv(\"tweets.raw/cetes.eleconomista.2017.csv\", sep=\"|\"))\n",
    "cetes = cetes.append(pd.read_csv(\"tweets.raw/cetes.eleconomista.2018.csv\", sep=\"|\"))\n",
    "cetes = cetes.append(pd.read_csv(\"tweets.raw/cetes.eleconomista.2019.csv\", sep=\"|\"))\n",
    "cetes[\"source\"] = np.where(pd.isna(cetes[\"source\"]), \"eleconomista\", cetes.source)\n",
    "cetes.time = pd.to_datetime(cetes.time)\n",
    "cetes.tweet = cetes.tweet.astype(\"str\")\n",
    "cetes.source = cetes.source.astype(\"str\")\n",
    "cetes = cetes.drop(columns=[\"page\"])\n",
    "cetes.dtypes"
   ]
  },
  {
   "cell_type": "code",
   "execution_count": 699,
   "metadata": {},
   "outputs": [
    {
     "data": {
      "text/html": [
       "<div>\n",
       "<style scoped>\n",
       "    .dataframe tbody tr th:only-of-type {\n",
       "        vertical-align: middle;\n",
       "    }\n",
       "\n",
       "    .dataframe tbody tr th {\n",
       "        vertical-align: top;\n",
       "    }\n",
       "\n",
       "    .dataframe thead th {\n",
       "        text-align: right;\n",
       "    }\n",
       "</style>\n",
       "<table border=\"1\" class=\"dataframe\">\n",
       "  <thead>\n",
       "    <tr style=\"text-align: right;\">\n",
       "      <th></th>\n",
       "      <th>source</th>\n",
       "      <th>time</th>\n",
       "      <th>tweet</th>\n",
       "    </tr>\n",
       "  </thead>\n",
       "  <tbody>\n",
       "    <tr>\n",
       "      <th>794</th>\n",
       "      <td>eleconomista</td>\n",
       "      <td>2019-03-14</td>\n",
       "      <td>Las solicitudes de corporativos mexicanos para...</td>\n",
       "    </tr>\n",
       "    <tr>\n",
       "      <th>795</th>\n",
       "      <td>eleconomista</td>\n",
       "      <td>2019-03-15</td>\n",
       "      <td>#Volkswagen recaudó miles de millones en bonos...</td>\n",
       "    </tr>\n",
       "    <tr>\n",
       "      <th>796</th>\n",
       "      <td>eleconomista</td>\n",
       "      <td>2019-03-20</td>\n",
       "      <td>La #Fed ya no prevé subir sus tasas de interés...</td>\n",
       "    </tr>\n",
       "    <tr>\n",
       "      <th>797</th>\n",
       "      <td>eleconomista</td>\n",
       "      <td>2019-03-22</td>\n",
       "      <td>Jorge Alegría, asesor senior presidente CME Cl...</td>\n",
       "    </tr>\n",
       "    <tr>\n",
       "      <th>798</th>\n",
       "      <td>eleconomista</td>\n",
       "      <td>2019-03-24</td>\n",
       "      <td>Uber pagaría 1,400 millones de dólares en efec...</td>\n",
       "    </tr>\n",
       "  </tbody>\n",
       "</table>\n",
       "</div>"
      ],
      "text/plain": [
       "           source       time  \\\n",
       "794  eleconomista 2019-03-14   \n",
       "795  eleconomista 2019-03-15   \n",
       "796  eleconomista 2019-03-20   \n",
       "797  eleconomista 2019-03-22   \n",
       "798  eleconomista 2019-03-24   \n",
       "\n",
       "                                                 tweet  \n",
       "794  Las solicitudes de corporativos mexicanos para...  \n",
       "795  #Volkswagen recaudó miles de millones en bonos...  \n",
       "796  La #Fed ya no prevé subir sus tasas de interés...  \n",
       "797  Jorge Alegría, asesor senior presidente CME Cl...  \n",
       "798  Uber pagaría 1,400 millones de dólares en efec...  "
      ]
     },
     "execution_count": 699,
     "metadata": {},
     "output_type": "execute_result"
    }
   ],
   "source": [
    "#ordenar columnas \n",
    "cetes = cetes.sort_values(by=[\"time\"])\n",
    "#reindizar\n",
    "cetes.index = range(0, cetes.shape[0])\n",
    "\n",
    "cetes.tail(5)"
   ]
  },
  {
   "cell_type": "code",
   "execution_count": 708,
   "metadata": {},
   "outputs": [
    {
     "data": {
      "text/plain": [
       "(799, 3)"
      ]
     },
     "execution_count": 708,
     "metadata": {},
     "output_type": "execute_result"
    }
   ],
   "source": [
    "cetes.to_csv(\"cetes.csv.xz\", compression=\"xz\", index=False)\n",
    "cetes.shape"
   ]
  },
  {
   "cell_type": "code",
   "execution_count": 798,
   "metadata": {},
   "outputs": [
    {
     "data": {
      "text/html": [
       "<div>\n",
       "<style scoped>\n",
       "    .dataframe tbody tr th:only-of-type {\n",
       "        vertical-align: middle;\n",
       "    }\n",
       "\n",
       "    .dataframe tbody tr th {\n",
       "        vertical-align: top;\n",
       "    }\n",
       "\n",
       "    .dataframe thead th {\n",
       "        text-align: right;\n",
       "    }\n",
       "</style>\n",
       "<table border=\"1\" class=\"dataframe\">\n",
       "  <thead>\n",
       "    <tr style=\"text-align: right;\">\n",
       "      <th></th>\n",
       "      <th>source</th>\n",
       "      <th>time</th>\n",
       "      <th>tweet</th>\n",
       "    </tr>\n",
       "  </thead>\n",
       "  <tbody>\n",
       "    <tr>\n",
       "      <th>0</th>\n",
       "      <td>eleconomista</td>\n",
       "      <td>2014-01-01</td>\n",
       "      <td>#Podcast   Qué es y cómo funciona el programa ...</td>\n",
       "    </tr>\n",
       "  </tbody>\n",
       "</table>\n",
       "</div>"
      ],
      "text/plain": [
       "         source       time                                              tweet\n",
       "0  eleconomista 2014-01-01  #Podcast   Qué es y cómo funciona el programa ..."
      ]
     },
     "execution_count": 798,
     "metadata": {},
     "output_type": "execute_result"
    }
   ],
   "source": [
    "cetes = pd.read_csv(\"cetes.csv.xz\", compression=\"xz\")\n",
    "cetes[\"time\"] = pd.to_datetime(cetes.time)\n",
    "cetes.head(1)"
   ]
  },
  {
   "cell_type": "code",
   "execution_count": 799,
   "metadata": {},
   "outputs": [
    {
     "data": {
      "text/html": [
       "<div>\n",
       "<style scoped>\n",
       "    .dataframe tbody tr th:only-of-type {\n",
       "        vertical-align: middle;\n",
       "    }\n",
       "\n",
       "    .dataframe tbody tr th {\n",
       "        vertical-align: top;\n",
       "    }\n",
       "\n",
       "    .dataframe thead th {\n",
       "        text-align: right;\n",
       "    }\n",
       "</style>\n",
       "<table border=\"1\" class=\"dataframe\">\n",
       "  <thead>\n",
       "    <tr style=\"text-align: right;\">\n",
       "      <th></th>\n",
       "      <th>source</th>\n",
       "      <th>time</th>\n",
       "      <th>tweet</th>\n",
       "      <th>ipc</th>\n",
       "      <th>sentiment</th>\n",
       "    </tr>\n",
       "  </thead>\n",
       "  <tbody>\n",
       "    <tr>\n",
       "      <th>0</th>\n",
       "      <td>eleconomista</td>\n",
       "      <td>2014-01-01</td>\n",
       "      <td>#Podcast   Qué es y cómo funciona el programa ...</td>\n",
       "      <td>NaN</td>\n",
       "      <td>NaN</td>\n",
       "    </tr>\n",
       "    <tr>\n",
       "      <th>1</th>\n",
       "      <td>eleconomista</td>\n",
       "      <td>2014-01-07</td>\n",
       "      <td>Tasa líder de #Cetes sube a 3.17% ow.ly/smiWM</td>\n",
       "      <td>1.0</td>\n",
       "      <td>1.0</td>\n",
       "    </tr>\n",
       "    <tr>\n",
       "      <th>2</th>\n",
       "      <td>elfinanciero_mx</td>\n",
       "      <td>2014-01-07</td>\n",
       "      <td>Tasas de interés mixtas en subasta primaria de...</td>\n",
       "      <td>1.0</td>\n",
       "      <td>1.0</td>\n",
       "    </tr>\n",
       "    <tr>\n",
       "      <th>3</th>\n",
       "      <td>eleconomista</td>\n",
       "      <td>2014-01-09</td>\n",
       "      <td>#Bonos M con presiones al alza en corto plazo:...</td>\n",
       "      <td>0.0</td>\n",
       "      <td>0.0</td>\n",
       "    </tr>\n",
       "    <tr>\n",
       "      <th>4</th>\n",
       "      <td>elfinanciero_mx</td>\n",
       "      <td>2014-01-13</td>\n",
       "      <td>@FEMSA colocó una reapertura de sus bonos a 10...</td>\n",
       "      <td>-1.0</td>\n",
       "      <td>-1.0</td>\n",
       "    </tr>\n",
       "  </tbody>\n",
       "</table>\n",
       "</div>"
      ],
      "text/plain": [
       "            source       time  \\\n",
       "0     eleconomista 2014-01-01   \n",
       "1     eleconomista 2014-01-07   \n",
       "2  elfinanciero_mx 2014-01-07   \n",
       "3     eleconomista 2014-01-09   \n",
       "4  elfinanciero_mx 2014-01-13   \n",
       "\n",
       "                                               tweet  ipc  sentiment  \n",
       "0  #Podcast   Qué es y cómo funciona el programa ...  NaN        NaN  \n",
       "1      Tasa líder de #Cetes sube a 3.17% ow.ly/smiWM  1.0        1.0  \n",
       "2  Tasas de interés mixtas en subasta primaria de...  1.0        1.0  \n",
       "3  #Bonos M con presiones al alza en corto plazo:...  0.0        0.0  \n",
       "4  @FEMSA colocó una reapertura de sus bonos a 10... -1.0       -1.0  "
      ]
     },
     "execution_count": 799,
     "metadata": {},
     "output_type": "execute_result"
    }
   ],
   "source": [
    "cetes.drop(columns=[\"sentiment\"], inplace=True, errors=\"ignore\")\n",
    "#sentimiento basado en el porcentaje de cambio del ipc\n",
    "cetes[\"ipc\"] = cetes.join(ipc.set_index(\"date\"), on=\"time\", how=\"left\").deltaPct.round(0)\n",
    "#sentimiento basado en reglas\n",
    "cetes[\"sentiment\"] = cetes.join(ipc.set_index(\"date\"), on=\"time\", how=\"left\").sentiment\n",
    "cetes.head(5)"
   ]
  },
  {
   "cell_type": "markdown",
   "metadata": {},
   "source": [
    "Como en el caso anterior, existen fechas en las cuales no opera la bolsa, pero sí existen tweets publicados; por lo que es conveniente aplicar dicho tweet al cierre de la jornada del siguiente día hábil para la bolsa. Se puede observar en la salida anterior, el caso de un 1 de Enero, donde la bolsa no laboró. Pero el 2 de enero sí, entonces, dicho tweet aplica para el 2 de Enero. \n",
    "\n",
    "Lo mismo aplica para tweets que son publicados en Sábado o Domingo, por lo que aplicamos el sentimiento del siguiente día hábil."
   ]
  },
  {
   "cell_type": "markdown",
   "metadata": {},
   "source": [
    "# _Revisar_"
   ]
  },
  {
   "cell_type": "code",
   "execution_count": 828,
   "metadata": {},
   "outputs": [
    {
     "data": {
      "text/html": [
       "<div>\n",
       "<style scoped>\n",
       "    .dataframe tbody tr th:only-of-type {\n",
       "        vertical-align: middle;\n",
       "    }\n",
       "\n",
       "    .dataframe tbody tr th {\n",
       "        vertical-align: top;\n",
       "    }\n",
       "\n",
       "    .dataframe thead th {\n",
       "        text-align: right;\n",
       "    }\n",
       "</style>\n",
       "<table border=\"1\" class=\"dataframe\">\n",
       "  <thead>\n",
       "    <tr style=\"text-align: right;\">\n",
       "      <th></th>\n",
       "      <th>source</th>\n",
       "      <th>time</th>\n",
       "      <th>tweet</th>\n",
       "      <th>ipc</th>\n",
       "      <th>sentiment</th>\n",
       "    </tr>\n",
       "  </thead>\n",
       "  <tbody>\n",
       "    <tr>\n",
       "      <th>0</th>\n",
       "      <td>eleconomista</td>\n",
       "      <td>2014-01-01</td>\n",
       "      <td>#Podcast   Qué es y cómo funciona el programa ...</td>\n",
       "      <td>1.0</td>\n",
       "      <td>1.0</td>\n",
       "    </tr>\n",
       "    <tr>\n",
       "      <th>1</th>\n",
       "      <td>eleconomista</td>\n",
       "      <td>2014-01-07</td>\n",
       "      <td>Tasa líder de #Cetes sube a 3.17% ow.ly/smiWM</td>\n",
       "      <td>1.0</td>\n",
       "      <td>1.0</td>\n",
       "    </tr>\n",
       "    <tr>\n",
       "      <th>2</th>\n",
       "      <td>elfinanciero_mx</td>\n",
       "      <td>2014-01-07</td>\n",
       "      <td>Tasas de interés mixtas en subasta primaria de...</td>\n",
       "      <td>1.0</td>\n",
       "      <td>1.0</td>\n",
       "    </tr>\n",
       "    <tr>\n",
       "      <th>3</th>\n",
       "      <td>eleconomista</td>\n",
       "      <td>2014-01-09</td>\n",
       "      <td>#Bonos M con presiones al alza en corto plazo:...</td>\n",
       "      <td>0.0</td>\n",
       "      <td>0.0</td>\n",
       "    </tr>\n",
       "    <tr>\n",
       "      <th>4</th>\n",
       "      <td>elfinanciero_mx</td>\n",
       "      <td>2014-01-13</td>\n",
       "      <td>@FEMSA colocó una reapertura de sus bonos a 10...</td>\n",
       "      <td>-1.0</td>\n",
       "      <td>-1.0</td>\n",
       "    </tr>\n",
       "  </tbody>\n",
       "</table>\n",
       "</div>"
      ],
      "text/plain": [
       "            source       time  \\\n",
       "0     eleconomista 2014-01-01   \n",
       "1     eleconomista 2014-01-07   \n",
       "2  elfinanciero_mx 2014-01-07   \n",
       "3     eleconomista 2014-01-09   \n",
       "4  elfinanciero_mx 2014-01-13   \n",
       "\n",
       "                                               tweet  ipc  sentiment  \n",
       "0  #Podcast   Qué es y cómo funciona el programa ...  1.0        1.0  \n",
       "1      Tasa líder de #Cetes sube a 3.17% ow.ly/smiWM  1.0        1.0  \n",
       "2  Tasas de interés mixtas en subasta primaria de...  1.0        1.0  \n",
       "3  #Bonos M con presiones al alza en corto plazo:...  0.0        0.0  \n",
       "4  @FEMSA colocó una reapertura de sus bonos a 10... -1.0       -1.0  "
      ]
     },
     "execution_count": 828,
     "metadata": {},
     "output_type": "execute_result"
    }
   ],
   "source": [
    "cetes = tweet_adjust_df(cetes, [\"ipc\", \"sentiment\"]).copy()\n",
    "cetes.head()"
   ]
  },
  {
   "cell_type": "markdown",
   "metadata": {},
   "source": [
    "### Separación en conjunto de entrenamiento y pruebas\n",
    "\n",
    "Separamos nuestro data set, con semilla estática, para separa nuestro set en datos de entrenamiento y prueba de manera reproducible."
   ]
  },
  {
   "cell_type": "code",
   "execution_count": 803,
   "metadata": {},
   "outputs": [
    {
     "name": "stdout",
     "output_type": "stream",
     "text": [
      "Tamaño de conjuntos de datos:\n",
      "Entrenamiento: 478 (59.899749%)\n",
      "Prueba: 320 (40.100251%)\n"
     ]
    }
   ],
   "source": [
    "train2, test2 = train_test_split(cetes, test_size=0.4, random_state=175904)\n",
    "train2.reset_index(drop=True,inplace=True)\n",
    "test2.reset_index(drop=True,inplace=True)\n",
    "train2 = train2.copy()\n",
    "test2 = test2.copy()\n",
    "print(\"Tamaño de conjuntos de datos:\\nEntrenamiento: %d (%f%%)\\nPrueba: %d (%f%%)\"%(\n",
    "    train2.shape[0], 100*train2.shape[0]/cetes.shape[0], \n",
    "    test2.shape[0], 100*test2.shape[0]/cetes.shape[0]))"
   ]
  },
  {
   "cell_type": "code",
   "execution_count": 804,
   "metadata": {},
   "outputs": [
    {
     "data": {
      "text/html": [
       "<div>\n",
       "<style scoped>\n",
       "    .dataframe tbody tr th:only-of-type {\n",
       "        vertical-align: middle;\n",
       "    }\n",
       "\n",
       "    .dataframe tbody tr th {\n",
       "        vertical-align: top;\n",
       "    }\n",
       "\n",
       "    .dataframe thead th {\n",
       "        text-align: right;\n",
       "    }\n",
       "</style>\n",
       "<table border=\"1\" class=\"dataframe\">\n",
       "  <thead>\n",
       "    <tr style=\"text-align: right;\">\n",
       "      <th></th>\n",
       "      <th>source</th>\n",
       "      <th>time</th>\n",
       "      <th>tweet</th>\n",
       "      <th>ipc</th>\n",
       "      <th>sentiment</th>\n",
       "      <th>sentiment_hat</th>\n",
       "      <th>ipc_hat</th>\n",
       "    </tr>\n",
       "  </thead>\n",
       "  <tbody>\n",
       "    <tr>\n",
       "      <th>0</th>\n",
       "      <td>elfinanciero_mx</td>\n",
       "      <td>2016-06-10</td>\n",
       "      <td>#Análisis Tasa real de Cetes, en máximos de 5 ...</td>\n",
       "      <td>-1.0</td>\n",
       "      <td>-1.0</td>\n",
       "      <td>0.0</td>\n",
       "      <td>0.0</td>\n",
       "    </tr>\n",
       "    <tr>\n",
       "      <th>1</th>\n",
       "      <td>elfinanciero_mx</td>\n",
       "      <td>2016-10-18</td>\n",
       "      <td>#Opinión Benito Solís te explica los costos ec...</td>\n",
       "      <td>1.0</td>\n",
       "      <td>1.0</td>\n",
       "      <td>0.0</td>\n",
       "      <td>0.0</td>\n",
       "    </tr>\n",
       "    <tr>\n",
       "      <th>2</th>\n",
       "      <td>eleconomista</td>\n",
       "      <td>2017-03-16</td>\n",
       "      <td>Aeropuerto y CDMX van por bonos verdes ow.ly/W...</td>\n",
       "      <td>1.0</td>\n",
       "      <td>1.0</td>\n",
       "      <td>1.0</td>\n",
       "      <td>1.0</td>\n",
       "    </tr>\n",
       "    <tr>\n",
       "      <th>3</th>\n",
       "      <td>elfinanciero_mx</td>\n",
       "      <td>2016-01-13</td>\n",
       "      <td>#Análisis ¿Bonos Bowie? Él también será record...</td>\n",
       "      <td>-0.0</td>\n",
       "      <td>0.0</td>\n",
       "      <td>0.0</td>\n",
       "      <td>0.0</td>\n",
       "    </tr>\n",
       "    <tr>\n",
       "      <th>4</th>\n",
       "      <td>eleconomista</td>\n",
       "      <td>2017-02-12</td>\n",
       "      <td>HR Ratings podría calificar 3 bonos verdes en ...</td>\n",
       "      <td>-0.0</td>\n",
       "      <td>0.0</td>\n",
       "      <td>0.0</td>\n",
       "      <td>0.0</td>\n",
       "    </tr>\n",
       "  </tbody>\n",
       "</table>\n",
       "</div>"
      ],
      "text/plain": [
       "            source       time  \\\n",
       "0  elfinanciero_mx 2016-06-10   \n",
       "1  elfinanciero_mx 2016-10-18   \n",
       "2     eleconomista 2017-03-16   \n",
       "3  elfinanciero_mx 2016-01-13   \n",
       "4     eleconomista 2017-02-12   \n",
       "\n",
       "                                               tweet  ipc  sentiment  \\\n",
       "0  #Análisis Tasa real de Cetes, en máximos de 5 ... -1.0       -1.0   \n",
       "1  #Opinión Benito Solís te explica los costos ec...  1.0        1.0   \n",
       "2  Aeropuerto y CDMX van por bonos verdes ow.ly/W...  1.0        1.0   \n",
       "3  #Análisis ¿Bonos Bowie? Él también será record... -0.0        0.0   \n",
       "4  HR Ratings podría calificar 3 bonos verdes en ... -0.0        0.0   \n",
       "\n",
       "   sentiment_hat  ipc_hat  \n",
       "0            0.0      0.0  \n",
       "1            0.0      0.0  \n",
       "2            1.0      1.0  \n",
       "3            0.0      0.0  \n",
       "4            0.0      0.0  "
      ]
     },
     "execution_count": 804,
     "metadata": {},
     "output_type": "execute_result"
    }
   ],
   "source": [
    "pipe1 = Pipeline([\n",
    "    (\"token\", CountVectorizer(tokenizer=tokenize, stop_words=stop_words)),\n",
    "    (\"tfid\", TfidfTransformer()),\n",
    "    (\"clf\", MultinomialNB(alpha=1.0))\n",
    "])\n",
    "pipe1m0 = pipe1.fit(train2.tweet, train2.sentiment)\n",
    "pipe1m1 = pipe1.fit(train2.tweet, train2.ipc)\n",
    "train2[\"sentiment_hat\"] = pipe1m0.predict(train2.tweet)\n",
    "train2[\"ipc_hat\"] = pipe1m1.predict(train2.tweet)\n",
    "train2.head()"
   ]
  },
  {
   "cell_type": "markdown",
   "metadata": {},
   "source": [
    "### Métricas para Modelo basado en Sentimiento\n",
    "\n",
    "Basamos nuestro modelo en 2 sentimientos: que sube (+1), neutro (0) y que baja (-1)"
   ]
  },
  {
   "cell_type": "code",
   "execution_count": 805,
   "metadata": {},
   "outputs": [
    {
     "name": "stdout",
     "output_type": "stream",
     "text": [
      "             precision    recall  f1-score   support\n",
      "\n",
      "       -1.0       1.00      0.01      0.02        84\n",
      "        0.0       0.47      0.96      0.63       139\n",
      "        1.0       0.48      0.15      0.23        97\n",
      "\n",
      "avg / total       0.61      0.47      0.35       320\n",
      "\n"
     ]
    }
   ],
   "source": [
    "test2[\"sentiment_hat\"] = pipe1m0.predict(test2.tweet)\n",
    "print(classification_report(test2.sentiment, test2.sentiment_hat))"
   ]
  },
  {
   "cell_type": "markdown",
   "metadata": {},
   "source": [
    "### Métricas para Modelo Basado en el IPC"
   ]
  },
  {
   "cell_type": "code",
   "execution_count": 806,
   "metadata": {},
   "outputs": [
    {
     "name": "stdout",
     "output_type": "stream",
     "text": [
      "             precision    recall  f1-score   support\n",
      "\n",
      "       -4.0       0.00      0.00      0.00         1\n",
      "       -3.0       0.00      0.00      0.00         1\n",
      "       -2.0       0.00      0.00      0.00        14\n",
      "       -1.0       1.00      0.01      0.03        68\n",
      "        0.0       0.47      0.96      0.63       139\n",
      "        1.0       0.48      0.16      0.25        91\n",
      "        2.0       0.00      0.00      0.00         6\n",
      "\n",
      "avg / total       0.55      0.47      0.35       320\n",
      "\n"
     ]
    },
    {
     "name": "stderr",
     "output_type": "stream",
     "text": [
      "/opt/intel/intelpython3/lib/python3.6/site-packages/sklearn/metrics/classification.py:1135: UndefinedMetricWarning: Precision and F-score are ill-defined and being set to 0.0 in labels with no predicted samples.\n",
      "  'precision', 'predicted', average, warn_for)\n"
     ]
    }
   ],
   "source": [
    "test2[\"ipc_hat\"] = pipe1m1.predict(test2.tweet)\n",
    "print(classification_report(test2.ipc, test2.ipc_hat))"
   ]
  },
  {
   "cell_type": "markdown",
   "metadata": {},
   "source": [
    "## Tweets de Divisas\n",
    "\n",
    "Dado que aún nuestro mejor resultado en nuestro modelo pasado, vamos a intentar utilizar otros términos de búsqueda: peso, divisa, Dólar, Euro, Libra."
   ]
  },
  {
   "cell_type": "code",
   "execution_count": 807,
   "metadata": {},
   "outputs": [
    {
     "name": "stdout",
     "output_type": "stream",
     "text": [
      "Downloading year 2014 from @elfinanciero_mx\n",
      "  Downloading page 1...\n",
      "  Downloading page 2...\n",
      "  Downloading page 3...\n",
      "  Downloading page 4...\n",
      "  Downloading page 5...\n",
      "  Downloading page 6...\n",
      "  Downloading page 7...\n",
      "  Downloading page 8...\n",
      "  Downloading page 9...\n",
      "  Downloading page 10...\n",
      "  Downloading page 11...\n",
      "  Downloading page 12...\n",
      "  Downloading page 13...\n",
      "  Downloading page 14...\n",
      "  Downloading page 15...\n",
      "  Downloading page 16...\n",
      "  Downloading page 17...\n",
      "  Downloading page 18...\n",
      "  Downloading page 19...\n",
      "  Downloading page 20...\n",
      "  Done!\n",
      "Downloading year 2014 from @eleconomista\n",
      "  Downloading page 1...\n",
      "  Downloading page 2...\n",
      "  Downloading page 3...\n",
      "  Downloading page 4...\n",
      "  Downloading page 5...\n",
      "  Downloading page 6...\n",
      "  Downloading page 7...\n",
      "  Done!\n",
      "Downloading year 2015 from @elfinanciero_mx\n",
      "  Downloading page 1...\n",
      "  Downloading page 2...\n",
      "  Downloading page 3...\n",
      "  Downloading page 4...\n",
      "  Downloading page 5...\n",
      "  Downloading page 6...\n",
      "  Downloading page 7...\n",
      "  Downloading page 8...\n",
      "  Downloading page 9...\n",
      "  Downloading page 10...\n",
      "  Downloading page 11...\n",
      "  Downloading page 12...\n",
      "  Downloading page 13...\n",
      "  Downloading page 14...\n",
      "  Downloading page 15...\n",
      "  Downloading page 16...\n",
      "  Downloading page 17...\n",
      "  Downloading page 18...\n",
      "  Downloading page 19...\n",
      "  Downloading page 20...\n",
      "  Downloading page 21...\n",
      "  Downloading page 22...\n",
      "  Downloading page 23...\n",
      "  Downloading page 24...\n",
      "  Downloading page 25...\n",
      "  Downloading page 26...\n",
      "  Downloading page 27...\n",
      "  Downloading page 28...\n",
      "  Downloading page 29...\n",
      "  Downloading page 30...\n",
      "  Downloading page 31...\n",
      "  Done!\n",
      "Downloading year 2015 from @eleconomista\n",
      "  Downloading page 1...\n",
      "  Downloading page 2...\n",
      "  Downloading page 3...\n",
      "  Downloading page 4...\n",
      "  Downloading page 5...\n",
      "  Downloading page 6...\n",
      "  Downloading page 7...\n",
      "  Downloading page 8...\n",
      "  Downloading page 9...\n",
      "  Downloading page 10...\n",
      "  Downloading page 11...\n",
      "  Downloading page 12...\n",
      "  Downloading page 13...\n",
      "  Done!\n",
      "Downloading year 2016 from @elfinanciero_mx\n",
      "  Downloading page 1...\n",
      "  Downloading page 2...\n",
      "  Downloading page 3...\n",
      "  Downloading page 4...\n",
      "  Downloading page 5...\n",
      "  Downloading page 6...\n",
      "  Downloading page 7...\n",
      "  Downloading page 8...\n",
      "  Downloading page 9...\n",
      "  Downloading page 10...\n",
      "  Downloading page 11...\n",
      "  Downloading page 12...\n",
      "  Downloading page 13...\n",
      "  Downloading page 14...\n",
      "  Downloading page 15...\n",
      "  Downloading page 16...\n",
      "  Downloading page 17...\n",
      "  Downloading page 18...\n",
      "  Downloading page 19...\n",
      "  Downloading page 20...\n",
      "  Downloading page 21...\n",
      "  Downloading page 22...\n",
      "  Downloading page 23...\n",
      "  Downloading page 24...\n",
      "  Downloading page 25...\n",
      "  Downloading page 26...\n",
      "  Downloading page 27...\n",
      "  Downloading page 28...\n",
      "  Downloading page 29...\n",
      "  Downloading page 30...\n",
      "  Downloading page 31...\n",
      "  Downloading page 32...\n",
      "  Downloading page 33...\n",
      "  Downloading page 34...\n",
      "  Downloading page 35...\n",
      "  Downloading page 36...\n",
      "  Done!\n",
      "Downloading year 2016 from @eleconomista\n",
      "  Downloading page 1...\n",
      "  Downloading page 2...\n",
      "  Downloading page 3...\n",
      "  Downloading page 4...\n",
      "  Downloading page 5...\n",
      "  Downloading page 6...\n",
      "  Downloading page 7...\n",
      "  Downloading page 8...\n",
      "  Downloading page 9...\n",
      "  Downloading page 10...\n",
      "  Downloading page 11...\n",
      "  Downloading page 12...\n",
      "  Downloading page 13...\n",
      "  Downloading page 14...\n",
      "  Downloading page 15...\n",
      "  Done!\n",
      "Downloading year 2017 from @elfinanciero_mx\n",
      "  Downloading page 1...\n",
      "  Downloading page 2...\n",
      "  Downloading page 3...\n",
      "  Downloading page 4...\n",
      "  Downloading page 5...\n",
      "  Downloading page 6...\n",
      "  Downloading page 7...\n",
      "  Downloading page 8...\n",
      "  Downloading page 9...\n",
      "  Downloading page 10...\n",
      "  Downloading page 11...\n",
      "  Downloading page 12...\n",
      "  Downloading page 13...\n",
      "  Downloading page 14...\n",
      "  Downloading page 15...\n",
      "  Downloading page 16...\n",
      "  Downloading page 17...\n",
      "  Downloading page 18...\n",
      "  Downloading page 19...\n",
      "  Downloading page 20...\n",
      "  Downloading page 21...\n",
      "  Downloading page 22...\n",
      "  Downloading page 23...\n",
      "  Downloading page 24...\n",
      "  Downloading page 25...\n",
      "  Downloading page 26...\n",
      "  Done!\n",
      "Downloading year 2017 from @eleconomista\n",
      "  Downloading page 1...\n",
      "  Downloading page 2...\n",
      "  Downloading page 3...\n",
      "  Downloading page 4...\n",
      "  Downloading page 5...\n",
      "  Downloading page 6...\n",
      "  Downloading page 7...\n",
      "  Downloading page 8...\n",
      "  Downloading page 9...\n",
      "  Downloading page 10...\n",
      "  Downloading page 11...\n",
      "  Downloading page 12...\n",
      "  Downloading page 13...\n",
      "  Downloading page 14...\n",
      "  Downloading page 15...\n",
      "  Done!\n",
      "Downloading year 2018 from @elfinanciero_mx\n",
      "  Downloading page 1...\n",
      "  Downloading page 2...\n",
      "  Downloading page 3...\n",
      "  Downloading page 4...\n",
      "  Downloading page 5...\n",
      "  Downloading page 6...\n",
      "  Downloading page 7...\n",
      "  Downloading page 8...\n",
      "  Downloading page 9...\n",
      "  Downloading page 10...\n",
      "  Downloading page 11...\n",
      "  Downloading page 12...\n",
      "  Downloading page 13...\n",
      "  Downloading page 14...\n",
      "  Downloading page 15...\n",
      "  Downloading page 16...\n",
      "  Downloading page 17...\n",
      "  Downloading page 18...\n",
      "  Downloading page 19...\n",
      "  Downloading page 20...\n",
      "  Downloading page 21...\n",
      "  Downloading page 22...\n",
      "  Downloading page 23...\n",
      "  Done!\n",
      "Downloading year 2018 from @eleconomista\n",
      "  Downloading page 1...\n",
      "  Downloading page 2...\n",
      "  Downloading page 3...\n",
      "  Downloading page 4...\n",
      "  Downloading page 5...\n",
      "  Downloading page 6...\n",
      "  Downloading page 7...\n",
      "  Downloading page 8...\n",
      "  Downloading page 9...\n",
      "  Downloading page 10...\n",
      "  Downloading page 11...\n",
      "  Downloading page 12...\n",
      "  Downloading page 13...\n",
      "  Done!\n",
      "Downloading year 2019 from @elfinanciero_mx\n",
      "  Downloading page 1...\n",
      "  Downloading page 2...\n",
      "  Downloading page 3...\n",
      "  Downloading page 4...\n",
      "  Downloading page 5...\n",
      "  Downloading page 6...\n",
      "  Downloading page 7...\n",
      "  Done!\n",
      "Downloading year 2019 from @eleconomista\n",
      "  Downloading page 1...\n",
      "  Downloading page 2...\n",
      "  Downloading page 3...\n",
      "  Downloading page 4...\n",
      "  Downloading page 5...\n",
      "  Done!\n",
      "CPU times: user 15.3 s, sys: 416 ms, total: 15.7 s\n",
      "Wall time: 1min 42s\n"
     ]
    }
   ],
   "source": [
    "%%time\n",
    "for yr in [\"2014\", \"2015\", \"2016\", \"2017\", \"2018\", \"2019\"]:\n",
    "    for source in [\"elfinanciero_mx\", \"eleconomista\"]:\n",
    "        print(\"Downloading year %s from @%s\"%(yr,source))\n",
    "        get_tweets(query='peso OR divisa OR dollar OR dolar OR usd OR euro OR libra',\n",
    "                   newspaper=source, year=yr, filename=\"tweets.raw/forex.%s\"%source, silent=False)"
   ]
  },
  {
   "cell_type": "code",
   "execution_count": 808,
   "metadata": {},
   "outputs": [
    {
     "data": {
      "text/plain": [
       "source            object\n",
       "time      datetime64[ns]\n",
       "tweet             object\n",
       "dtype: object"
      ]
     },
     "execution_count": 808,
     "metadata": {},
     "output_type": "execute_result"
    }
   ],
   "source": [
    "forex = pd.read_csv(\"tweets.raw/forex.elfinanciero_mx.2014.csv\", sep=\"|\")\n",
    "forex = forex.append(pd.read_csv(\"tweets.raw/forex.elfinanciero_mx.2015.csv\", sep=\"|\"))\n",
    "forex = forex.append(pd.read_csv(\"tweets.raw/forex.elfinanciero_mx.2016.csv\", sep=\"|\"))\n",
    "forex = forex.append(pd.read_csv(\"tweets.raw/forex.elfinanciero_mx.2017.csv\", sep=\"|\"))\n",
    "forex = forex.append(pd.read_csv(\"tweets.raw/forex.elfinanciero_mx.2018.csv\", sep=\"|\"))\n",
    "forex = forex.append(pd.read_csv(\"tweets.raw/forex.elfinanciero_mx.2019.csv\", sep=\"|\"))\n",
    "forex[\"source\"] = \"elfinanciero_mx\"\n",
    "forex = forex.append(pd.read_csv(\"tweets.raw/forex.eleconomista.2014.csv\", sep=\"|\"))\n",
    "forex = forex.append(pd.read_csv(\"tweets.raw/forex.eleconomista.2015.csv\", sep=\"|\"))\n",
    "forex = forex.append(pd.read_csv(\"tweets.raw/forex.eleconomista.2016.csv\", sep=\"|\"))\n",
    "forex = forex.append(pd.read_csv(\"tweets.raw/forex.eleconomista.2017.csv\", sep=\"|\"))\n",
    "forex = forex.append(pd.read_csv(\"tweets.raw/forex.eleconomista.2018.csv\", sep=\"|\"))\n",
    "forex = forex.append(pd.read_csv(\"tweets.raw/forex.eleconomista.2019.csv\", sep=\"|\"))\n",
    "forex[\"source\"] = np.where(pd.isna(forex[\"source\"]), \"eleconomista\", forex.source)\n",
    "forex.time = pd.to_datetime(forex.time)\n",
    "forex.tweet = forex.tweet.astype(\"str\")\n",
    "forex.source = forex.source.astype(\"str\")\n",
    "forex = forex.drop(columns=[\"page\"])\n",
    "forex.dtypes"
   ]
  },
  {
   "cell_type": "code",
   "execution_count": 809,
   "metadata": {},
   "outputs": [
    {
     "data": {
      "text/html": [
       "<div>\n",
       "<style scoped>\n",
       "    .dataframe tbody tr th:only-of-type {\n",
       "        vertical-align: middle;\n",
       "    }\n",
       "\n",
       "    .dataframe tbody tr th {\n",
       "        vertical-align: top;\n",
       "    }\n",
       "\n",
       "    .dataframe thead th {\n",
       "        text-align: right;\n",
       "    }\n",
       "</style>\n",
       "<table border=\"1\" class=\"dataframe\">\n",
       "  <thead>\n",
       "    <tr style=\"text-align: right;\">\n",
       "      <th></th>\n",
       "      <th>source</th>\n",
       "      <th>time</th>\n",
       "      <th>tweet</th>\n",
       "    </tr>\n",
       "  </thead>\n",
       "  <tbody>\n",
       "    <tr>\n",
       "      <th>3449</th>\n",
       "      <td>elfinanciero_mx</td>\n",
       "      <td>2019-03-22</td>\n",
       "      <td>El dólar se dispara a 19.40 pesos en bancos.</td>\n",
       "    </tr>\n",
       "    <tr>\n",
       "      <th>3450</th>\n",
       "      <td>elfinanciero_mx</td>\n",
       "      <td>2019-03-22</td>\n",
       "      <td>Plazas europeas registran peor jornada desde f...</td>\n",
       "    </tr>\n",
       "    <tr>\n",
       "      <th>3451</th>\n",
       "      <td>elfinanciero_mx</td>\n",
       "      <td>2019-03-22</td>\n",
       "      <td>'Viernes negro' para el peso por temor a un me...</td>\n",
       "    </tr>\n",
       "    <tr>\n",
       "      <th>3452</th>\n",
       "      <td>eleconomista</td>\n",
       "      <td>2019-03-22</td>\n",
       "      <td>¿Qué le ha favorecido al peso este año? #ElEco...</td>\n",
       "    </tr>\n",
       "    <tr>\n",
       "      <th>3453</th>\n",
       "      <td>eleconomista</td>\n",
       "      <td>2019-03-24</td>\n",
       "      <td>La moneda mexicana se mantiene como un activo ...</td>\n",
       "    </tr>\n",
       "  </tbody>\n",
       "</table>\n",
       "</div>"
      ],
      "text/plain": [
       "               source       time  \\\n",
       "3449  elfinanciero_mx 2019-03-22   \n",
       "3450  elfinanciero_mx 2019-03-22   \n",
       "3451  elfinanciero_mx 2019-03-22   \n",
       "3452     eleconomista 2019-03-22   \n",
       "3453     eleconomista 2019-03-24   \n",
       "\n",
       "                                                  tweet  \n",
       "3449       El dólar se dispara a 19.40 pesos en bancos.  \n",
       "3450  Plazas europeas registran peor jornada desde f...  \n",
       "3451  'Viernes negro' para el peso por temor a un me...  \n",
       "3452  ¿Qué le ha favorecido al peso este año? #ElEco...  \n",
       "3453  La moneda mexicana se mantiene como un activo ...  "
      ]
     },
     "execution_count": 809,
     "metadata": {},
     "output_type": "execute_result"
    }
   ],
   "source": [
    "#ordenar columnas \n",
    "forex = forex.sort_values(by=[\"time\"])\n",
    "#reindizar\n",
    "forex.index = range(0, forex.shape[0])\n",
    "\n",
    "forex.tail(5)"
   ]
  },
  {
   "cell_type": "code",
   "execution_count": 810,
   "metadata": {},
   "outputs": [
    {
     "data": {
      "text/plain": [
       "(3454, 3)"
      ]
     },
     "execution_count": 810,
     "metadata": {},
     "output_type": "execute_result"
    }
   ],
   "source": [
    "forex.to_csv(\"forex.csv.xz\", compression=\"xz\", index=False)\n",
    "forex.shape"
   ]
  },
  {
   "cell_type": "code",
   "execution_count": 811,
   "metadata": {},
   "outputs": [
    {
     "data": {
      "text/html": [
       "<div>\n",
       "<style scoped>\n",
       "    .dataframe tbody tr th:only-of-type {\n",
       "        vertical-align: middle;\n",
       "    }\n",
       "\n",
       "    .dataframe tbody tr th {\n",
       "        vertical-align: top;\n",
       "    }\n",
       "\n",
       "    .dataframe thead th {\n",
       "        text-align: right;\n",
       "    }\n",
       "</style>\n",
       "<table border=\"1\" class=\"dataframe\">\n",
       "  <thead>\n",
       "    <tr style=\"text-align: right;\">\n",
       "      <th></th>\n",
       "      <th>source</th>\n",
       "      <th>time</th>\n",
       "      <th>tweet</th>\n",
       "    </tr>\n",
       "  </thead>\n",
       "  <tbody>\n",
       "    <tr>\n",
       "      <th>0</th>\n",
       "      <td>elfinanciero_mx</td>\n",
       "      <td>2014-01-01</td>\n",
       "      <td>#Letonia adopta el euro, se convierte en el pa...</td>\n",
       "    </tr>\n",
       "  </tbody>\n",
       "</table>\n",
       "</div>"
      ],
      "text/plain": [
       "            source       time  \\\n",
       "0  elfinanciero_mx 2014-01-01   \n",
       "\n",
       "                                               tweet  \n",
       "0  #Letonia adopta el euro, se convierte en el pa...  "
      ]
     },
     "execution_count": 811,
     "metadata": {},
     "output_type": "execute_result"
    }
   ],
   "source": [
    "forex = pd.read_csv(\"forex.csv.xz\", compression=\"xz\")\n",
    "forex[\"time\"] = pd.to_datetime(forex.time)\n",
    "forex.head(1)"
   ]
  },
  {
   "cell_type": "code",
   "execution_count": 812,
   "metadata": {},
   "outputs": [
    {
     "data": {
      "text/html": [
       "<div>\n",
       "<style scoped>\n",
       "    .dataframe tbody tr th:only-of-type {\n",
       "        vertical-align: middle;\n",
       "    }\n",
       "\n",
       "    .dataframe tbody tr th {\n",
       "        vertical-align: top;\n",
       "    }\n",
       "\n",
       "    .dataframe thead th {\n",
       "        text-align: right;\n",
       "    }\n",
       "</style>\n",
       "<table border=\"1\" class=\"dataframe\">\n",
       "  <thead>\n",
       "    <tr style=\"text-align: right;\">\n",
       "      <th></th>\n",
       "      <th>source</th>\n",
       "      <th>time</th>\n",
       "      <th>tweet</th>\n",
       "      <th>ipc</th>\n",
       "      <th>sentiment</th>\n",
       "    </tr>\n",
       "  </thead>\n",
       "  <tbody>\n",
       "    <tr>\n",
       "      <th>0</th>\n",
       "      <td>elfinanciero_mx</td>\n",
       "      <td>2014-01-01</td>\n",
       "      <td>#Letonia adopta el euro, se convierte en el pa...</td>\n",
       "      <td>NaN</td>\n",
       "      <td>NaN</td>\n",
       "    </tr>\n",
       "    <tr>\n",
       "      <th>1</th>\n",
       "      <td>elfinanciero_mx</td>\n",
       "      <td>2014-01-01</td>\n",
       "      <td>#Sitelopediste Peso con mejor desempeño en Lat...</td>\n",
       "      <td>NaN</td>\n",
       "      <td>NaN</td>\n",
       "    </tr>\n",
       "    <tr>\n",
       "      <th>2</th>\n",
       "      <td>elfinanciero_mx</td>\n",
       "      <td>2014-01-01</td>\n",
       "      <td>#Dólar se vende dólar a 13.25 pesos en promedi...</td>\n",
       "      <td>NaN</td>\n",
       "      <td>NaN</td>\n",
       "    </tr>\n",
       "    <tr>\n",
       "      <th>3</th>\n",
       "      <td>elfinanciero_mx</td>\n",
       "      <td>2014-01-02</td>\n",
       "      <td>#Opinión: @adriantrejo platica cómo el goberna...</td>\n",
       "      <td>NaN</td>\n",
       "      <td>0.0</td>\n",
       "    </tr>\n",
       "    <tr>\n",
       "      <th>4</th>\n",
       "      <td>elfinanciero_mx</td>\n",
       "      <td>2014-01-03</td>\n",
       "      <td>#Opinión En LA DIVISA DEL PODER, @adriantrejo ...</td>\n",
       "      <td>-0.0</td>\n",
       "      <td>0.0</td>\n",
       "    </tr>\n",
       "  </tbody>\n",
       "</table>\n",
       "</div>"
      ],
      "text/plain": [
       "            source       time  \\\n",
       "0  elfinanciero_mx 2014-01-01   \n",
       "1  elfinanciero_mx 2014-01-01   \n",
       "2  elfinanciero_mx 2014-01-01   \n",
       "3  elfinanciero_mx 2014-01-02   \n",
       "4  elfinanciero_mx 2014-01-03   \n",
       "\n",
       "                                               tweet  ipc  sentiment  \n",
       "0  #Letonia adopta el euro, se convierte en el pa...  NaN        NaN  \n",
       "1  #Sitelopediste Peso con mejor desempeño en Lat...  NaN        NaN  \n",
       "2  #Dólar se vende dólar a 13.25 pesos en promedi...  NaN        NaN  \n",
       "3  #Opinión: @adriantrejo platica cómo el goberna...  NaN        0.0  \n",
       "4  #Opinión En LA DIVISA DEL PODER, @adriantrejo ... -0.0        0.0  "
      ]
     },
     "execution_count": 812,
     "metadata": {},
     "output_type": "execute_result"
    }
   ],
   "source": [
    "forex.drop(columns=[\"sentiment\"], inplace=True, errors=\"ignore\")\n",
    "#sentimiento basado en el porcentaje de cambio del ipc\n",
    "forex[\"ipc\"] = forex.join(ipc.set_index(\"date\"), on=\"time\", how=\"left\").deltaPct.round(0)\n",
    "#sentimiento basado en reglas\n",
    "forex[\"sentiment\"] = forex.join(ipc.set_index(\"date\"), on=\"time\", how=\"left\").sentiment\n",
    "forex.head(5)"
   ]
  },
  {
   "cell_type": "markdown",
   "metadata": {},
   "source": [
    "Como en el caso anterior, existen fechas en las cuales no opera la bolsa, pero sí existen tweets publicados; por lo que es conveniente aplicar dicho tweet al cierre de la jornada del siguiente día hábil para la bolsa. Se puede observar en la salida anterior, el caso de un 1 de Enero, donde la bolsa no laboró. Pero el 2 de enero sí, entonces, dicho tweet aplica para el 2 de Enero. \n",
    "\n",
    "Lo mismo aplica para tweets que son publicados en Sábado o Domingo, por lo que aplicamos el sentimiento del siguiente día hábil."
   ]
  },
  {
   "cell_type": "markdown",
   "metadata": {},
   "source": [
    "# _Revisar_"
   ]
  },
  {
   "cell_type": "code",
   "execution_count": 835,
   "metadata": {},
   "outputs": [
    {
     "data": {
      "text/html": [
       "<div>\n",
       "<style scoped>\n",
       "    .dataframe tbody tr th:only-of-type {\n",
       "        vertical-align: middle;\n",
       "    }\n",
       "\n",
       "    .dataframe tbody tr th {\n",
       "        vertical-align: top;\n",
       "    }\n",
       "\n",
       "    .dataframe thead th {\n",
       "        text-align: right;\n",
       "    }\n",
       "</style>\n",
       "<table border=\"1\" class=\"dataframe\">\n",
       "  <thead>\n",
       "    <tr style=\"text-align: right;\">\n",
       "      <th></th>\n",
       "      <th>source</th>\n",
       "      <th>time</th>\n",
       "      <th>tweet</th>\n",
       "      <th>ipc</th>\n",
       "      <th>sentiment</th>\n",
       "    </tr>\n",
       "  </thead>\n",
       "  <tbody>\n",
       "    <tr>\n",
       "      <th>3450</th>\n",
       "      <td>elfinanciero_mx</td>\n",
       "      <td>2019-03-22</td>\n",
       "      <td>Plazas europeas registran peor jornada desde f...</td>\n",
       "      <td>-2.0</td>\n",
       "      <td>-1.0</td>\n",
       "    </tr>\n",
       "    <tr>\n",
       "      <th>3451</th>\n",
       "      <td>elfinanciero_mx</td>\n",
       "      <td>2019-03-22</td>\n",
       "      <td>'Viernes negro' para el peso por temor a un me...</td>\n",
       "      <td>-2.0</td>\n",
       "      <td>-1.0</td>\n",
       "    </tr>\n",
       "    <tr>\n",
       "      <th>3452</th>\n",
       "      <td>eleconomista</td>\n",
       "      <td>2019-03-22</td>\n",
       "      <td>¿Qué le ha favorecido al peso este año? #ElEco...</td>\n",
       "      <td>-2.0</td>\n",
       "      <td>-1.0</td>\n",
       "    </tr>\n",
       "  </tbody>\n",
       "</table>\n",
       "</div>"
      ],
      "text/plain": [
       "               source       time  \\\n",
       "3450  elfinanciero_mx 2019-03-22   \n",
       "3451  elfinanciero_mx 2019-03-22   \n",
       "3452     eleconomista 2019-03-22   \n",
       "\n",
       "                                                  tweet  ipc  sentiment  \n",
       "3450  Plazas europeas registran peor jornada desde f... -2.0       -1.0  \n",
       "3451  'Viernes negro' para el peso por temor a un me... -2.0       -1.0  \n",
       "3452  ¿Qué le ha favorecido al peso este año? #ElEco... -2.0       -1.0  "
      ]
     },
     "execution_count": 835,
     "metadata": {},
     "output_type": "execute_result"
    }
   ],
   "source": [
    "# def tweet_adjust_df(df, columns=[\"sentiment\", \"ipc\"]):\n",
    "#     for col in columns:\n",
    "#         i = -1\n",
    "#         while np.any(df[col].isnull()):\n",
    "#             df[\"sent_lag\"] = df.shift(-1)[col]\n",
    "#             df.loc[df[col].isna(), col] = df.loc[df[col].isna(), \"sent_lag\"]\n",
    "#             i -= 1\n",
    "#             if i < -15:\n",
    "#                 break\n",
    "#         i = -1\n",
    "#         if np.any(df.iloc[-1].isna()):\n",
    "#             j = df.loc[df[col].isna()].index\n",
    "#             df.drop(j, axis=0, inplace=True)\n",
    "#     df.drop(columns=\"sent_lag\", inplace=True, errors=\"ignore\")\n",
    "#     return df\n",
    "forex = tweet_adjust_df(forex, [\"ipc\", \"sentiment\"]).copy()\n",
    "forex.tail(3)"
   ]
  },
  {
   "cell_type": "markdown",
   "metadata": {},
   "source": [
    "### Separación en conjunto de entrenamiento y pruebas\n",
    "\n",
    "Separamos nuestro data set, con semilla estática, para separa nuestro set en datos de entrenamiento y prueba de manera reproducible."
   ]
  },
  {
   "cell_type": "code",
   "execution_count": 836,
   "metadata": {},
   "outputs": [
    {
     "name": "stdout",
     "output_type": "stream",
     "text": [
      "Tamaño de conjuntos de datos:\n",
      "Entrenamiento: 2071 (59.976832%)\n",
      "Prueba: 1382 (40.023168%)\n"
     ]
    }
   ],
   "source": [
    "train3, test3 = train_test_split(forex, test_size=0.4, random_state=175904)\n",
    "train3.reset_index(drop=True,inplace=True)\n",
    "test3.reset_index(drop=True,inplace=True)\n",
    "train3 = train3.copy()\n",
    "test3 = test3.copy()\n",
    "print(\"Tamaño de conjuntos de datos:\\nEntrenamiento: %d (%f%%)\\nPrueba: %d (%f%%)\"%(\n",
    "    train3.shape[0], 100*train3.shape[0]/forex.shape[0], \n",
    "    test3.shape[0], 100*test3.shape[0]/forex.shape[0]))"
   ]
  },
  {
   "cell_type": "code",
   "execution_count": 837,
   "metadata": {},
   "outputs": [
    {
     "data": {
      "text/html": [
       "<div>\n",
       "<style scoped>\n",
       "    .dataframe tbody tr th:only-of-type {\n",
       "        vertical-align: middle;\n",
       "    }\n",
       "\n",
       "    .dataframe tbody tr th {\n",
       "        vertical-align: top;\n",
       "    }\n",
       "\n",
       "    .dataframe thead th {\n",
       "        text-align: right;\n",
       "    }\n",
       "</style>\n",
       "<table border=\"1\" class=\"dataframe\">\n",
       "  <thead>\n",
       "    <tr style=\"text-align: right;\">\n",
       "      <th></th>\n",
       "      <th>source</th>\n",
       "      <th>time</th>\n",
       "      <th>tweet</th>\n",
       "      <th>ipc</th>\n",
       "      <th>sentiment</th>\n",
       "      <th>sentiment_hat</th>\n",
       "      <th>ipc_hat</th>\n",
       "    </tr>\n",
       "  </thead>\n",
       "  <tbody>\n",
       "    <tr>\n",
       "      <th>0</th>\n",
       "      <td>elfinanciero_mx</td>\n",
       "      <td>2016-06-23</td>\n",
       "      <td>#Brexit Depreciación del peso de 6.68 %, la má...</td>\n",
       "      <td>1.0</td>\n",
       "      <td>1.0</td>\n",
       "      <td>1.0</td>\n",
       "      <td>1.0</td>\n",
       "    </tr>\n",
       "    <tr>\n",
       "      <th>1</th>\n",
       "      <td>elfinanciero_mx</td>\n",
       "      <td>2015-07-14</td>\n",
       "      <td>#EFMercados: Dólar rompe a la baja barrera psi...</td>\n",
       "      <td>0.0</td>\n",
       "      <td>0.0</td>\n",
       "      <td>0.0</td>\n",
       "      <td>0.0</td>\n",
       "    </tr>\n",
       "    <tr>\n",
       "      <th>2</th>\n",
       "      <td>elfinanciero_mx</td>\n",
       "      <td>2014-05-30</td>\n",
       "      <td>#Peso sube 1.75% ante el dólar en mayo, su mej...</td>\n",
       "      <td>-2.0</td>\n",
       "      <td>-1.0</td>\n",
       "      <td>0.0</td>\n",
       "      <td>0.0</td>\n",
       "    </tr>\n",
       "    <tr>\n",
       "      <th>3</th>\n",
       "      <td>elfinanciero_mx</td>\n",
       "      <td>2017-08-22</td>\n",
       "      <td>El petróleo, las materias primas agrícolas y e...</td>\n",
       "      <td>0.0</td>\n",
       "      <td>0.0</td>\n",
       "      <td>0.0</td>\n",
       "      <td>0.0</td>\n",
       "    </tr>\n",
       "    <tr>\n",
       "      <th>4</th>\n",
       "      <td>elfinanciero_mx</td>\n",
       "      <td>2014-05-19</td>\n",
       "      <td>#Peso regresa a su mejor momento en 5 meses fr...</td>\n",
       "      <td>-0.0</td>\n",
       "      <td>0.0</td>\n",
       "      <td>0.0</td>\n",
       "      <td>0.0</td>\n",
       "    </tr>\n",
       "  </tbody>\n",
       "</table>\n",
       "</div>"
      ],
      "text/plain": [
       "            source       time  \\\n",
       "0  elfinanciero_mx 2016-06-23   \n",
       "1  elfinanciero_mx 2015-07-14   \n",
       "2  elfinanciero_mx 2014-05-30   \n",
       "3  elfinanciero_mx 2017-08-22   \n",
       "4  elfinanciero_mx 2014-05-19   \n",
       "\n",
       "                                               tweet  ipc  sentiment  \\\n",
       "0  #Brexit Depreciación del peso de 6.68 %, la má...  1.0        1.0   \n",
       "1  #EFMercados: Dólar rompe a la baja barrera psi...  0.0        0.0   \n",
       "2  #Peso sube 1.75% ante el dólar en mayo, su mej... -2.0       -1.0   \n",
       "3  El petróleo, las materias primas agrícolas y e...  0.0        0.0   \n",
       "4  #Peso regresa a su mejor momento en 5 meses fr... -0.0        0.0   \n",
       "\n",
       "   sentiment_hat  ipc_hat  \n",
       "0            1.0      1.0  \n",
       "1            0.0      0.0  \n",
       "2            0.0      0.0  \n",
       "3            0.0      0.0  \n",
       "4            0.0      0.0  "
      ]
     },
     "execution_count": 837,
     "metadata": {},
     "output_type": "execute_result"
    }
   ],
   "source": [
    "pipe2 = Pipeline([\n",
    "    (\"token\", CountVectorizer(tokenizer=tokenize, stop_words=stop_words)),\n",
    "    (\"tfid\", TfidfTransformer()),\n",
    "    (\"clf\", MultinomialNB(alpha=1.0))\n",
    "])\n",
    "pipe2m0 = pipe2.fit(train3.tweet, train3.sentiment)\n",
    "pipe2m1 = pipe2.fit(train3.tweet, train3.ipc)\n",
    "train3[\"sentiment_hat\"] = pipe2m0.predict(train3.tweet)\n",
    "train3[\"ipc_hat\"] = pipe2m1.predict(train3.tweet)\n",
    "train3.head()"
   ]
  },
  {
   "cell_type": "markdown",
   "metadata": {},
   "source": [
    "### Métricas para Modelo basado en Sentimiento\n",
    "\n",
    "Basamos nuestro modelo en 2 sentimientos: que sube (+1), neutro (0) y que baja (-1)"
   ]
  },
  {
   "cell_type": "code",
   "execution_count": 839,
   "metadata": {},
   "outputs": [
    {
     "name": "stdout",
     "output_type": "stream",
     "text": [
      "             precision    recall  f1-score   support\n",
      "\n",
      "       -1.0       0.33      0.01      0.01       373\n",
      "        0.0       0.46      0.98      0.63       634\n",
      "        1.0       0.39      0.03      0.05       375\n",
      "\n",
      "avg / total       0.41      0.46      0.31      1382\n",
      "\n"
     ]
    }
   ],
   "source": [
    "test3[\"sentiment_hat\"] = pipe1m0.predict(test3.tweet)\n",
    "print(classification_report(test3.sentiment, test3.sentiment_hat))"
   ]
  },
  {
   "cell_type": "markdown",
   "metadata": {},
   "source": [
    "### Métricas para Modelo Basado en el IPC"
   ]
  },
  {
   "cell_type": "code",
   "execution_count": 842,
   "metadata": {},
   "outputs": [
    {
     "name": "stdout",
     "output_type": "stream",
     "text": [
      "             precision    recall  f1-score   support\n",
      "\n",
      "       -6.0       0.00      0.00      0.00         1\n",
      "       -5.0       0.00      0.00      0.00         3\n",
      "       -4.0       0.00      0.00      0.00         2\n",
      "       -3.0       0.00      0.00      0.00        17\n",
      "       -2.0       0.00      0.00      0.00        65\n",
      "       -1.0       0.33      0.01      0.01       285\n",
      "        0.0       0.46      0.98      0.63       634\n",
      "        1.0       0.36      0.03      0.06       326\n",
      "        2.0       0.00      0.00      0.00        38\n",
      "        3.0       0.00      0.00      0.00        11\n",
      "\n",
      "avg / total       0.36      0.46      0.30      1382\n",
      "\n"
     ]
    },
    {
     "name": "stderr",
     "output_type": "stream",
     "text": [
      "/opt/intel/intelpython3/lib/python3.6/site-packages/sklearn/metrics/classification.py:1135: UndefinedMetricWarning: Precision and F-score are ill-defined and being set to 0.0 in labels with no predicted samples.\n",
      "  'precision', 'predicted', average, warn_for)\n"
     ]
    }
   ],
   "source": [
    "test3[\"ipc_hat\"] = pipe1m1.predict(test3.tweet)\n",
    "print(classification_report(test3.ipc, test3.ipc_hat))"
   ]
  }
 ],
 "metadata": {
  "kernelspec": {
   "display_name": "Python 3",
   "language": "python",
   "name": "python3"
  },
  "language_info": {
   "codemirror_mode": {
    "name": "ipython",
    "version": 3
   },
   "file_extension": ".py",
   "mimetype": "text/x-python",
   "name": "python",
   "nbconvert_exporter": "python",
   "pygments_lexer": "ipython3",
   "version": "3.6.3"
  }
 },
 "nbformat": 4,
 "nbformat_minor": 2
}
