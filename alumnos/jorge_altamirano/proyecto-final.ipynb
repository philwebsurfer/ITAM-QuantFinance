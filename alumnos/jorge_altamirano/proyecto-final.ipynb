{
 "cells": [
  {
   "cell_type": "markdown",
   "metadata": {},
   "source": [
    "# Proyecto Final\n",
    "\n",
    "_Jorge III Altamirano Astorga - 175904_"
   ]
  },
  {
   "cell_type": "code",
   "execution_count": 338,
   "metadata": {},
   "outputs": [],
   "source": [
    "from bs4 import BeautifulSoup\n",
    "import bs4 as bs4\n",
    "import requests\n",
    "import sys\n",
    "from dateutil import parser #esta lib es más útil que la de Python para interpretar fechas parciales, como las de Twitter\n",
    "import re\n",
    "import pandas as pd\n",
    "import nltk\n",
    "from nltk.corpus import stopwords\n",
    "from nltk.classify import SklearnClassifier\n",
    "from string import punctuation\n",
    "from sklearn.model_selection  import train_test_split\n",
    "from sklearn.feature_extraction.text import CountVectorizer\n",
    "import numpy as np\n",
    "import matplotlib.pyplot as plt"
   ]
  },
  {
   "cell_type": "markdown",
   "metadata": {},
   "source": [
    "## BMV IPC"
   ]
  },
  {
   "cell_type": "code",
   "execution_count": 149,
   "metadata": {},
   "outputs": [
    {
     "data": {
      "text/plain": [
       "date        datetime64[ns]\n",
       "close              float64\n",
       "volume             float64\n",
       "deltaPct           float64\n",
       "dtype: object"
      ]
     },
     "execution_count": 149,
     "metadata": {},
     "output_type": "execute_result"
    }
   ],
   "source": [
    "ipc = pd.read_csv(\"bmv_ipc.csv\", sep=',')\n",
    "ipc.Date = pd.to_datetime(ipc.Date)\n",
    "#quitamos columnas menos relevantes para nuestro análisis\n",
    "ipc = ipc.drop([\"Open\", \"High\", \"Low\", \"Close\"], axis=1)\n",
    "#quito espacios\n",
    "ipc = ipc.rename({\"Adj Close\": \"close\", \"Volume\": \"volume\", \"Date\": \"date\"}, axis=\"columns\")\n",
    "#sacamos la diferencia porcentual del cierre del día anterior\n",
    "ipc[\"deltaPct\"] = 100 * (1 - ipc[\"close\"].shift(1) / ipc[\"close\"])\n",
    "ipc.dtypes"
   ]
  },
  {
   "cell_type": "code",
   "execution_count": 150,
   "metadata": {},
   "outputs": [
    {
     "data": {
      "text/html": [
       "<div>\n",
       "<style scoped>\n",
       "    .dataframe tbody tr th:only-of-type {\n",
       "        vertical-align: middle;\n",
       "    }\n",
       "\n",
       "    .dataframe tbody tr th {\n",
       "        vertical-align: top;\n",
       "    }\n",
       "\n",
       "    .dataframe thead th {\n",
       "        text-align: right;\n",
       "    }\n",
       "</style>\n",
       "<table border=\"1\" class=\"dataframe\">\n",
       "  <thead>\n",
       "    <tr style=\"text-align: right;\">\n",
       "      <th></th>\n",
       "      <th>close</th>\n",
       "      <th>volume</th>\n",
       "      <th>deltaPct</th>\n",
       "    </tr>\n",
       "  </thead>\n",
       "  <tbody>\n",
       "    <tr>\n",
       "      <th>count</th>\n",
       "      <td>1801.000000</td>\n",
       "      <td>1.801000e+03</td>\n",
       "      <td>1799.000000</td>\n",
       "    </tr>\n",
       "    <tr>\n",
       "      <th>mean</th>\n",
       "      <td>44267.486607</td>\n",
       "      <td>1.995833e+08</td>\n",
       "      <td>0.002294</td>\n",
       "    </tr>\n",
       "    <tr>\n",
       "      <th>std</th>\n",
       "      <td>3480.070698</td>\n",
       "      <td>9.779755e+07</td>\n",
       "      <td>0.858639</td>\n",
       "    </tr>\n",
       "    <tr>\n",
       "      <th>min</th>\n",
       "      <td>36548.558594</td>\n",
       "      <td>0.000000e+00</td>\n",
       "      <td>-6.171380</td>\n",
       "    </tr>\n",
       "    <tr>\n",
       "      <th>25%</th>\n",
       "      <td>41691.191406</td>\n",
       "      <td>1.496039e+08</td>\n",
       "      <td>-0.460797</td>\n",
       "    </tr>\n",
       "    <tr>\n",
       "      <th>50%</th>\n",
       "      <td>44209.421875</td>\n",
       "      <td>1.830149e+08</td>\n",
       "      <td>0.022623</td>\n",
       "    </tr>\n",
       "    <tr>\n",
       "      <th>75%</th>\n",
       "      <td>47009.511719</td>\n",
       "      <td>2.303386e+08</td>\n",
       "      <td>0.519613</td>\n",
       "    </tr>\n",
       "    <tr>\n",
       "      <th>max</th>\n",
       "      <td>51713.378906</td>\n",
       "      <td>1.759968e+09</td>\n",
       "      <td>3.463701</td>\n",
       "    </tr>\n",
       "  </tbody>\n",
       "</table>\n",
       "</div>"
      ],
      "text/plain": [
       "              close        volume     deltaPct\n",
       "count   1801.000000  1.801000e+03  1799.000000\n",
       "mean   44267.486607  1.995833e+08     0.002294\n",
       "std     3480.070698  9.779755e+07     0.858639\n",
       "min    36548.558594  0.000000e+00    -6.171380\n",
       "25%    41691.191406  1.496039e+08    -0.460797\n",
       "50%    44209.421875  1.830149e+08     0.022623\n",
       "75%    47009.511719  2.303386e+08     0.519613\n",
       "max    51713.378906  1.759968e+09     3.463701"
      ]
     },
     "execution_count": 150,
     "metadata": {},
     "output_type": "execute_result"
    }
   ],
   "source": [
    "ipc.describe()"
   ]
  },
  {
   "cell_type": "markdown",
   "metadata": {},
   "source": [
    "### Comportamiento del IPC"
   ]
  },
  {
   "cell_type": "code",
   "execution_count": 153,
   "metadata": {},
   "outputs": [
    {
     "data": {
      "image/png": "[encoded data removed]",
      "text/plain": [
       "<Figure size 1152x648 with 1 Axes>"
      ]
     },
     "metadata": {},
     "output_type": "display_data"
    }
   ],
   "source": [
    "%matplotlib inline\n",
    "\n",
    "# Plot everything by leveraging the very powerful matplotlib package\n",
    "fig, ax = plt.subplots(figsize=(16,9))\n",
    "\n",
    "ax.plot(ipc.date, ipc.close, label='IPC')\n",
    "# ax.plot(short_rolling_msft.index, short_rolling_msft, label='20 days rolling')\n",
    "# ax.plot(long_rolling_msft.index, long_rolling_msft, label='100 days rolling')\n",
    "\n",
    "ax.set_xlabel('date')\n",
    "ax.set_ylabel('Adjusted closing price ($)')\n",
    "ax.legend()\n",
    "plt.show()"
   ]
  },
  {
   "cell_type": "markdown",
   "metadata": {},
   "source": [
    "### Densidad\n",
    "\n",
    "Hicimos una función _lag_ con el fin de comporar el cierre de una fecha con la del día anterior, esto de manera porcentual tienen una distribución la cual se observa como sigue."
   ]
  },
  {
   "cell_type": "code",
   "execution_count": 154,
   "metadata": {},
   "outputs": [
    {
     "data": {
      "text/plain": [
       "<matplotlib.axes._subplots.AxesSubplot at 0x7f018531b7f0>"
      ]
     },
     "execution_count": 154,
     "metadata": {},
     "output_type": "execute_result"
    },
    {
     "data": {
      "image/png": "[encoded data removed]",
      "text/plain": [
       "<Figure size 432x288 with 1 Axes>"
      ]
     },
     "metadata": {},
     "output_type": "display_data"
    }
   ],
   "source": [
    "%matplotlib inline\n",
    "ipc[\"deltaPct\"].plot(kind=\"density\")"
   ]
  },
  {
   "cell_type": "code",
   "execution_count": 156,
   "metadata": {},
   "outputs": [
    {
     "data": {
      "text/plain": [
       "<matplotlib.axes._subplots.AxesSubplot at 0x7f01809eb080>"
      ]
     },
     "execution_count": 156,
     "metadata": {},
     "output_type": "execute_result"
    },
    {
     "data": {
      "image/png": "[encoded data removed]",
      "text/plain": [
       "<Figure size 432x288 with 1 Axes>"
      ]
     },
     "metadata": {},
     "output_type": "display_data"
    }
   ],
   "source": [
    "ipc.loc[(ipc.deltaPct >= -1.0) & (ipc.deltaPct <= 1.0), \"deltaPct\"].plot(kind=\"density\")"
   ]
  },
  {
   "cell_type": "markdown",
   "metadata": {},
   "source": [
    "Para nuestro análisis de sentimiento y su aprendizaje,\n",
    "tendremos 3 sentimientos:\n",
    "    * Negativo (-1): cuando el cambio en el IPC de la BMV sea menor o igual a -0.5% respecto al cierre del día anterior\n",
    "    * Neutral (0): cuando el cambio en el IPC de la BMV sea mayor a -0.5% y menor a +0.5% respecto al cierre del día anterior\n",
    "    * Positivo (+1): cuando el cambio en el IPC de la BMV sea mayor o igual a +0.5%\n",
    "    \n",
    "Estos números lo tomamos de la distribución de los datos, en los cuales el 25% \n",
    "\n",
    "**Nota:** crearemos una columna, la cual tendrá el posible análisis de sentimiento, el cual posteriormente aplicaremos el modelo de Lenguaje Natural, para intentar extraer el sentimiento basado en el comportamiento del día anterior y los tweets que mencionen palabras clave relacionados con la BMV."
   ]
  },
  {
   "cell_type": "code",
   "execution_count": 183,
   "metadata": {},
   "outputs": [
    {
     "data": {
      "text/html": [
       "<div>\n",
       "<style scoped>\n",
       "    .dataframe tbody tr th:only-of-type {\n",
       "        vertical-align: middle;\n",
       "    }\n",
       "\n",
       "    .dataframe tbody tr th {\n",
       "        vertical-align: top;\n",
       "    }\n",
       "\n",
       "    .dataframe thead th {\n",
       "        text-align: right;\n",
       "    }\n",
       "</style>\n",
       "<table border=\"1\" class=\"dataframe\">\n",
       "  <thead>\n",
       "    <tr style=\"text-align: right;\">\n",
       "      <th></th>\n",
       "      <th>date</th>\n",
       "      <th>close</th>\n",
       "      <th>volume</th>\n",
       "      <th>deltaPct</th>\n",
       "      <th>sentiment</th>\n",
       "    </tr>\n",
       "  </thead>\n",
       "  <tbody>\n",
       "    <tr>\n",
       "      <th>0</th>\n",
       "      <td>2012-01-02</td>\n",
       "      <td>37335.031250</td>\n",
       "      <td>17919600.0</td>\n",
       "      <td>NaN</td>\n",
       "      <td>0.0</td>\n",
       "    </tr>\n",
       "    <tr>\n",
       "      <th>1</th>\n",
       "      <td>2012-01-03</td>\n",
       "      <td>37384.339844</td>\n",
       "      <td>140639000.0</td>\n",
       "      <td>0.131896</td>\n",
       "      <td>0.0</td>\n",
       "    </tr>\n",
       "    <tr>\n",
       "      <th>2</th>\n",
       "      <td>2012-01-04</td>\n",
       "      <td>37387.628906</td>\n",
       "      <td>150435200.0</td>\n",
       "      <td>0.008797</td>\n",
       "      <td>0.0</td>\n",
       "    </tr>\n",
       "    <tr>\n",
       "      <th>3</th>\n",
       "      <td>2012-01-05</td>\n",
       "      <td>37017.949219</td>\n",
       "      <td>187662600.0</td>\n",
       "      <td>-0.998650</td>\n",
       "      <td>-1.0</td>\n",
       "    </tr>\n",
       "    <tr>\n",
       "      <th>4</th>\n",
       "      <td>2012-01-09</td>\n",
       "      <td>36785.339844</td>\n",
       "      <td>150829600.0</td>\n",
       "      <td>-0.632343</td>\n",
       "      <td>-1.0</td>\n",
       "    </tr>\n",
       "  </tbody>\n",
       "</table>\n",
       "</div>"
      ],
      "text/plain": [
       "        date         close       volume  deltaPct  sentiment\n",
       "0 2012-01-02  37335.031250   17919600.0       NaN        0.0\n",
       "1 2012-01-03  37384.339844  140639000.0  0.131896        0.0\n",
       "2 2012-01-04  37387.628906  150435200.0  0.008797        0.0\n",
       "3 2012-01-05  37017.949219  187662600.0 -0.998650       -1.0\n",
       "4 2012-01-09  36785.339844  150829600.0 -0.632343       -1.0"
      ]
     },
     "execution_count": 183,
     "metadata": {},
     "output_type": "execute_result"
    }
   ],
   "source": [
    "ipc.loc[ipc.deltaPct <= -0.5, \"sentiment\"] = -1\n",
    "ipc.loc[ipc.deltaPct >= +0.5, \"sentiment\"] = 1\n",
    "ipc.loc[ipc.sentiment.isna(), \"sentiment\"] = 0\n",
    "ipc.head()"
   ]
  },
  {
   "cell_type": "markdown",
   "metadata": {},
   "source": [
    "## Sentiment Analysis\n",
    "\n",
    "### Extracción y Obtención de Tweets"
   ]
  },
  {
   "cell_type": "code",
   "execution_count": 2,
   "metadata": {},
   "outputs": [],
   "source": [
    "def extract_tweets(soup, file, i, year):\n",
    "    tweets = soup.find_all(\"table\", attrs={\"class\": \"tweet\"})\n",
    "    # soup.find_all(\"div\", attrs={\"class\": \"tweet-text\"})\n",
    "    # tweet = tweets[0]\n",
    "    for tweet in tweets:\n",
    "        tweet_text = tweet.find_all('div', attrs={'class': 'tweet-text'})\n",
    "        tweet_date = tweet.find_all(\"td\", attrs={'class': 'timestamp'})\n",
    "        for text in tweet_text:\n",
    "            if type(text) == bs4.element.Tag:\n",
    "                txt = re.sub(\"(eleconomista\\.com\\.mx|pic\\.twitter\\.com|bit\\.ly|bitly\\.com)/[^ ]*\", \" \", text.text).strip()\n",
    "                txt = re.sub(\"(\\||\\n)\", \" \", txt)\n",
    "                file.write(txt + \"|\")\n",
    "        for date in tweet_date:\n",
    "            if type(date) == bs4.element.Tag:\n",
    "                date = date.text.strip() \n",
    "                date = re.sub(year[-2:] + \"$\", \"\", date)\n",
    "                file.write(str(parser.parse(date + \" \" + year) )  + \"|%s\"%i + \"\\n\")\n",
    "                \n",
    "# get_tweets(year=\"2019\", filename=\"bmv.eleconomista\")"
   ]
  },
  {
   "cell_type": "code",
   "execution_count": 3,
   "metadata": {},
   "outputs": [],
   "source": [
    "def get_tweets(query=\"bolsa OR IPC OR BMV\", newspaper=\"elfinanciero_mx\", year=\"2018\", filename=\"file\"):\n",
    "    q = 'https://mobile.twitter.com/search?q=' + query + \\\n",
    "          '%20from%3A' + newspaper + \\\n",
    "          '%20since%3A'+year+'-01-01%20until%3A'+year+'-12-31&src=typd&lang=en'\n",
    "\n",
    "    with open(\"%s.%s.csv\"%(filename,year), \"wt\") as file:\n",
    "        i = 0\n",
    "        q = 'https://mobile.twitter.com/search?q=' + query + \\\n",
    "        '%20from%3A' + newspaper + '%20since%3A' + year + \\\n",
    "        '-01-01%20until%3A' + year +'-12-31&src=typd&lang=en'\n",
    "        file.write(\"tweet|time|page\\n\") #header\n",
    "        while(True): #loop para extraer todas las páginas \n",
    "            print(\"  Downloading page %d...\"%(i+1))\n",
    "            try:\n",
    "                response = requests.get(q)\n",
    "            except:\n",
    "                raise Exception(\"Error al obtener página de resultados.\")\n",
    "            if response.status_code != 200:\n",
    "                raise Exception(\"Error (!= 200) al obtener página de resultados.\")\n",
    "            soup = BeautifulSoup(response.text, 'lxml') #abre la primera página de búsqueda de twitter\n",
    "            extract_tweets(soup, file, i, year)\n",
    "\n",
    "            #with open(\"%s_%d.html\"%(query,i), 'w') as html:\n",
    "            #    html.write(response.text)\n",
    "\n",
    "            nx = soup.find(\"a\", text=\" Load older Tweets \")\n",
    "            if nx != None and nx.has_attr('href'):\n",
    "                q = \"https://mobile.twitter.com\" + nx.get_attribute_list('href')[0]\n",
    "            else:\n",
    "                break\n",
    "            i += 1\n",
    "    print(\"  Done!\")"
   ]
  },
  {
   "cell_type": "code",
   "execution_count": 4,
   "metadata": {},
   "outputs": [
    {
     "name": "stdout",
     "output_type": "stream",
     "text": [
      "Downloading year 2014 from @elfinanciero_mx\n",
      "  Downloading page 1...\n",
      "  Downloading page 2...\n",
      "  Downloading page 3...\n",
      "  Downloading page 4...\n",
      "  Downloading page 5...\n",
      "  Downloading page 6...\n",
      "  Downloading page 7...\n",
      "  Downloading page 8...\n",
      "  Downloading page 9...\n",
      "  Downloading page 10...\n",
      "  Downloading page 11...\n",
      "  Downloading page 12...\n",
      "  Downloading page 13...\n",
      "  Downloading page 14...\n",
      "  Downloading page 15...\n",
      "  Downloading page 16...\n",
      "  Downloading page 17...\n",
      "  Downloading page 18...\n",
      "  Downloading page 19...\n",
      "  Downloading page 20...\n",
      "  Downloading page 21...\n",
      "  Downloading page 22...\n",
      "  Downloading page 23...\n",
      "  Done!\n",
      "Downloading year 2014 from @eleconomista\n",
      "  Downloading page 1...\n",
      "  Downloading page 2...\n",
      "  Downloading page 3...\n",
      "  Downloading page 4...\n",
      "  Done!\n",
      "Downloading year 2015 from @elfinanciero_mx\n",
      "  Downloading page 1...\n",
      "  Downloading page 2...\n",
      "  Downloading page 3...\n",
      "  Downloading page 4...\n",
      "  Downloading page 5...\n",
      "  Downloading page 6...\n",
      "  Downloading page 7...\n",
      "  Downloading page 8...\n",
      "  Downloading page 9...\n",
      "  Downloading page 10...\n",
      "  Downloading page 11...\n",
      "  Downloading page 12...\n",
      "  Downloading page 13...\n",
      "  Downloading page 14...\n",
      "  Downloading page 15...\n",
      "  Downloading page 16...\n",
      "  Downloading page 17...\n",
      "  Downloading page 18...\n",
      "  Downloading page 19...\n",
      "  Downloading page 20...\n",
      "  Downloading page 21...\n",
      "  Downloading page 22...\n",
      "  Downloading page 23...\n",
      "  Done!\n",
      "Downloading year 2015 from @eleconomista\n",
      "  Downloading page 1...\n",
      "  Downloading page 2...\n",
      "  Downloading page 3...\n",
      "  Downloading page 4...\n",
      "  Downloading page 5...\n",
      "  Downloading page 6...\n",
      "  Downloading page 7...\n",
      "  Done!\n",
      "Downloading year 2016 from @elfinanciero_mx\n",
      "  Downloading page 1...\n",
      "  Downloading page 2...\n",
      "  Downloading page 3...\n",
      "  Downloading page 4...\n",
      "  Downloading page 5...\n",
      "  Downloading page 6...\n",
      "  Downloading page 7...\n",
      "  Downloading page 8...\n",
      "  Downloading page 9...\n",
      "  Downloading page 10...\n",
      "  Downloading page 11...\n",
      "  Downloading page 12...\n",
      "  Downloading page 13...\n",
      "  Downloading page 14...\n",
      "  Downloading page 15...\n",
      "  Downloading page 16...\n",
      "  Downloading page 17...\n",
      "  Downloading page 18...\n",
      "  Downloading page 19...\n",
      "  Done!\n",
      "Downloading year 2016 from @eleconomista\n",
      "  Downloading page 1...\n",
      "  Downloading page 2...\n",
      "  Downloading page 3...\n",
      "  Downloading page 4...\n",
      "  Downloading page 5...\n",
      "  Downloading page 6...\n",
      "  Downloading page 7...\n",
      "  Downloading page 8...\n",
      "  Downloading page 9...\n",
      "  Done!\n"
     ]
    }
   ],
   "source": [
    "for yr in [\"2014\", \"2015\", \"2016\"]:\n",
    "    for source in [\"elfinanciero_mx\", \"eleconomista\"]:\n",
    "        print(\"Downloading year %s from @%s\"%(yr,source))\n",
    "        get_tweets(query=\"bolsa OR IPC OR BMV\", newspaper=source, year=yr, filename=\"bmv.%s\"%source)"
   ]
  },
  {
   "cell_type": "markdown",
   "metadata": {},
   "source": [
    "### Limpiar columnas"
   ]
  },
  {
   "cell_type": "code",
   "execution_count": 319,
   "metadata": {},
   "outputs": [
    {
     "data": {
      "text/plain": [
       "source            object\n",
       "time      datetime64[ns]\n",
       "tweet             object\n",
       "dtype: object"
      ]
     },
     "execution_count": 319,
     "metadata": {},
     "output_type": "execute_result"
    }
   ],
   "source": [
    "df = pd.read_csv(\"bmv.elfinanciero_mx.2014.csv\", sep=\"|\")\n",
    "df = df.append(pd.read_csv(\"bmv.elfinanciero_mx.2015.csv\", sep=\"|\"))\n",
    "df = df.append(pd.read_csv(\"bmv.elfinanciero_mx.2016.csv\", sep=\"|\"))\n",
    "df = df.append(pd.read_csv(\"bmv.elfinanciero_mx.2017.csv\", sep=\"|\"))\n",
    "df = df.append(pd.read_csv(\"bmv.elfinanciero_mx.2018.csv\", sep=\"|\"))\n",
    "df = df.append(pd.read_csv(\"bmv.elfinanciero_mx.2019.csv\", sep=\"|\"))\n",
    "df[\"source\"] = \"elfinanciero_mx\"\n",
    "df = df.append(pd.read_csv(\"bmv.eleconomista.2014.csv\", sep=\"|\"))\n",
    "df = df.append(pd.read_csv(\"bmv.eleconomista.2015.csv\", sep=\"|\"))\n",
    "df = df.append(pd.read_csv(\"bmv.eleconomista.2016.csv\", sep=\"|\"))\n",
    "df = df.append(pd.read_csv(\"bmv.eleconomista.2017.csv\", sep=\"|\"))\n",
    "df = df.append(pd.read_csv(\"bmv.eleconomista.2018.csv\", sep=\"|\"))\n",
    "df = df.append(pd.read_csv(\"bmv.eleconomista.2019.csv\", sep=\"|\"))\n",
    "df[\"source\"] = np.where(pd.isna(df[\"source\"]), \"eleconomista\", df.source)\n",
    "df.time = pd.to_datetime(df.time)\n",
    "df.tweet = df.tweet.astype(\"str\")\n",
    "df.source = df.source.astype(\"str\")\n",
    "df = df.drop(columns=[\"page\"])\n",
    "df.dtypes"
   ]
  },
  {
   "cell_type": "code",
   "execution_count": 320,
   "metadata": {},
   "outputs": [
    {
     "data": {
      "text/html": [
       "<div>\n",
       "<style scoped>\n",
       "    .dataframe tbody tr th:only-of-type {\n",
       "        vertical-align: middle;\n",
       "    }\n",
       "\n",
       "    .dataframe tbody tr th {\n",
       "        vertical-align: top;\n",
       "    }\n",
       "\n",
       "    .dataframe thead th {\n",
       "        text-align: right;\n",
       "    }\n",
       "</style>\n",
       "<table border=\"1\" class=\"dataframe\">\n",
       "  <thead>\n",
       "    <tr style=\"text-align: right;\">\n",
       "      <th></th>\n",
       "      <th>source</th>\n",
       "      <th>time</th>\n",
       "      <th>tweet</th>\n",
       "    </tr>\n",
       "  </thead>\n",
       "  <tbody>\n",
       "    <tr>\n",
       "      <th>2346</th>\n",
       "      <td>eleconomista</td>\n",
       "      <td>2019-03-14</td>\n",
       "      <td>Por ser día feriado, el próximo lunes 18 de ma...</td>\n",
       "    </tr>\n",
       "    <tr>\n",
       "      <th>2347</th>\n",
       "      <td>eleconomista</td>\n",
       "      <td>2019-03-14</td>\n",
       "      <td>El índice referencia S&amp;P/BMV IPC retrocedió -0...</td>\n",
       "    </tr>\n",
       "    <tr>\n",
       "      <th>2348</th>\n",
       "      <td>eleconomista</td>\n",
       "      <td>2019-03-14</td>\n",
       "      <td>Uber Technologies Inc planea lanzar su oferta ...</td>\n",
       "    </tr>\n",
       "    <tr>\n",
       "      <th>2349</th>\n",
       "      <td>eleconomista</td>\n",
       "      <td>2019-03-15</td>\n",
       "      <td>#Volaris es la emisora con mayor rendimiento e...</td>\n",
       "    </tr>\n",
       "    <tr>\n",
       "      <th>2350</th>\n",
       "      <td>elfinanciero_mx</td>\n",
       "      <td>2019-03-15</td>\n",
       "      <td>#PorSiNoLoViste @Uber le 'pisa los talones' a ...</td>\n",
       "    </tr>\n",
       "  </tbody>\n",
       "</table>\n",
       "</div>"
      ],
      "text/plain": [
       "               source       time  \\\n",
       "2346     eleconomista 2019-03-14   \n",
       "2347     eleconomista 2019-03-14   \n",
       "2348     eleconomista 2019-03-14   \n",
       "2349     eleconomista 2019-03-15   \n",
       "2350  elfinanciero_mx 2019-03-15   \n",
       "\n",
       "                                                  tweet  \n",
       "2346  Por ser día feriado, el próximo lunes 18 de ma...  \n",
       "2347  El índice referencia S&P/BMV IPC retrocedió -0...  \n",
       "2348  Uber Technologies Inc planea lanzar su oferta ...  \n",
       "2349  #Volaris es la emisora con mayor rendimiento e...  \n",
       "2350  #PorSiNoLoViste @Uber le 'pisa los talones' a ...  "
      ]
     },
     "execution_count": 320,
     "metadata": {},
     "output_type": "execute_result"
    }
   ],
   "source": [
    "#ordenar columnas \n",
    "df = df.sort_values(by=[\"time\"])\n",
    "#reindizar\n",
    "df.index = range(0, df.shape[0])\n",
    "# print(df.head(5))\n",
    "(df.tail(5))"
   ]
  },
  {
   "cell_type": "code",
   "execution_count": 321,
   "metadata": {},
   "outputs": [
    {
     "data": {
      "text/plain": [
       "(2351, 3)"
      ]
     },
     "execution_count": 321,
     "metadata": {},
     "output_type": "execute_result"
    }
   ],
   "source": [
    "df.to_csv(\"tweets.csv.xz\", compression=\"xz\", index=False)\n",
    "df.shape"
   ]
  },
  {
   "cell_type": "markdown",
   "metadata": {},
   "source": [
    "## NLP"
   ]
  },
  {
   "cell_type": "markdown",
   "metadata": {},
   "source": [
    "De manera experimental realizaremos un entrenamiento con el sentimiento que obtuvimos en el paso anterior (IPC), y lo asignaremos a los valores de la misma fecha del tweet."
   ]
  },
  {
   "cell_type": "code",
   "execution_count": 324,
   "metadata": {},
   "outputs": [
    {
     "data": {
      "text/html": [
       "<div>\n",
       "<style scoped>\n",
       "    .dataframe tbody tr th:only-of-type {\n",
       "        vertical-align: middle;\n",
       "    }\n",
       "\n",
       "    .dataframe tbody tr th {\n",
       "        vertical-align: top;\n",
       "    }\n",
       "\n",
       "    .dataframe thead th {\n",
       "        text-align: right;\n",
       "    }\n",
       "</style>\n",
       "<table border=\"1\" class=\"dataframe\">\n",
       "  <thead>\n",
       "    <tr style=\"text-align: right;\">\n",
       "      <th></th>\n",
       "      <th>source</th>\n",
       "      <th>time</th>\n",
       "      <th>tweet</th>\n",
       "      <th>sentiment</th>\n",
       "    </tr>\n",
       "  </thead>\n",
       "  <tbody>\n",
       "    <tr>\n",
       "      <th>0</th>\n",
       "      <td>elfinanciero_mx</td>\n",
       "      <td>2014-01-01</td>\n",
       "      <td>#BMV superaría los 46 mil puntos en 2014: Accival</td>\n",
       "      <td>NaN</td>\n",
       "    </tr>\n",
       "    <tr>\n",
       "      <th>1</th>\n",
       "      <td>elfinanciero_mx</td>\n",
       "      <td>2014-01-02</td>\n",
       "      <td>GRÁFICA. ¿Quiénes ganaron y quiénes perdieron ...</td>\n",
       "      <td>-1.0</td>\n",
       "    </tr>\n",
       "    <tr>\n",
       "      <th>2</th>\n",
       "      <td>elfinanciero_mx</td>\n",
       "      <td>2014-01-02</td>\n",
       "      <td>#Mercados #BMV cae 1.12% por toma de utilidade...</td>\n",
       "      <td>-1.0</td>\n",
       "    </tr>\n",
       "    <tr>\n",
       "      <th>3</th>\n",
       "      <td>elfinanciero_mx</td>\n",
       "      <td>2014-01-02</td>\n",
       "      <td>#Mercados #BMV avanza 0.22% en primer sesión d...</td>\n",
       "      <td>-1.0</td>\n",
       "    </tr>\n",
       "    <tr>\n",
       "      <th>4</th>\n",
       "      <td>elfinanciero_mx</td>\n",
       "      <td>2014-01-02</td>\n",
       "      <td>10 ganadoras y 10 perdedoras en la #BMV durant...</td>\n",
       "      <td>-1.0</td>\n",
       "    </tr>\n",
       "  </tbody>\n",
       "</table>\n",
       "</div>"
      ],
      "text/plain": [
       "            source       time  \\\n",
       "0  elfinanciero_mx 2014-01-01   \n",
       "1  elfinanciero_mx 2014-01-02   \n",
       "2  elfinanciero_mx 2014-01-02   \n",
       "3  elfinanciero_mx 2014-01-02   \n",
       "4  elfinanciero_mx 2014-01-02   \n",
       "\n",
       "                                               tweet  sentiment  \n",
       "0  #BMV superaría los 46 mil puntos en 2014: Accival        NaN  \n",
       "1  GRÁFICA. ¿Quiénes ganaron y quiénes perdieron ...       -1.0  \n",
       "2  #Mercados #BMV cae 1.12% por toma de utilidade...       -1.0  \n",
       "3  #Mercados #BMV avanza 0.22% en primer sesión d...       -1.0  \n",
       "4  10 ganadoras y 10 perdedoras en la #BMV durant...       -1.0  "
      ]
     },
     "execution_count": 324,
     "metadata": {},
     "output_type": "execute_result"
    }
   ],
   "source": [
    "df.drop(columns=[\"sentiment\"], inplace=True, errors=\"ignore\")\n",
    "df[\"sentiment\"] = df.join(ipc.set_index(\"date\"), on=\"time\", how=\"left\").sentiment\n",
    "df.head()"
   ]
  },
  {
   "cell_type": "markdown",
   "metadata": {},
   "source": [
    "Existen fechas en las cuales no opera la bolsa, pero sí existen tweets publicados; por lo que es conveniente aplicar dicho tweet al cierre de la jornada del siguiente día hábil para la bolsa. Se puede observar en la salida anterior, el caso de un 1 de Enero, donde la bolsa no laboró. Pero el 2 de enero sí, entonces, dicho tweet aplica para el 2 de Enero. \n",
    "\n",
    "Lo mismo aplica para tweets que son publicados en Sábado o Domingo, por lo que aplicamos el sentimiento del siguiente día hábil."
   ]
  },
  {
   "cell_type": "code",
   "execution_count": 332,
   "metadata": {},
   "outputs": [
    {
     "data": {
      "text/html": [
       "<div>\n",
       "<style scoped>\n",
       "    .dataframe tbody tr th:only-of-type {\n",
       "        vertical-align: middle;\n",
       "    }\n",
       "\n",
       "    .dataframe tbody tr th {\n",
       "        vertical-align: top;\n",
       "    }\n",
       "\n",
       "    .dataframe thead th {\n",
       "        text-align: right;\n",
       "    }\n",
       "</style>\n",
       "<table border=\"1\" class=\"dataframe\">\n",
       "  <thead>\n",
       "    <tr style=\"text-align: right;\">\n",
       "      <th></th>\n",
       "      <th>source</th>\n",
       "      <th>time</th>\n",
       "      <th>tweet</th>\n",
       "      <th>sentiment</th>\n",
       "    </tr>\n",
       "  </thead>\n",
       "  <tbody>\n",
       "    <tr>\n",
       "      <th>0</th>\n",
       "      <td>elfinanciero_mx</td>\n",
       "      <td>2014-01-01</td>\n",
       "      <td>#BMV superaría los 46 mil puntos en 2014: Accival</td>\n",
       "      <td>-1.0</td>\n",
       "    </tr>\n",
       "    <tr>\n",
       "      <th>1</th>\n",
       "      <td>elfinanciero_mx</td>\n",
       "      <td>2014-01-02</td>\n",
       "      <td>GRÁFICA. ¿Quiénes ganaron y quiénes perdieron ...</td>\n",
       "      <td>-1.0</td>\n",
       "    </tr>\n",
       "    <tr>\n",
       "      <th>2</th>\n",
       "      <td>elfinanciero_mx</td>\n",
       "      <td>2014-01-02</td>\n",
       "      <td>#Mercados #BMV cae 1.12% por toma de utilidade...</td>\n",
       "      <td>-1.0</td>\n",
       "    </tr>\n",
       "    <tr>\n",
       "      <th>3</th>\n",
       "      <td>elfinanciero_mx</td>\n",
       "      <td>2014-01-02</td>\n",
       "      <td>#Mercados #BMV avanza 0.22% en primer sesión d...</td>\n",
       "      <td>-1.0</td>\n",
       "    </tr>\n",
       "    <tr>\n",
       "      <th>4</th>\n",
       "      <td>elfinanciero_mx</td>\n",
       "      <td>2014-01-02</td>\n",
       "      <td>10 ganadoras y 10 perdedoras en la #BMV durant...</td>\n",
       "      <td>-1.0</td>\n",
       "    </tr>\n",
       "  </tbody>\n",
       "</table>\n",
       "</div>"
      ],
      "text/plain": [
       "            source       time  \\\n",
       "0  elfinanciero_mx 2014-01-01   \n",
       "1  elfinanciero_mx 2014-01-02   \n",
       "2  elfinanciero_mx 2014-01-02   \n",
       "3  elfinanciero_mx 2014-01-02   \n",
       "4  elfinanciero_mx 2014-01-02   \n",
       "\n",
       "                                               tweet  sentiment  \n",
       "0  #BMV superaría los 46 mil puntos en 2014: Accival       -1.0  \n",
       "1  GRÁFICA. ¿Quiénes ganaron y quiénes perdieron ...       -1.0  \n",
       "2  #Mercados #BMV cae 1.12% por toma de utilidade...       -1.0  \n",
       "3  #Mercados #BMV avanza 0.22% en primer sesión d...       -1.0  \n",
       "4  10 ganadoras y 10 perdedoras en la #BMV durant...       -1.0  "
      ]
     },
     "execution_count": 332,
     "metadata": {},
     "output_type": "execute_result"
    }
   ],
   "source": [
    "i = -1\n",
    "while np.any(df.sentiment.isna()):\n",
    "    df[\"sent_lag\"] = df.shift(i).sentiment\n",
    "    df.loc[df.sentiment.isna(), \"sentiment\"] = df.loc[df.sentiment.isna(), \"sent_lag\"]\n",
    "    i -= 1\n",
    "df.drop(columns=\"sent_lag\", inplace=True, errors=\"ignore\")\n",
    "df.head()"
   ]
  },
  {
   "cell_type": "markdown",
   "metadata": {},
   "source": [
    "Separamos nuestro data set, con semilla estática, para separa nuestro set en datos de entrenamiento y prueba de manera reproducible."
   ]
  },
  {
   "cell_type": "code",
   "execution_count": 334,
   "metadata": {},
   "outputs": [
    {
     "name": "stdout",
     "output_type": "stream",
     "text": [
      "Tamaño de conjuntos de datos:\n",
      "Entrenamiento: 1410 (59.974479%)\n",
      "Prueba: 941 (40.025521%)\n"
     ]
    }
   ],
   "source": [
    "train, test = train_test_split(df.tweet, test_size=0.4, random_state=175904)\n",
    "print(\"Tamaño de conjuntos de datos:\\nEntrenamiento: %d (%f%%)\\nPrueba: %d (%f%%)\"%(\n",
    "    train.shape[0], 100*train.shape[0]/df.shape[0], \n",
    "    test.shape[0], 100*test.shape[0]/df.shape[0]))"
   ]
  },
  {
   "cell_type": "markdown",
   "metadata": {},
   "source": [
    "Dado que El Financiero y El Economista publican en español utilizaremos las reglas y raíces de este nuestro idioma."
   ]
  },
  {
   "cell_type": "code",
   "execution_count": 340,
   "metadata": {},
   "outputs": [],
   "source": [
    "stop_words = stopwords.words('spanish')\n",
    "stemmer = nltk.stem.SnowballStemmer('spanish')\n",
    "non_words = list(punctuation)\n",
    "non_words.extend(['¿', '¡'])\n",
    "\n",
    "def stem_tokens(tokens, stemmer):\n",
    "    stemmed = []\n",
    "    for item in tokens:\n",
    "        stemmed.append(stemmer.stem(item))\n",
    "    return stemmed\n",
    "def tokenize(text):\n",
    "    text = ''.join([c for c in text if c not in non_words])\n",
    "    tokens = word_tokenize(text)\n",
    "    # stem\n",
    "    try:\n",
    "        stems = stem_tokens(tokens, stemmer)\n",
    "    except Exception as e:\n",
    "        print(e)\n",
    "        print(text)\n",
    "        stems = ['']\n",
    "    return stems\n",
    "\n",
    "vectorizer = CountVectorizer(analyzer = 'word', tokenizer = tokenize,\n",
    "                             lowercase = True, stop_words = stop_words)"
   ]
  },
  {
   "cell_type": "code",
   "execution_count": null,
   "metadata": {},
   "outputs": [],
   "source": []
  }
 ],
 "metadata": {
  "kernelspec": {
   "display_name": "Python 3",
   "language": "python",
   "name": "python3"
  },
  "language_info": {
   "codemirror_mode": {
    "name": "ipython",
    "version": 3
   },
   "file_extension": ".py",
   "mimetype": "text/x-python",
   "name": "python",
   "nbconvert_exporter": "python",
   "pygments_lexer": "ipython3",
   "version": "3.6.3"
  }
 },
 "nbformat": 4,
 "nbformat_minor": 2
}
