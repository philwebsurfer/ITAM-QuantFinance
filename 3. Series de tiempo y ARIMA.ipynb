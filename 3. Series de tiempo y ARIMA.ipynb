{
 "cells": [
  {
   "cell_type": "markdown",
   "metadata": {},
   "source": [
    "# 3. Series de tiempo y ARIMA\n",
    "\n",
    "### Finanzas Cuantitativas y Ciencia de Datos\n",
    "#### Rodrigo Lugo Frias y León Berdichevsky Acosta\n",
    "#### ITAM Primavera 2019\n",
    "\n",
    "\n",
    "Con este notebook pueden ver de principio a fin como trabajar con series de tiempo e implementar un modelo de prediccion basado en ARIMA.\n",
    "\n",
    "---\n",
    "\n",
    "_INSTRUCCIONES:_\n",
    "* Todas las celdas se corren haciendo __Shift + Enter__ o __Ctrl + Enter__\n",
    "\n",
    "_NOTAS:_\n",
    "* _Notebook adaptado de distintas fuentes y proyectos_"
   ]
  },
  {
   "cell_type": "code",
   "execution_count": null,
   "metadata": {
    "collapsed": true
   },
   "outputs": [],
   "source": [
    "%matplotlib inline\n",
    "\n",
    "# Librerias importantes\n",
    "\n",
    "import pandas as pd\n",
    "import numpy as np\n",
    "import matplotlib.pyplot as plt\n",
    "import seaborn as sns\n",
    "sns.set(font_scale=1.5)\n",
    "import datetime as dt\n",
    "\n",
    "#Silence all warnings\n",
    "import warnings\n",
    "warnings.filterwarnings('ignore')"
   ]
  },
  {
   "cell_type": "code",
   "execution_count": null,
   "metadata": {
    "collapsed": true
   },
   "outputs": [],
   "source": [
    "stocks = ['data/ALSEA MM Equity.csv','data/AMXL MM Equity.csv', 'data/BIMBOA MM Equity.csv', 'data/PE&OLES MM Equity.csv']\n",
    "\n",
    "alsea   = pd.read_csv(stocks[0])\n",
    "amxl    = pd.read_csv(stocks[1])\n",
    "bimbo   = pd.read_csv(stocks[2])\n",
    "penoles = pd.read_csv(stocks[3])"
   ]
  },
  {
   "cell_type": "code",
   "execution_count": null,
   "metadata": {
    "collapsed": true
   },
   "outputs": [],
   "source": [
    "penoles.info()"
   ]
  },
  {
   "cell_type": "code",
   "execution_count": null,
   "metadata": {
    "collapsed": true
   },
   "outputs": [],
   "source": [
    "def change_date( df ):\n",
    "    df.Date = df.Date.apply(lambda x : pd.to_datetime(str(x), format = \"%Y%m%d\"))\n",
    "    df.set_index(df.Date, inplace = True)\n",
    "    df = df.copy()[df.columns[1:]]\n",
    "    return df\n",
    "\n",
    "penoles = change_date(penoles)\n",
    "\n",
    "penoles.tail()"
   ]
  },
  {
   "cell_type": "code",
   "execution_count": null,
   "metadata": {
    "collapsed": true
   },
   "outputs": [],
   "source": [
    "penoles.info()"
   ]
  },
  {
   "cell_type": "code",
   "execution_count": null,
   "metadata": {
    "collapsed": true
   },
   "outputs": [],
   "source": [
    "penoles.describe()"
   ]
  },
  {
   "cell_type": "code",
   "execution_count": null,
   "metadata": {
    "collapsed": true
   },
   "outputs": [],
   "source": [
    "alsea = change_date(alsea)\n",
    "amxl  = change_date(amxl)\n",
    "bimbo = change_date(bimbo)"
   ]
  },
  {
   "cell_type": "code",
   "execution_count": null,
   "metadata": {
    "collapsed": true
   },
   "outputs": [],
   "source": [
    "x  = 'Last'\n",
    "df = pd.concat([alsea[x],amxl[x],bimbo[x],penoles[x]],axis=1)\n",
    "df.columns = ['ALSEA', 'AMXL', 'BIMBO', 'PENOLES']\n",
    "df = df.copy().tail(1000)"
   ]
  },
  {
   "cell_type": "code",
   "execution_count": null,
   "metadata": {
    "collapsed": true
   },
   "outputs": [],
   "source": [
    "fig, ax = plt.subplots()\n",
    "ax.set_xlabel(' ')\n",
    "ax.set_ylabel('Price ($ MXN)')\n",
    "ax.set_title('Mexican companies stocks')\n",
    "df.plot(ax = ax, figsize = (10,7))\n",
    "plt.show()"
   ]
  },
  {
   "cell_type": "code",
   "execution_count": null,
   "metadata": {
    "collapsed": true
   },
   "outputs": [],
   "source": [
    "# Yearly average number of shares\n",
    "shares = {'2019': 172e6, '2018': 168e6,  '2017': 162e6,  '2016': 144e6,  '2015': 128e6}\n",
    "\n",
    "# Create a year column \n",
    "df['Year'] = df.index.year\n",
    "\n",
    "# Take Dates from index and move to Date column \n",
    "df.reset_index(level=0, inplace = True)\n",
    "df['MktCap_ALSEA']   = 0\n",
    "df['MktCap_AMXL']    = 0\n",
    "df['MktCap_BIMBO']   = 0\n",
    "df['MktCap_PENOLES'] = 0"
   ]
  },
  {
   "cell_type": "code",
   "execution_count": null,
   "metadata": {
    "collapsed": true
   },
   "outputs": [],
   "source": [
    "df.info()"
   ]
  },
  {
   "cell_type": "code",
   "execution_count": null,
   "metadata": {
    "collapsed": true
   },
   "outputs": [],
   "source": [
    "df.tail()"
   ]
  },
  {
   "cell_type": "code",
   "execution_count": null,
   "metadata": {
    "collapsed": true
   },
   "outputs": [],
   "source": [
    "# Calculate market cap for all years\n",
    "for i, year in enumerate(df['Year']):\n",
    "    # Retrieve the shares for the year\n",
    "    shares_ = shares[str(year)]\n",
    "    \n",
    "    # Update the cap column to shares times the price\n",
    "    df.ix[i, 'MktCap_ALSEA']    = (shares_ * df.ix[i, 'ALSEA'])/1e9\n",
    "    df.ix[i, 'MktCap_AMXL']     = (shares_ * df.ix[i, 'AMXL'])/1e9\n",
    "    df.ix[i, 'MktCap_BIMBO']    = (shares_ * df.ix[i, 'BIMBO'])/1e9\n",
    "    df.ix[i, 'MktCap_PENOLES']  = (shares_ * df.ix[i, 'PENOLES'])/1e9"
   ]
  },
  {
   "cell_type": "code",
   "execution_count": null,
   "metadata": {
    "collapsed": true
   },
   "outputs": [],
   "source": [
    "df.info()"
   ]
  },
  {
   "cell_type": "code",
   "execution_count": null,
   "metadata": {
    "collapsed": true
   },
   "outputs": [],
   "source": [
    "df.sample(5)"
   ]
  },
  {
   "cell_type": "code",
   "execution_count": null,
   "metadata": {
    "collapsed": true
   },
   "outputs": [],
   "source": [
    "market_cap = df.copy()[['Date','MktCap_ALSEA','MktCap_AMXL','MktCap_BIMBO']]\n",
    "market_cap.columns = ['Date','ALSEA', 'AMXL', 'BIMBO']\n",
    "market_cap.set_index('Date',inplace=True)\n",
    "market_cap.tail()"
   ]
  },
  {
   "cell_type": "code",
   "execution_count": null,
   "metadata": {
    "collapsed": true
   },
   "outputs": [],
   "source": [
    "fig, ax = plt.subplots()\n",
    "ax.set_xlabel(' ')\n",
    "ax.set_ylabel('Market Cap ($ Bn)')\n",
    "ax.set_title('Mexican companies stocks')\n",
    "market_cap.plot(ax = ax, figsize = (10,7))\n",
    "plt.show()"
   ]
  },
  {
   "cell_type": "markdown",
   "metadata": {},
   "source": [
    "#### Under this analysis is AMXL still an atractive company to invest?"
   ]
  },
  {
   "cell_type": "code",
   "execution_count": null,
   "metadata": {
    "collapsed": true
   },
   "outputs": [],
   "source": [
    "amxl_corp = df.copy()[['Date','AMXL','MktCap_AMXL']]\n",
    "amxl_corp.set_index('Date',inplace=True)\n",
    "amxl_corp.columns = ['Price','MktCap']\n",
    "\n",
    "fig = plt.figure()\n",
    "ax1 = fig.add_subplot(111)\n",
    "ax2 = ax1.twinx()\n",
    "\n",
    "ax1.set_xlabel(' ')\n",
    "ax1.set_ylabel('Price ($)')\n",
    "ax2.set_ylabel('Market Cap ($ Bn)')\n",
    "ax.set_title('Intel Corporation')\n",
    "\n",
    "amxl_corp.Price.plot(ax = ax1, figsize = (10,7), legend=False, color='r')\n",
    "amxl_corp.MktCap.plot(ax = ax2, figsize = (10,7), legend=False, color='g')\n",
    "\n",
    "plt.show()"
   ]
  },
  {
   "cell_type": "code",
   "execution_count": null,
   "metadata": {
    "collapsed": true
   },
   "outputs": [],
   "source": [
    "fig, ax = plt.subplots()\n",
    "ax.set_xlabel('Price ($)')\n",
    "ax.set_ylabel('Prob. Density')\n",
    "ax.set_title('Technology companies stocks')\n",
    "amxl_corp.Price.plot.density(ax = ax, figsize = (10,7))\n",
    "plt.show()"
   ]
  },
  {
   "cell_type": "markdown",
   "metadata": {},
   "source": [
    "#### ARIMA"
   ]
  },
  {
   "cell_type": "code",
   "execution_count": null,
   "metadata": {
    "collapsed": true
   },
   "outputs": [],
   "source": [
    "from pandas.plotting import autocorrelation_plot\n",
    "\n",
    "amxl_sample = amxl_corp.copy().Price.head(60)\n",
    "\n",
    "fig, ax = plt.subplots()\n",
    "autocorrelation_plot(amxl_sample, ax=ax)\n",
    "plt.show()"
   ]
  },
  {
   "cell_type": "code",
   "execution_count": null,
   "metadata": {
    "collapsed": true
   },
   "outputs": [],
   "source": [
    "from statsmodels.tsa.arima_model import ARIMA\n",
    "\n",
    "model = ARIMA(amxl_sample, order=(2,1,0))\n",
    "model_fit = model.fit(disp=0)\n",
    "print(model_fit.summary())"
   ]
  },
  {
   "cell_type": "code",
   "execution_count": null,
   "metadata": {
    "collapsed": true
   },
   "outputs": [],
   "source": [
    "residuals = pd.DataFrame(model_fit.resid)\n",
    "residuals.plot()\n",
    "plt.show()\n",
    "residuals.plot(kind='kde')\n",
    "plt.show()\n",
    "print(residuals.describe())"
   ]
  },
  {
   "cell_type": "code",
   "execution_count": null,
   "metadata": {
    "collapsed": true
   },
   "outputs": [],
   "source": []
  }
 ],
 "metadata": {
  "kernelspec": {
   "display_name": "Python 3",
   "language": "python",
   "name": "python3"
  },
  "language_info": {
   "codemirror_mode": {
    "name": "ipython",
    "version": 3
   },
   "file_extension": ".py",
   "mimetype": "text/x-python",
   "name": "python",
   "nbconvert_exporter": "python",
   "pygments_lexer": "ipython3",
   "version": "3.6.4"
  }
 },
 "nbformat": 4,
 "nbformat_minor": 2
}
